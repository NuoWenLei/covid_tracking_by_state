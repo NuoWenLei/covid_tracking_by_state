{
  "nbformat": 4,
  "nbformat_minor": 0,
  "metadata": {
    "language_info": {
      "codemirror_mode": {
        "name": "ipython",
        "version": 3
      },
      "file_extension": ".py",
      "mimetype": "text/x-python",
      "name": "python",
      "nbconvert_exporter": "python",
      "pygments_lexer": "ipython3",
      "version": "3.7.9-final"
    },
    "orig_nbformat": 2,
    "kernelspec": {
      "name": "python3",
      "display_name": "Python 3.7.9 64-bit",
      "metadata": {
        "interpreter": {
          "hash": "aee8b7b246df8f9039afb4144a1f6fd8d2ca17a180786b69acc140d282b71a49"
        }
      }
    },
    "colab": {
      "name": "full_notebook.ipynb",
      "provenance": []
    },
    "accelerator": "GPU"
  },
  "cells": [
    {
      "cell_type": "code",
      "metadata": {
        "id": "IZ-G1Epkbt5w",
        "colab": {
          "base_uri": "https://localhost:8080/",
          "height": 103
        },
        "outputId": "db15f098-b3ce-4cb0-ccc2-c6f25a848a10"
      },
      "source": [
        "import json, requests\n",
        "url_format = 'https://raw.githubusercontent.com/NuoWenLei/covid_tracking_by_state/main/state_data/alabama.csv'\n",
        "headers = {\"User-Agent\": \"Mozilla/5.0 (Windows NT 10.0; Win64; x64) AppleWebKit/537.36 (KHTML, like Gecko) Chrome/70.0.3538.77 Safari/537.36\"}\n",
        "r = requests.get('https://raw.githubusercontent.com/NuoWenLei/covid_tracking_by_state/main/state_name_list.json', headers=headers)\n",
        "r.text"
      ],
      "execution_count": 1,
      "outputs": [
        {
          "output_type": "execute_result",
          "data": {
            "application/vnd.google.colaboratory.intrinsic+json": {
              "type": "string"
            },
            "text/plain": [
              "'[\"alabama\", \"alaska\", \"american-samoa\", \"arizona\", \"arkansas\", \"california\", \"colorado\", \"connecticut\", \"delaware\", \"district-of-columbia\", \"florida\", \"georgia\", \"guam\", \"hawaii\", \"idaho\", \"illinois\", \"indiana\", \"iowa\", \"kansas\", \"kentucky\", \"louisiana\", \"maine\", \"maryland\", \"massachusetts\", \"michigan\", \"minnesota\", \"mississippi\", \"missouri\", \"montana\", \"nebraska\", \"nevada\", \"new-hampshire\", \"new-jersey\", \"new-mexico\", \"new-york\", \"north-carolina\", \"north-dakota\", \"northern-mariana-islands\", \"ohio\", \"oklahoma\", \"oregon\", \"pennsylvania\", \"puerto-rico\", \"rhode-island\", \"south-carolina\", \"south-dakota\", \"tennessee\", \"texas\", \"us-virgin-islands\", \"utah\", \"vermont\", \"virginia\", \"washington\", \"west-virginia\", \"wisconsin\", \"wyoming\"]'"
            ]
          },
          "metadata": {
            "tags": []
          },
          "execution_count": 1
        }
      ]
    },
    {
      "cell_type": "code",
      "metadata": {
        "id": "Z335Q2Vvbt51"
      },
      "source": [
        "state_names = json.loads(r.text)"
      ],
      "execution_count": 2,
      "outputs": []
    },
    {
      "cell_type": "markdown",
      "metadata": {
        "id": "EANSDGSQbt52"
      },
      "source": [
        "# Data Cleaning"
      ]
    },
    {
      "cell_type": "code",
      "metadata": {
        "id": "QTu-8rEwbt52",
        "colab": {
          "base_uri": "https://localhost:8080/"
        },
        "outputId": "930aac32-d33a-4f66-f7ba-6337d805eb0a"
      },
      "source": [
        "from io import StringIO\n",
        "import pandas as pd, numpy as np\n",
        "state_pandas_dict_raw = {}\n",
        "\n",
        "for state in state_names:\n",
        "    print(state)\n",
        "    r = requests.get('https://raw.githubusercontent.com/NuoWenLei/covid_tracking_by_state/main/state_data/{}.csv'.format(state), headers=headers)\n",
        "    state_pandas_dict_raw[state] = pd.read_csv(StringIO(r.text))\n"
      ],
      "execution_count": 3,
      "outputs": [
        {
          "output_type": "stream",
          "text": [
            "alabama\n",
            "alaska\n",
            "american-samoa\n",
            "arizona\n",
            "arkansas\n",
            "california\n",
            "colorado\n",
            "connecticut\n",
            "delaware\n",
            "district-of-columbia\n",
            "florida\n",
            "georgia\n",
            "guam\n",
            "hawaii\n",
            "idaho\n",
            "illinois\n",
            "indiana\n",
            "iowa\n",
            "kansas\n",
            "kentucky\n",
            "louisiana\n",
            "maine\n",
            "maryland\n",
            "massachusetts\n",
            "michigan\n",
            "minnesota\n",
            "mississippi\n",
            "missouri\n",
            "montana\n",
            "nebraska\n",
            "nevada\n",
            "new-hampshire\n",
            "new-jersey\n",
            "new-mexico\n",
            "new-york\n",
            "north-carolina\n",
            "north-dakota\n",
            "northern-mariana-islands\n",
            "ohio\n",
            "oklahoma\n",
            "oregon\n",
            "pennsylvania\n",
            "puerto-rico\n",
            "rhode-island\n",
            "south-carolina\n",
            "south-dakota\n",
            "tennessee\n",
            "texas\n",
            "us-virgin-islands\n",
            "utah\n",
            "vermont\n",
            "virginia\n",
            "washington\n",
            "west-virginia\n",
            "wisconsin\n",
            "wyoming\n"
          ],
          "name": "stdout"
        }
      ]
    },
    {
      "cell_type": "code",
      "metadata": {
        "id": "zaRcWiy0bt52",
        "colab": {
          "base_uri": "https://localhost:8080/",
          "height": 609
        },
        "outputId": "de7edd16-1ee9-455e-bb76-f29020736027"
      },
      "source": [
        "state_pandas_dict_raw[state_names[0]]"
      ],
      "execution_count": 4,
      "outputs": [
        {
          "output_type": "execute_result",
          "data": {
            "text/html": [
              "<div>\n",
              "<style scoped>\n",
              "    .dataframe tbody tr th:only-of-type {\n",
              "        vertical-align: middle;\n",
              "    }\n",
              "\n",
              "    .dataframe tbody tr th {\n",
              "        vertical-align: top;\n",
              "    }\n",
              "\n",
              "    .dataframe thead th {\n",
              "        text-align: right;\n",
              "    }\n",
              "</style>\n",
              "<table border=\"1\" class=\"dataframe\">\n",
              "  <thead>\n",
              "    <tr style=\"text-align: right;\">\n",
              "      <th></th>\n",
              "      <th>date</th>\n",
              "      <th>state</th>\n",
              "      <th>death</th>\n",
              "      <th>deathConfirmed</th>\n",
              "      <th>deathIncrease</th>\n",
              "      <th>deathProbable</th>\n",
              "      <th>hospitalized</th>\n",
              "      <th>hospitalizedCumulative</th>\n",
              "      <th>hospitalizedCurrently</th>\n",
              "      <th>hospitalizedIncrease</th>\n",
              "      <th>inIcuCumulative</th>\n",
              "      <th>inIcuCurrently</th>\n",
              "      <th>negative</th>\n",
              "      <th>negativeIncrease</th>\n",
              "      <th>negativeTestsAntibody</th>\n",
              "      <th>negativeTestsPeopleAntibody</th>\n",
              "      <th>negativeTestsViral</th>\n",
              "      <th>onVentilatorCumulative</th>\n",
              "      <th>onVentilatorCurrently</th>\n",
              "      <th>positive</th>\n",
              "      <th>positiveCasesViral</th>\n",
              "      <th>positiveIncrease</th>\n",
              "      <th>positiveScore</th>\n",
              "      <th>positiveTestsAntibody</th>\n",
              "      <th>positiveTestsAntigen</th>\n",
              "      <th>positiveTestsPeopleAntibody</th>\n",
              "      <th>positiveTestsPeopleAntigen</th>\n",
              "      <th>positiveTestsViral</th>\n",
              "      <th>recovered</th>\n",
              "      <th>totalTestEncountersViral</th>\n",
              "      <th>totalTestEncountersViralIncrease</th>\n",
              "      <th>totalTestResults</th>\n",
              "      <th>totalTestResultsIncrease</th>\n",
              "      <th>totalTestsAntibody</th>\n",
              "      <th>totalTestsAntigen</th>\n",
              "      <th>totalTestsPeopleAntibody</th>\n",
              "      <th>totalTestsPeopleAntigen</th>\n",
              "      <th>totalTestsPeopleViral</th>\n",
              "      <th>totalTestsPeopleViralIncrease</th>\n",
              "      <th>totalTestsViral</th>\n",
              "      <th>totalTestsViralIncrease</th>\n",
              "    </tr>\n",
              "  </thead>\n",
              "  <tbody>\n",
              "    <tr>\n",
              "      <th>0</th>\n",
              "      <td>2021-03-04</td>\n",
              "      <td>AL</td>\n",
              "      <td>10094.0</td>\n",
              "      <td>7920.0</td>\n",
              "      <td>65</td>\n",
              "      <td>2174.0</td>\n",
              "      <td>45807.0</td>\n",
              "      <td>45807.0</td>\n",
              "      <td>544.0</td>\n",
              "      <td>84</td>\n",
              "      <td>2666.0</td>\n",
              "      <td>NaN</td>\n",
              "      <td>1920535.0</td>\n",
              "      <td>4990</td>\n",
              "      <td>NaN</td>\n",
              "      <td>NaN</td>\n",
              "      <td>NaN</td>\n",
              "      <td>1513.0</td>\n",
              "      <td>NaN</td>\n",
              "      <td>498076</td>\n",
              "      <td>390672</td>\n",
              "      <td>922</td>\n",
              "      <td>0</td>\n",
              "      <td>NaN</td>\n",
              "      <td>NaN</td>\n",
              "      <td>NaN</td>\n",
              "      <td>NaN</td>\n",
              "      <td>NaN</td>\n",
              "      <td>295690.0</td>\n",
              "      <td>NaN</td>\n",
              "      <td>0</td>\n",
              "      <td>2311207</td>\n",
              "      <td>5890</td>\n",
              "      <td>NaN</td>\n",
              "      <td>NaN</td>\n",
              "      <td>118631.0</td>\n",
              "      <td>NaN</td>\n",
              "      <td>2311207</td>\n",
              "      <td>5890</td>\n",
              "      <td>NaN</td>\n",
              "      <td>0</td>\n",
              "    </tr>\n",
              "    <tr>\n",
              "      <th>1</th>\n",
              "      <td>2021-03-03</td>\n",
              "      <td>AL</td>\n",
              "      <td>10029.0</td>\n",
              "      <td>7872.0</td>\n",
              "      <td>38</td>\n",
              "      <td>2157.0</td>\n",
              "      <td>45723.0</td>\n",
              "      <td>45723.0</td>\n",
              "      <td>559.0</td>\n",
              "      <td>24</td>\n",
              "      <td>2662.0</td>\n",
              "      <td>NaN</td>\n",
              "      <td>1915545.0</td>\n",
              "      <td>7243</td>\n",
              "      <td>NaN</td>\n",
              "      <td>NaN</td>\n",
              "      <td>NaN</td>\n",
              "      <td>1510.0</td>\n",
              "      <td>NaN</td>\n",
              "      <td>497154</td>\n",
              "      <td>389772</td>\n",
              "      <td>2733</td>\n",
              "      <td>0</td>\n",
              "      <td>NaN</td>\n",
              "      <td>NaN</td>\n",
              "      <td>NaN</td>\n",
              "      <td>NaN</td>\n",
              "      <td>NaN</td>\n",
              "      <td>295690.0</td>\n",
              "      <td>NaN</td>\n",
              "      <td>0</td>\n",
              "      <td>2305317</td>\n",
              "      <td>9595</td>\n",
              "      <td>NaN</td>\n",
              "      <td>NaN</td>\n",
              "      <td>118154.0</td>\n",
              "      <td>NaN</td>\n",
              "      <td>2305317</td>\n",
              "      <td>9595</td>\n",
              "      <td>NaN</td>\n",
              "      <td>0</td>\n",
              "    </tr>\n",
              "    <tr>\n",
              "      <th>2</th>\n",
              "      <td>2021-03-02</td>\n",
              "      <td>AL</td>\n",
              "      <td>9991.0</td>\n",
              "      <td>7840.0</td>\n",
              "      <td>60</td>\n",
              "      <td>2151.0</td>\n",
              "      <td>45699.0</td>\n",
              "      <td>45699.0</td>\n",
              "      <td>631.0</td>\n",
              "      <td>51</td>\n",
              "      <td>2659.0</td>\n",
              "      <td>NaN</td>\n",
              "      <td>1908302.0</td>\n",
              "      <td>3161</td>\n",
              "      <td>NaN</td>\n",
              "      <td>NaN</td>\n",
              "      <td>NaN</td>\n",
              "      <td>1509.0</td>\n",
              "      <td>NaN</td>\n",
              "      <td>494421</td>\n",
              "      <td>387420</td>\n",
              "      <td>652</td>\n",
              "      <td>0</td>\n",
              "      <td>NaN</td>\n",
              "      <td>NaN</td>\n",
              "      <td>NaN</td>\n",
              "      <td>NaN</td>\n",
              "      <td>NaN</td>\n",
              "      <td>285130.0</td>\n",
              "      <td>NaN</td>\n",
              "      <td>0</td>\n",
              "      <td>2295722</td>\n",
              "      <td>3648</td>\n",
              "      <td>NaN</td>\n",
              "      <td>NaN</td>\n",
              "      <td>117904.0</td>\n",
              "      <td>NaN</td>\n",
              "      <td>2295722</td>\n",
              "      <td>3648</td>\n",
              "      <td>NaN</td>\n",
              "      <td>0</td>\n",
              "    </tr>\n",
              "    <tr>\n",
              "      <th>3</th>\n",
              "      <td>2021-03-01</td>\n",
              "      <td>AL</td>\n",
              "      <td>9931.0</td>\n",
              "      <td>7789.0</td>\n",
              "      <td>2</td>\n",
              "      <td>2142.0</td>\n",
              "      <td>45648.0</td>\n",
              "      <td>45648.0</td>\n",
              "      <td>651.0</td>\n",
              "      <td>220</td>\n",
              "      <td>2651.0</td>\n",
              "      <td>NaN</td>\n",
              "      <td>1905141.0</td>\n",
              "      <td>1450</td>\n",
              "      <td>NaN</td>\n",
              "      <td>NaN</td>\n",
              "      <td>NaN</td>\n",
              "      <td>1508.0</td>\n",
              "      <td>NaN</td>\n",
              "      <td>493769</td>\n",
              "      <td>386933</td>\n",
              "      <td>517</td>\n",
              "      <td>0</td>\n",
              "      <td>NaN</td>\n",
              "      <td>NaN</td>\n",
              "      <td>NaN</td>\n",
              "      <td>NaN</td>\n",
              "      <td>NaN</td>\n",
              "      <td>285130.0</td>\n",
              "      <td>NaN</td>\n",
              "      <td>0</td>\n",
              "      <td>2292074</td>\n",
              "      <td>1858</td>\n",
              "      <td>NaN</td>\n",
              "      <td>NaN</td>\n",
              "      <td>117746.0</td>\n",
              "      <td>NaN</td>\n",
              "      <td>2292074</td>\n",
              "      <td>1858</td>\n",
              "      <td>NaN</td>\n",
              "      <td>0</td>\n",
              "    </tr>\n",
              "    <tr>\n",
              "      <th>4</th>\n",
              "      <td>2021-02-28</td>\n",
              "      <td>AL</td>\n",
              "      <td>9929.0</td>\n",
              "      <td>7787.0</td>\n",
              "      <td>-1</td>\n",
              "      <td>2142.0</td>\n",
              "      <td>45428.0</td>\n",
              "      <td>45428.0</td>\n",
              "      <td>657.0</td>\n",
              "      <td>0</td>\n",
              "      <td>2650.0</td>\n",
              "      <td>NaN</td>\n",
              "      <td>1903691.0</td>\n",
              "      <td>2776</td>\n",
              "      <td>NaN</td>\n",
              "      <td>NaN</td>\n",
              "      <td>NaN</td>\n",
              "      <td>1508.0</td>\n",
              "      <td>NaN</td>\n",
              "      <td>493252</td>\n",
              "      <td>386525</td>\n",
              "      <td>569</td>\n",
              "      <td>0</td>\n",
              "      <td>NaN</td>\n",
              "      <td>NaN</td>\n",
              "      <td>NaN</td>\n",
              "      <td>NaN</td>\n",
              "      <td>NaN</td>\n",
              "      <td>285130.0</td>\n",
              "      <td>NaN</td>\n",
              "      <td>0</td>\n",
              "      <td>2290216</td>\n",
              "      <td>3265</td>\n",
              "      <td>NaN</td>\n",
              "      <td>NaN</td>\n",
              "      <td>117548.0</td>\n",
              "      <td>NaN</td>\n",
              "      <td>2290216</td>\n",
              "      <td>3265</td>\n",
              "      <td>NaN</td>\n",
              "      <td>0</td>\n",
              "    </tr>\n",
              "    <tr>\n",
              "      <th>...</th>\n",
              "      <td>...</td>\n",
              "      <td>...</td>\n",
              "      <td>...</td>\n",
              "      <td>...</td>\n",
              "      <td>...</td>\n",
              "      <td>...</td>\n",
              "      <td>...</td>\n",
              "      <td>...</td>\n",
              "      <td>...</td>\n",
              "      <td>...</td>\n",
              "      <td>...</td>\n",
              "      <td>...</td>\n",
              "      <td>...</td>\n",
              "      <td>...</td>\n",
              "      <td>...</td>\n",
              "      <td>...</td>\n",
              "      <td>...</td>\n",
              "      <td>...</td>\n",
              "      <td>...</td>\n",
              "      <td>...</td>\n",
              "      <td>...</td>\n",
              "      <td>...</td>\n",
              "      <td>...</td>\n",
              "      <td>...</td>\n",
              "      <td>...</td>\n",
              "      <td>...</td>\n",
              "      <td>...</td>\n",
              "      <td>...</td>\n",
              "      <td>...</td>\n",
              "      <td>...</td>\n",
              "      <td>...</td>\n",
              "      <td>...</td>\n",
              "      <td>...</td>\n",
              "      <td>...</td>\n",
              "      <td>...</td>\n",
              "      <td>...</td>\n",
              "      <td>...</td>\n",
              "      <td>...</td>\n",
              "      <td>...</td>\n",
              "      <td>...</td>\n",
              "      <td>...</td>\n",
              "    </tr>\n",
              "    <tr>\n",
              "      <th>358</th>\n",
              "      <td>2020-03-11</td>\n",
              "      <td>AL</td>\n",
              "      <td>NaN</td>\n",
              "      <td>NaN</td>\n",
              "      <td>0</td>\n",
              "      <td>NaN</td>\n",
              "      <td>NaN</td>\n",
              "      <td>NaN</td>\n",
              "      <td>NaN</td>\n",
              "      <td>0</td>\n",
              "      <td>NaN</td>\n",
              "      <td>NaN</td>\n",
              "      <td>10.0</td>\n",
              "      <td>10</td>\n",
              "      <td>NaN</td>\n",
              "      <td>NaN</td>\n",
              "      <td>NaN</td>\n",
              "      <td>NaN</td>\n",
              "      <td>NaN</td>\n",
              "      <td>0</td>\n",
              "      <td>0</td>\n",
              "      <td>0</td>\n",
              "      <td>0</td>\n",
              "      <td>NaN</td>\n",
              "      <td>NaN</td>\n",
              "      <td>NaN</td>\n",
              "      <td>NaN</td>\n",
              "      <td>NaN</td>\n",
              "      <td>NaN</td>\n",
              "      <td>NaN</td>\n",
              "      <td>0</td>\n",
              "      <td>10</td>\n",
              "      <td>10</td>\n",
              "      <td>NaN</td>\n",
              "      <td>NaN</td>\n",
              "      <td>NaN</td>\n",
              "      <td>NaN</td>\n",
              "      <td>10</td>\n",
              "      <td>10</td>\n",
              "      <td>NaN</td>\n",
              "      <td>0</td>\n",
              "    </tr>\n",
              "    <tr>\n",
              "      <th>359</th>\n",
              "      <td>2020-03-10</td>\n",
              "      <td>AL</td>\n",
              "      <td>NaN</td>\n",
              "      <td>NaN</td>\n",
              "      <td>0</td>\n",
              "      <td>NaN</td>\n",
              "      <td>NaN</td>\n",
              "      <td>NaN</td>\n",
              "      <td>NaN</td>\n",
              "      <td>0</td>\n",
              "      <td>NaN</td>\n",
              "      <td>NaN</td>\n",
              "      <td>0.0</td>\n",
              "      <td>0</td>\n",
              "      <td>NaN</td>\n",
              "      <td>NaN</td>\n",
              "      <td>NaN</td>\n",
              "      <td>NaN</td>\n",
              "      <td>NaN</td>\n",
              "      <td>0</td>\n",
              "      <td>0</td>\n",
              "      <td>0</td>\n",
              "      <td>0</td>\n",
              "      <td>NaN</td>\n",
              "      <td>NaN</td>\n",
              "      <td>NaN</td>\n",
              "      <td>NaN</td>\n",
              "      <td>NaN</td>\n",
              "      <td>NaN</td>\n",
              "      <td>NaN</td>\n",
              "      <td>0</td>\n",
              "      <td>0</td>\n",
              "      <td>0</td>\n",
              "      <td>NaN</td>\n",
              "      <td>NaN</td>\n",
              "      <td>NaN</td>\n",
              "      <td>NaN</td>\n",
              "      <td>0</td>\n",
              "      <td>0</td>\n",
              "      <td>NaN</td>\n",
              "      <td>0</td>\n",
              "    </tr>\n",
              "    <tr>\n",
              "      <th>360</th>\n",
              "      <td>2020-03-09</td>\n",
              "      <td>AL</td>\n",
              "      <td>NaN</td>\n",
              "      <td>NaN</td>\n",
              "      <td>0</td>\n",
              "      <td>NaN</td>\n",
              "      <td>NaN</td>\n",
              "      <td>NaN</td>\n",
              "      <td>NaN</td>\n",
              "      <td>0</td>\n",
              "      <td>NaN</td>\n",
              "      <td>NaN</td>\n",
              "      <td>NaN</td>\n",
              "      <td>0</td>\n",
              "      <td>NaN</td>\n",
              "      <td>NaN</td>\n",
              "      <td>NaN</td>\n",
              "      <td>NaN</td>\n",
              "      <td>NaN</td>\n",
              "      <td>0</td>\n",
              "      <td>0</td>\n",
              "      <td>0</td>\n",
              "      <td>0</td>\n",
              "      <td>NaN</td>\n",
              "      <td>NaN</td>\n",
              "      <td>NaN</td>\n",
              "      <td>NaN</td>\n",
              "      <td>NaN</td>\n",
              "      <td>NaN</td>\n",
              "      <td>NaN</td>\n",
              "      <td>0</td>\n",
              "      <td>0</td>\n",
              "      <td>0</td>\n",
              "      <td>NaN</td>\n",
              "      <td>NaN</td>\n",
              "      <td>NaN</td>\n",
              "      <td>NaN</td>\n",
              "      <td>0</td>\n",
              "      <td>0</td>\n",
              "      <td>NaN</td>\n",
              "      <td>0</td>\n",
              "    </tr>\n",
              "    <tr>\n",
              "      <th>361</th>\n",
              "      <td>2020-03-08</td>\n",
              "      <td>AL</td>\n",
              "      <td>NaN</td>\n",
              "      <td>NaN</td>\n",
              "      <td>0</td>\n",
              "      <td>NaN</td>\n",
              "      <td>NaN</td>\n",
              "      <td>NaN</td>\n",
              "      <td>NaN</td>\n",
              "      <td>0</td>\n",
              "      <td>NaN</td>\n",
              "      <td>NaN</td>\n",
              "      <td>NaN</td>\n",
              "      <td>0</td>\n",
              "      <td>NaN</td>\n",
              "      <td>NaN</td>\n",
              "      <td>NaN</td>\n",
              "      <td>NaN</td>\n",
              "      <td>NaN</td>\n",
              "      <td>0</td>\n",
              "      <td>0</td>\n",
              "      <td>0</td>\n",
              "      <td>0</td>\n",
              "      <td>NaN</td>\n",
              "      <td>NaN</td>\n",
              "      <td>NaN</td>\n",
              "      <td>NaN</td>\n",
              "      <td>NaN</td>\n",
              "      <td>NaN</td>\n",
              "      <td>NaN</td>\n",
              "      <td>0</td>\n",
              "      <td>0</td>\n",
              "      <td>0</td>\n",
              "      <td>NaN</td>\n",
              "      <td>NaN</td>\n",
              "      <td>NaN</td>\n",
              "      <td>NaN</td>\n",
              "      <td>0</td>\n",
              "      <td>0</td>\n",
              "      <td>NaN</td>\n",
              "      <td>0</td>\n",
              "    </tr>\n",
              "    <tr>\n",
              "      <th>362</th>\n",
              "      <td>2020-03-07</td>\n",
              "      <td>AL</td>\n",
              "      <td>NaN</td>\n",
              "      <td>NaN</td>\n",
              "      <td>0</td>\n",
              "      <td>NaN</td>\n",
              "      <td>NaN</td>\n",
              "      <td>NaN</td>\n",
              "      <td>NaN</td>\n",
              "      <td>0</td>\n",
              "      <td>NaN</td>\n",
              "      <td>NaN</td>\n",
              "      <td>NaN</td>\n",
              "      <td>0</td>\n",
              "      <td>NaN</td>\n",
              "      <td>NaN</td>\n",
              "      <td>NaN</td>\n",
              "      <td>NaN</td>\n",
              "      <td>NaN</td>\n",
              "      <td>0</td>\n",
              "      <td>0</td>\n",
              "      <td>0</td>\n",
              "      <td>0</td>\n",
              "      <td>NaN</td>\n",
              "      <td>NaN</td>\n",
              "      <td>NaN</td>\n",
              "      <td>NaN</td>\n",
              "      <td>NaN</td>\n",
              "      <td>NaN</td>\n",
              "      <td>NaN</td>\n",
              "      <td>0</td>\n",
              "      <td>0</td>\n",
              "      <td>0</td>\n",
              "      <td>NaN</td>\n",
              "      <td>NaN</td>\n",
              "      <td>NaN</td>\n",
              "      <td>NaN</td>\n",
              "      <td>0</td>\n",
              "      <td>0</td>\n",
              "      <td>NaN</td>\n",
              "      <td>0</td>\n",
              "    </tr>\n",
              "  </tbody>\n",
              "</table>\n",
              "<p>363 rows × 41 columns</p>\n",
              "</div>"
            ],
            "text/plain": [
              "           date state  ...  totalTestsViral  totalTestsViralIncrease\n",
              "0    2021-03-04    AL  ...              NaN                        0\n",
              "1    2021-03-03    AL  ...              NaN                        0\n",
              "2    2021-03-02    AL  ...              NaN                        0\n",
              "3    2021-03-01    AL  ...              NaN                        0\n",
              "4    2021-02-28    AL  ...              NaN                        0\n",
              "..          ...   ...  ...              ...                      ...\n",
              "358  2020-03-11    AL  ...              NaN                        0\n",
              "359  2020-03-10    AL  ...              NaN                        0\n",
              "360  2020-03-09    AL  ...              NaN                        0\n",
              "361  2020-03-08    AL  ...              NaN                        0\n",
              "362  2020-03-07    AL  ...              NaN                        0\n",
              "\n",
              "[363 rows x 41 columns]"
            ]
          },
          "metadata": {
            "tags": []
          },
          "execution_count": 4
        }
      ]
    },
    {
      "cell_type": "code",
      "metadata": {
        "tags": [],
        "id": "6Yg4zw3kbt53",
        "colab": {
          "base_uri": "https://localhost:8080/"
        },
        "outputId": "15af1f44-7a20-4ac1-c19f-b0ff907946d0"
      },
      "source": [
        "# find bad columns that is all nan\n",
        "import matplotlib.pyplot as plt, seaborn as sns\n",
        "state_pandas_dict = {}\n",
        "nan_columns = []\n",
        "all_columns = state_pandas_dict_raw[state].columns.values\n",
        "must_columns = [i for i in all_columns if 'Increase' in i] + ['deathConfirmed', 'death']\n",
        "good_states = []\n",
        "print(must_columns)\n",
        "for i, state in enumerate(state_names):\n",
        "    state_pandas_dict[state] = state_pandas_dict_raw[state].drop(['state', 'date'], axis=1).astype('float64').fillna(0.0)\n",
        "    print(state_pandas_dict[state].shape)\n",
        "    for col in must_columns:\n",
        "        if state_pandas_dict_raw[state][state_pandas_dict_raw[state][col].notna()].shape[0] < 200:\n",
        "            print('State {} skipped due to insufficient data'.format(state))\n",
        "            break\n",
        "    else:\n",
        "        good_states.append(state)\n",
        "        for col in state_pandas_dict[state].columns.values:\n",
        "            if state_pandas_dict[state][col].sum() == 0:\n",
        "                if col not in nan_columns:\n",
        "                    nan_columns.append(col)\n",
        "print(len(nan_columns))"
      ],
      "execution_count": 5,
      "outputs": [
        {
          "output_type": "stream",
          "text": [
            "['deathIncrease', 'hospitalizedIncrease', 'negativeIncrease', 'positiveIncrease', 'totalTestEncountersViralIncrease', 'totalTestResultsIncrease', 'totalTestsPeopleViralIncrease', 'totalTestsViralIncrease', 'deathConfirmed', 'death']\n",
            "(363, 39)\n",
            "(364, 39)\n",
            "(354, 39)\n",
            "State american-samoa skipped due to insufficient data\n",
            "(366, 39)\n",
            "(364, 39)\n",
            "State arkansas skipped due to insufficient data\n",
            "(366, 39)\n",
            "State california skipped due to insufficient data\n",
            "(366, 39)\n",
            "(370, 39)\n",
            "(364, 39)\n",
            "(365, 39)\n",
            "State district-of-columbia skipped due to insufficient data\n",
            "(401, 39)\n",
            "State florida skipped due to insufficient data\n",
            "(366, 39)\n",
            "State georgia skipped due to insufficient data\n",
            "(354, 39)\n",
            "State guam skipped due to insufficient data\n",
            "(366, 39)\n",
            "(363, 39)\n",
            "(366, 39)\n",
            "(372, 39)\n",
            "(364, 39)\n",
            "State iowa skipped due to insufficient data\n",
            "(364, 39)\n",
            "State kansas skipped due to insufficient data\n",
            "(364, 39)\n",
            "(363, 39)\n",
            "(363, 39)\n",
            "(365, 39)\n",
            "(408, 39)\n",
            "(369, 39)\n",
            "(364, 39)\n",
            "(363, 39)\n",
            "(363, 39)\n",
            "State missouri skipped due to insufficient data\n",
            "(363, 39)\n",
            "State montana skipped due to insufficient data\n",
            "(384, 39)\n",
            "State nebraska skipped due to insufficient data\n",
            "(365, 39)\n",
            "State nevada skipped due to insufficient data\n",
            "(366, 39)\n",
            "State new-hampshire skipped due to insufficient data\n",
            "(389, 39)\n",
            "(365, 39)\n",
            "State new-mexico skipped due to insufficient data\n",
            "(368, 39)\n",
            "State new-york skipped due to insufficient data\n",
            "(366, 39)\n",
            "(363, 39)\n",
            "State north-dakota skipped due to insufficient data\n",
            "(354, 39)\n",
            "State northern-mariana-islands skipped due to insufficient data\n",
            "(365, 39)\n",
            "(363, 39)\n",
            "State oklahoma skipped due to insufficient data\n",
            "(366, 39)\n",
            "State oregon skipped due to insufficient data\n",
            "(367, 39)\n",
            "State pennsylvania skipped due to insufficient data\n",
            "(354, 39)\n",
            "(369, 39)\n",
            "State rhode-island skipped due to insufficient data\n",
            "(366, 39)\n",
            "(363, 39)\n",
            "State south-dakota skipped due to insufficient data\n",
            "(365, 39)\n",
            "(367, 39)\n",
            "State texas skipped due to insufficient data\n",
            "(354, 39)\n",
            "State us-virgin-islands skipped due to insufficient data\n",
            "(363, 39)\n",
            "State utah skipped due to insufficient data\n",
            "(367, 39)\n",
            "(403, 39)\n",
            "(417, 39)\n",
            "(364, 39)\n",
            "(367, 39)\n",
            "(369, 39)\n",
            "State wyoming skipped due to insufficient data\n",
            "31\n"
          ],
          "name": "stdout"
        }
      ]
    },
    {
      "cell_type": "code",
      "metadata": {
        "id": "aNvjBzydbt53"
      },
      "source": [
        "# Drop bad columns\n",
        "for i, state in enumerate(good_states):\n",
        "    state_pandas_dict[state] = state_pandas_dict[state].drop(nan_columns, axis=1)"
      ],
      "execution_count": 6,
      "outputs": []
    },
    {
      "cell_type": "code",
      "metadata": {
        "id": "zEDUkLh_bt53"
      },
      "source": [
        "# Rename state columns with their state name included\n",
        "good_cols = state_pandas_dict[good_states[0]].columns.values\n",
        "for state in good_states:\n",
        "    new_cols = ['{} - {}'.format(state, i) for i in good_cols]\n",
        "    state_pandas_dict[state].columns = new_cols"
      ],
      "execution_count": 7,
      "outputs": []
    },
    {
      "cell_type": "code",
      "metadata": {
        "id": "4hD4RYZsbt54",
        "colab": {
          "base_uri": "https://localhost:8080/",
          "height": 221
        },
        "outputId": "410072f9-1fd8-4b58-fa1b-4f8be97b2f7f"
      },
      "source": [
        "state_pandas_dict[good_states[0]].head()"
      ],
      "execution_count": 8,
      "outputs": [
        {
          "output_type": "execute_result",
          "data": {
            "text/html": [
              "<div>\n",
              "<style scoped>\n",
              "    .dataframe tbody tr th:only-of-type {\n",
              "        vertical-align: middle;\n",
              "    }\n",
              "\n",
              "    .dataframe tbody tr th {\n",
              "        vertical-align: top;\n",
              "    }\n",
              "\n",
              "    .dataframe thead th {\n",
              "        text-align: right;\n",
              "    }\n",
              "</style>\n",
              "<table border=\"1\" class=\"dataframe\">\n",
              "  <thead>\n",
              "    <tr style=\"text-align: right;\">\n",
              "      <th></th>\n",
              "      <th>alabama - death</th>\n",
              "      <th>alabama - deathConfirmed</th>\n",
              "      <th>alabama - deathIncrease</th>\n",
              "      <th>alabama - hospitalizedCurrently</th>\n",
              "      <th>alabama - positive</th>\n",
              "      <th>alabama - positiveIncrease</th>\n",
              "      <th>alabama - totalTestResults</th>\n",
              "      <th>alabama - totalTestResultsIncrease</th>\n",
              "    </tr>\n",
              "  </thead>\n",
              "  <tbody>\n",
              "    <tr>\n",
              "      <th>0</th>\n",
              "      <td>10094.0</td>\n",
              "      <td>7920.0</td>\n",
              "      <td>65.0</td>\n",
              "      <td>544.0</td>\n",
              "      <td>498076.0</td>\n",
              "      <td>922.0</td>\n",
              "      <td>2311207.0</td>\n",
              "      <td>5890.0</td>\n",
              "    </tr>\n",
              "    <tr>\n",
              "      <th>1</th>\n",
              "      <td>10029.0</td>\n",
              "      <td>7872.0</td>\n",
              "      <td>38.0</td>\n",
              "      <td>559.0</td>\n",
              "      <td>497154.0</td>\n",
              "      <td>2733.0</td>\n",
              "      <td>2305317.0</td>\n",
              "      <td>9595.0</td>\n",
              "    </tr>\n",
              "    <tr>\n",
              "      <th>2</th>\n",
              "      <td>9991.0</td>\n",
              "      <td>7840.0</td>\n",
              "      <td>60.0</td>\n",
              "      <td>631.0</td>\n",
              "      <td>494421.0</td>\n",
              "      <td>652.0</td>\n",
              "      <td>2295722.0</td>\n",
              "      <td>3648.0</td>\n",
              "    </tr>\n",
              "    <tr>\n",
              "      <th>3</th>\n",
              "      <td>9931.0</td>\n",
              "      <td>7789.0</td>\n",
              "      <td>2.0</td>\n",
              "      <td>651.0</td>\n",
              "      <td>493769.0</td>\n",
              "      <td>517.0</td>\n",
              "      <td>2292074.0</td>\n",
              "      <td>1858.0</td>\n",
              "    </tr>\n",
              "    <tr>\n",
              "      <th>4</th>\n",
              "      <td>9929.0</td>\n",
              "      <td>7787.0</td>\n",
              "      <td>-1.0</td>\n",
              "      <td>657.0</td>\n",
              "      <td>493252.0</td>\n",
              "      <td>569.0</td>\n",
              "      <td>2290216.0</td>\n",
              "      <td>3265.0</td>\n",
              "    </tr>\n",
              "  </tbody>\n",
              "</table>\n",
              "</div>"
            ],
            "text/plain": [
              "   alabama - death  ...  alabama - totalTestResultsIncrease\n",
              "0          10094.0  ...                              5890.0\n",
              "1          10029.0  ...                              9595.0\n",
              "2           9991.0  ...                              3648.0\n",
              "3           9931.0  ...                              1858.0\n",
              "4           9929.0  ...                              3265.0\n",
              "\n",
              "[5 rows x 8 columns]"
            ]
          },
          "metadata": {
            "tags": []
          },
          "execution_count": 8
        }
      ]
    },
    {
      "cell_type": "code",
      "metadata": {
        "id": "RlJTEd9qbt54",
        "colab": {
          "base_uri": "https://localhost:8080/"
        },
        "outputId": "8e5074c1-b1f0-4b2b-81db-e6f16156aa26"
      },
      "source": [
        "state_pandas_dict[good_states[0]].shape"
      ],
      "execution_count": 9,
      "outputs": [
        {
          "output_type": "execute_result",
          "data": {
            "text/plain": [
              "(363, 8)"
            ]
          },
          "metadata": {
            "tags": []
          },
          "execution_count": 9
        }
      ]
    },
    {
      "cell_type": "code",
      "metadata": {
        "id": "bOYrke37bt54",
        "colab": {
          "base_uri": "https://localhost:8080/"
        },
        "outputId": "0e8a2d7e-cdd7-4e37-ace2-a1b2b28ba2b0"
      },
      "source": [
        "arr_lengths = []\n",
        "for state in good_states:\n",
        "    print('{}: {}'.format(state, state_pandas_dict[state].shape[0]))\n",
        "    arr_lengths.append(state_pandas_dict[state].shape[0])\n",
        "min_length = np.array(arr_lengths).min()\n",
        "min_length"
      ],
      "execution_count": 10,
      "outputs": [
        {
          "output_type": "stream",
          "text": [
            "alabama: 363\n",
            "alaska: 364\n",
            "arizona: 366\n",
            "colorado: 366\n",
            "connecticut: 370\n",
            "delaware: 364\n",
            "hawaii: 366\n",
            "idaho: 363\n",
            "illinois: 366\n",
            "indiana: 372\n",
            "kentucky: 364\n",
            "louisiana: 363\n",
            "maine: 363\n",
            "maryland: 365\n",
            "massachusetts: 408\n",
            "michigan: 369\n",
            "minnesota: 364\n",
            "mississippi: 363\n",
            "new-jersey: 389\n",
            "north-carolina: 366\n",
            "ohio: 365\n",
            "puerto-rico: 354\n",
            "south-carolina: 366\n",
            "tennessee: 365\n",
            "vermont: 367\n",
            "virginia: 403\n",
            "washington: 417\n",
            "west-virginia: 364\n",
            "wisconsin: 367\n"
          ],
          "name": "stdout"
        },
        {
          "output_type": "execute_result",
          "data": {
            "text/plain": [
              "354"
            ]
          },
          "metadata": {
            "tags": []
          },
          "execution_count": 10
        }
      ]
    },
    {
      "cell_type": "code",
      "metadata": {
        "id": "4TUt2wYPbt55",
        "colab": {
          "base_uri": "https://localhost:8080/"
        },
        "outputId": "477c5722-91af-4440-adfb-4217967c7430"
      },
      "source": [
        "for state in good_states:\n",
        "    state_pandas_dict[state] = state_pandas_dict[state].head(min_length)\n",
        "print(state_pandas_dict[good_states[0]].shape)"
      ],
      "execution_count": 11,
      "outputs": [
        {
          "output_type": "stream",
          "text": [
            "(354, 8)\n"
          ],
          "name": "stdout"
        }
      ]
    },
    {
      "cell_type": "markdown",
      "metadata": {
        "id": "AWYPVZGcbt55"
      },
      "source": [
        "# Visualize Death Data per State"
      ]
    },
    {
      "cell_type": "code",
      "metadata": {
        "id": "3le2twldbt55",
        "colab": {
          "base_uri": "https://localhost:8080/",
          "height": 506
        },
        "outputId": "552bf09f-aea1-4063-d49f-e9afac803933"
      },
      "source": [
        "death_data = {'date':state_pandas_dict_raw[good_states[0]].head(min_length)['date'].values}\n",
        "plt.figure()\n",
        "for state in good_states:\n",
        "    death_data[state] = state_pandas_dict_raw[state].sort_values('date', ascending=True).head(min_length)['death'].fillna(0).values\n",
        "death_df = pd.DataFrame(death_data)\n",
        "fig, ax = plt.subplots()\n",
        "sns.lineplot(x='date', y='value', hue='variable', data=pd.melt(death_df, ['date']))\n",
        "plt.legend(title='legend', bbox_to_anchor=(1.05, 1), loc='upper left')\n",
        "every_nth = 30\n",
        "for n, label in enumerate(ax.xaxis.get_ticklabels()):\n",
        "    if n % every_nth != 0:\n",
        "        label.set_visible(False)\n",
        "plt.xticks(rotation=-30)\n",
        "plt.ylabel('deaths')\n",
        "plt.show()"
      ],
      "execution_count": 12,
      "outputs": [
        {
          "output_type": "display_data",
          "data": {
            "text/plain": [
              "<Figure size 432x288 with 0 Axes>"
            ]
          },
          "metadata": {
            "tags": []
          }
        },
        {
          "output_type": "display_data",
          "data": {
            "image/png": "[encoded data removed]",
            "text/plain": [
              "<Figure size 432x288 with 1 Axes>"
            ]
          },
          "metadata": {
            "tags": [],
            "needs_background": "light"
          }
        }
      ]
    },
    {
      "cell_type": "markdown",
      "metadata": {
        "id": "XdlBTl2Cbt55"
      },
      "source": [
        "# Find Correlation Array"
      ]
    },
    {
      "cell_type": "markdown",
      "metadata": {
        "id": "BWlIX-3qbt55"
      },
      "source": [
        "## Try With first of state_names"
      ]
    },
    {
      "cell_type": "code",
      "metadata": {
        "id": "TFqr0HZ2bt56"
      },
      "source": [
        "df_dict_by_col = dict((col, state_pandas_dict[state_names[0]][col].values) for col in state_pandas_dict[state_names[0]].columns.values)"
      ],
      "execution_count": 13,
      "outputs": []
    },
    {
      "cell_type": "code",
      "metadata": {
        "id": "7XND5P8Fbt56",
        "colab": {
          "base_uri": "https://localhost:8080/"
        },
        "outputId": "9d1c1513-ab2a-462b-bf49-15349e36d8b4"
      },
      "source": [
        "df_keys = df_dict_by_col.keys()\n",
        "\n",
        "corr_data = []\n",
        "for key0 in df_keys:\n",
        "    key_row = []\n",
        "    for key1 in df_keys:\n",
        "        key_row.append(np.corrcoef(df_dict_by_col[key0], df_dict_by_col[key1])[1,0])\n",
        "    corr_data.append(key_row)\n",
        "corr_np = np.float64(corr_data)\n",
        "corr_np"
      ],
      "execution_count": 14,
      "outputs": [
        {
          "output_type": "execute_result",
          "data": {
            "text/plain": [
              "array([[1.        , 0.99628253, 0.51948179, 0.52389465, 0.97544758,\n",
              "        0.44213999, 0.93403598, 0.1507257 ],\n",
              "       [0.99628253, 1.        , 0.5129809 , 0.56338023, 0.98333664,\n",
              "        0.48379468, 0.95902426, 0.18056535],\n",
              "       [0.51948179, 0.5129809 , 1.        , 0.42919816, 0.5351837 ,\n",
              "        0.45838197, 0.48158829, 0.17382066],\n",
              "       [0.52389465, 0.56338023, 0.42919816, 1.        , 0.66935429,\n",
              "        0.83935024, 0.69777342, 0.37174191],\n",
              "       [0.97544758, 0.98333664, 0.5351837 , 0.66935429, 1.        ,\n",
              "        0.57734761, 0.97508886, 0.19486688],\n",
              "       [0.44213999, 0.48379468, 0.45838197, 0.83935024, 0.57734761,\n",
              "        1.        , 0.6287938 , 0.45762283],\n",
              "       [0.93403598, 0.95902426, 0.48158829, 0.69777342, 0.97508886,\n",
              "        0.6287938 , 1.        , 0.26102342],\n",
              "       [0.1507257 , 0.18056535, 0.17382066, 0.37174191, 0.19486688,\n",
              "        0.45762283, 0.26102342, 1.        ]])"
            ]
          },
          "metadata": {
            "tags": []
          },
          "execution_count": 14
        }
      ]
    },
    {
      "cell_type": "code",
      "metadata": {
        "id": "gyWdjG9Obt56",
        "colab": {
          "base_uri": "https://localhost:8080/",
          "height": 297
        },
        "outputId": "9e3eb5b2-5bc5-4455-df87-4355659bc69c"
      },
      "source": [
        "corr_df = pd.DataFrame(corr_np)\n",
        "corr_df"
      ],
      "execution_count": 15,
      "outputs": [
        {
          "output_type": "execute_result",
          "data": {
            "text/html": [
              "<div>\n",
              "<style scoped>\n",
              "    .dataframe tbody tr th:only-of-type {\n",
              "        vertical-align: middle;\n",
              "    }\n",
              "\n",
              "    .dataframe tbody tr th {\n",
              "        vertical-align: top;\n",
              "    }\n",
              "\n",
              "    .dataframe thead th {\n",
              "        text-align: right;\n",
              "    }\n",
              "</style>\n",
              "<table border=\"1\" class=\"dataframe\">\n",
              "  <thead>\n",
              "    <tr style=\"text-align: right;\">\n",
              "      <th></th>\n",
              "      <th>0</th>\n",
              "      <th>1</th>\n",
              "      <th>2</th>\n",
              "      <th>3</th>\n",
              "      <th>4</th>\n",
              "      <th>5</th>\n",
              "      <th>6</th>\n",
              "      <th>7</th>\n",
              "    </tr>\n",
              "  </thead>\n",
              "  <tbody>\n",
              "    <tr>\n",
              "      <th>0</th>\n",
              "      <td>1.000000</td>\n",
              "      <td>0.996283</td>\n",
              "      <td>0.519482</td>\n",
              "      <td>0.523895</td>\n",
              "      <td>0.975448</td>\n",
              "      <td>0.442140</td>\n",
              "      <td>0.934036</td>\n",
              "      <td>0.150726</td>\n",
              "    </tr>\n",
              "    <tr>\n",
              "      <th>1</th>\n",
              "      <td>0.996283</td>\n",
              "      <td>1.000000</td>\n",
              "      <td>0.512981</td>\n",
              "      <td>0.563380</td>\n",
              "      <td>0.983337</td>\n",
              "      <td>0.483795</td>\n",
              "      <td>0.959024</td>\n",
              "      <td>0.180565</td>\n",
              "    </tr>\n",
              "    <tr>\n",
              "      <th>2</th>\n",
              "      <td>0.519482</td>\n",
              "      <td>0.512981</td>\n",
              "      <td>1.000000</td>\n",
              "      <td>0.429198</td>\n",
              "      <td>0.535184</td>\n",
              "      <td>0.458382</td>\n",
              "      <td>0.481588</td>\n",
              "      <td>0.173821</td>\n",
              "    </tr>\n",
              "    <tr>\n",
              "      <th>3</th>\n",
              "      <td>0.523895</td>\n",
              "      <td>0.563380</td>\n",
              "      <td>0.429198</td>\n",
              "      <td>1.000000</td>\n",
              "      <td>0.669354</td>\n",
              "      <td>0.839350</td>\n",
              "      <td>0.697773</td>\n",
              "      <td>0.371742</td>\n",
              "    </tr>\n",
              "    <tr>\n",
              "      <th>4</th>\n",
              "      <td>0.975448</td>\n",
              "      <td>0.983337</td>\n",
              "      <td>0.535184</td>\n",
              "      <td>0.669354</td>\n",
              "      <td>1.000000</td>\n",
              "      <td>0.577348</td>\n",
              "      <td>0.975089</td>\n",
              "      <td>0.194867</td>\n",
              "    </tr>\n",
              "    <tr>\n",
              "      <th>5</th>\n",
              "      <td>0.442140</td>\n",
              "      <td>0.483795</td>\n",
              "      <td>0.458382</td>\n",
              "      <td>0.839350</td>\n",
              "      <td>0.577348</td>\n",
              "      <td>1.000000</td>\n",
              "      <td>0.628794</td>\n",
              "      <td>0.457623</td>\n",
              "    </tr>\n",
              "    <tr>\n",
              "      <th>6</th>\n",
              "      <td>0.934036</td>\n",
              "      <td>0.959024</td>\n",
              "      <td>0.481588</td>\n",
              "      <td>0.697773</td>\n",
              "      <td>0.975089</td>\n",
              "      <td>0.628794</td>\n",
              "      <td>1.000000</td>\n",
              "      <td>0.261023</td>\n",
              "    </tr>\n",
              "    <tr>\n",
              "      <th>7</th>\n",
              "      <td>0.150726</td>\n",
              "      <td>0.180565</td>\n",
              "      <td>0.173821</td>\n",
              "      <td>0.371742</td>\n",
              "      <td>0.194867</td>\n",
              "      <td>0.457623</td>\n",
              "      <td>0.261023</td>\n",
              "      <td>1.000000</td>\n",
              "    </tr>\n",
              "  </tbody>\n",
              "</table>\n",
              "</div>"
            ],
            "text/plain": [
              "          0         1         2  ...         5         6         7\n",
              "0  1.000000  0.996283  0.519482  ...  0.442140  0.934036  0.150726\n",
              "1  0.996283  1.000000  0.512981  ...  0.483795  0.959024  0.180565\n",
              "2  0.519482  0.512981  1.000000  ...  0.458382  0.481588  0.173821\n",
              "3  0.523895  0.563380  0.429198  ...  0.839350  0.697773  0.371742\n",
              "4  0.975448  0.983337  0.535184  ...  0.577348  0.975089  0.194867\n",
              "5  0.442140  0.483795  0.458382  ...  1.000000  0.628794  0.457623\n",
              "6  0.934036  0.959024  0.481588  ...  0.628794  1.000000  0.261023\n",
              "7  0.150726  0.180565  0.173821  ...  0.457623  0.261023  1.000000\n",
              "\n",
              "[8 rows x 8 columns]"
            ]
          },
          "metadata": {
            "tags": []
          },
          "execution_count": 15
        }
      ]
    },
    {
      "cell_type": "code",
      "metadata": {
        "id": "VBspz4LTbt56",
        "colab": {
          "base_uri": "https://localhost:8080/"
        },
        "outputId": "0f472277-8bc9-4736-ff2c-c215cf29334b"
      },
      "source": [
        "state_pandas_dict[state_names[0]].columns.shape"
      ],
      "execution_count": 16,
      "outputs": [
        {
          "output_type": "execute_result",
          "data": {
            "text/plain": [
              "(8,)"
            ]
          },
          "metadata": {
            "tags": []
          },
          "execution_count": 16
        }
      ]
    },
    {
      "cell_type": "code",
      "metadata": {
        "id": "VaG5WWD5bt56"
      },
      "source": [
        "def get_corr_list(pointers, corr_np):\n",
        "    ordered_ls_left = [pointers[0]]\n",
        "    ordered_ls_right = [pointers[1]]\n",
        "    corr_ls_sum = 0\n",
        "\n",
        "\n",
        "    visited = set(pointers.copy())\n",
        "    all_cols = corr_np.shape[0]\n",
        "\n",
        "    # Find highest unvisited correlated element\n",
        "    def get_max(p, visits): \n",
        "        # print(p)\n",
        "        s = sorted(list(enumerate(corr_np[p])),key=lambda x: x[1], reverse=True)\n",
        "        for item in s:\n",
        "            if item[0] == i or item[0] in visits:\n",
        "                continue\n",
        "            return item\n",
        "        \n",
        "\n",
        "    while len(visited) < all_cols:\n",
        "        # print(pointers)\n",
        "        val = get_max(pointers[0], visited)\n",
        "        if val is None:\n",
        "            break\n",
        "        pointers[0], corr_val = val\n",
        "        visited.add(pointers[0])\n",
        "        ordered_ls_left.append(pointers[0])\n",
        "        corr_ls_sum += corr_val\n",
        "        \n",
        "        val = get_max(pointers[1], visited)\n",
        "        if val is None:\n",
        "            break\n",
        "        pointers[1], corr_val = val\n",
        "        visited.add(pointers[1])\n",
        "        ordered_ls_right.append(pointers[1])\n",
        "        corr_ls_sum += corr_val\n",
        "\n",
        "    ordered_ls = ordered_ls_left + list(reversed(ordered_ls_right))\n",
        "    print(len(ordered_ls))\n",
        "    print(corr_ls_sum)\n",
        "    return ordered_ls, corr_ls_sum"
      ],
      "execution_count": 17,
      "outputs": []
    },
    {
      "cell_type": "code",
      "metadata": {
        "id": "pnOsJ4jPbt57"
      },
      "source": [
        "def get_corr_list_v2(corr_np):\n",
        "    pointer = 0\n",
        "    ordered_ls = [0]\n",
        "    visited = set([0])\n",
        "    all_cols = corr_np.shape[0]\n",
        "    corr_val_dict = {}\n",
        "    def get_max(p, visits): \n",
        "        # print(p)\n",
        "        s = sorted(list(enumerate(corr_np[p])),key=lambda x: x[1], reverse=True)\n",
        "        for item in s:\n",
        "            if item[0] == p or item[0] in visits:\n",
        "                continue\n",
        "            return item\n",
        "\n",
        "\n",
        "    while len(visited) < all_cols:\n",
        "        val = get_max(pointer, visited)\n",
        "        if val is None:\n",
        "            break\n",
        "        new_pointer, corr_val = val\n",
        "        visited.add(new_pointer)\n",
        "        ordered_ls.append(new_pointer)\n",
        "        corr_val_dict['{}-{}'.format(pointer, new_pointer)] = corr_val\n",
        "        pointer = new_pointer\n",
        "    #Complete circle by routing last pointer to first pointer, which is 0\n",
        "    corr_val_dict['{}-{}'.format(pointer, 0)] = corr_np[pointer, 0]\n",
        "\n",
        "\n",
        "    return corr_val_dict, ordered_ls\n",
        "\n",
        "\n"
      ],
      "execution_count": 18,
      "outputs": []
    },
    {
      "cell_type": "code",
      "metadata": {
        "id": "0Y2H31JFbt57"
      },
      "source": [
        "def get_corr_np(df):\n",
        "    df_dict_by_col = dict((col, df[col].values) for col in df.columns.values)\n",
        "    df_keys = df_dict_by_col.keys()\n",
        "    corr_data = []\n",
        "    for key0 in df_keys:\n",
        "        key_row = []\n",
        "        for key1 in df_keys:\n",
        "            key_row.append(np.corrcoef(df_dict_by_col[key0], df_dict_by_col[key1])[1,0])\n",
        "        corr_data.append(key_row)\n",
        "    corr_np = np.float64(corr_data)\n",
        "    return corr_np"
      ],
      "execution_count": 19,
      "outputs": []
    },
    {
      "cell_type": "code",
      "metadata": {
        "id": "Px0cMXvabt58"
      },
      "source": [
        "def corr_list_by_df(df):\n",
        "    df_dict_by_col = dict((col, df[col].values) for col in df.columns.values)\n",
        "    df_keys = df_dict_by_col.keys()\n",
        "    corr_data = []\n",
        "    for key0 in df_keys:\n",
        "        key_row = []\n",
        "        for key1 in df_keys:\n",
        "            key_row.append(np.corrcoef(df_dict_by_col[key0], df_dict_by_col[key1])[1,0])\n",
        "        corr_data.append(key_row)\n",
        "    corr_np = np.float64(corr_data)\n",
        "    all_ordered_ls = []\n",
        "    corr_sum_list = []\n",
        "    for i in range(corr_np.shape[0]):\n",
        "        for j in range(i+1, corr_np.shape[1]):\n",
        "            ls, corr_sum = get_corr_list([i, j], corr_np)\n",
        "            all_ordered_ls.append(ls)\n",
        "            corr_sum_list.append(corr_sum)\n",
        "    corr_sum_np = np.array(corr_sum_list)\n",
        "    best_ordered_ls = all_ordered_ls[np.argmax(corr_sum_np)]\n",
        "    print(np.max(corr_sum_np))\n",
        "    print(best_ordered_ls)\n",
        "    return best_ordered_ls, corr_np"
      ],
      "execution_count": 20,
      "outputs": []
    },
    {
      "cell_type": "code",
      "metadata": {
        "id": "VuI8RVc7bt58",
        "colab": {
          "base_uri": "https://localhost:8080/"
        },
        "outputId": "90cf535b-6a46-44c8-e924-953d23d51a5b"
      },
      "source": [
        "# Create full df by combining data for all \n",
        "full_df = state_pandas_dict[good_states[0]].copy()\n",
        "for state in good_states[1:]:\n",
        "    for col in state_pandas_dict[state].columns.values:\n",
        "        full_df[col] = state_pandas_dict[state][col].values\n",
        "full_df.shape"
      ],
      "execution_count": 21,
      "outputs": [
        {
          "output_type": "execute_result",
          "data": {
            "text/plain": [
              "(354, 232)"
            ]
          },
          "metadata": {
            "tags": []
          },
          "execution_count": 21
        }
      ]
    },
    {
      "cell_type": "code",
      "metadata": {
        "id": "IsRCFNpsbt58"
      },
      "source": [
        "full_order_dict, circle_order = get_corr_list_v2(get_corr_np(full_df))"
      ],
      "execution_count": 22,
      "outputs": []
    },
    {
      "cell_type": "code",
      "metadata": {
        "id": "SAJqlODnbt58",
        "colab": {
          "base_uri": "https://localhost:8080/"
        },
        "outputId": "5e5681e6-f028-49c2-da38-5e1c90726a0c"
      },
      "source": [
        "circle_order"
      ],
      "execution_count": 23,
      "outputs": [
        {
          "output_type": "execute_result",
          "data": {
            "text/plain": [
              "[0,\n",
              " 1,\n",
              " 16,\n",
              " 17,\n",
              " 176,\n",
              " 177,\n",
              " 136,\n",
              " 94,\n",
              " 142,\n",
              " 190,\n",
              " 126,\n",
              " 230,\n",
              " 166,\n",
              " 70,\n",
              " 38,\n",
              " 102,\n",
              " 198,\n",
              " 118,\n",
              " 78,\n",
              " 222,\n",
              " 30,\n",
              " 56,\n",
              " 57,\n",
              " 172,\n",
              " 169,\n",
              " 168,\n",
              " 110,\n",
              " 158,\n",
              " 206,\n",
              " 150,\n",
              " 214,\n",
              " 46,\n",
              " 22,\n",
              " 182,\n",
              " 185,\n",
              " 156,\n",
              " 204,\n",
              " 80,\n",
              " 81,\n",
              " 152,\n",
              " 153,\n",
              " 140,\n",
              " 4,\n",
              " 188,\n",
              " 212,\n",
              " 225,\n",
              " 224,\n",
              " 76,\n",
              " 28,\n",
              " 124,\n",
              " 12,\n",
              " 132,\n",
              " 68,\n",
              " 60,\n",
              " 14,\n",
              " 134,\n",
              " 86,\n",
              " 54,\n",
              " 52,\n",
              " 48,\n",
              " 49,\n",
              " 184,\n",
              " 217,\n",
              " 216,\n",
              " 220,\n",
              " 164,\n",
              " 8,\n",
              " 84,\n",
              " 44,\n",
              " 36,\n",
              " 116,\n",
              " 148,\n",
              " 72,\n",
              " 73,\n",
              " 108,\n",
              " 128,\n",
              " 129,\n",
              " 64,\n",
              " 24,\n",
              " 25,\n",
              " 65,\n",
              " 105,\n",
              " 104,\n",
              " 40,\n",
              " 41,\n",
              " 112,\n",
              " 32,\n",
              " 145,\n",
              " 144,\n",
              " 113,\n",
              " 89,\n",
              " 88,\n",
              " 201,\n",
              " 200,\n",
              " 208,\n",
              " 92,\n",
              " 180,\n",
              " 20,\n",
              " 97,\n",
              " 96,\n",
              " 100,\n",
              " 196,\n",
              " 192,\n",
              " 120,\n",
              " 121,\n",
              " 161,\n",
              " 160,\n",
              " 6,\n",
              " 62,\n",
              " 137,\n",
              " 174,\n",
              " 33,\n",
              " 228,\n",
              " 155,\n",
              " 3,\n",
              " 187,\n",
              " 219,\n",
              " 83,\n",
              " 163,\n",
              " 75,\n",
              " 131,\n",
              " 29,\n",
              " 69,\n",
              " 227,\n",
              " 11,\n",
              " 59,\n",
              " 77,\n",
              " 221,\n",
              " 109,\n",
              " 211,\n",
              " 99,\n",
              " 205,\n",
              " 203,\n",
              " 43,\n",
              " 107,\n",
              " 106,\n",
              " 115,\n",
              " 147,\n",
              " 35,\n",
              " 114,\n",
              " 146,\n",
              " 34,\n",
              " 37,\n",
              " 125,\n",
              " 127,\n",
              " 171,\n",
              " 167,\n",
              " 71,\n",
              " 79,\n",
              " 31,\n",
              " 223,\n",
              " 159,\n",
              " 111,\n",
              " 207,\n",
              " 119,\n",
              " 103,\n",
              " 231,\n",
              " 61,\n",
              " 229,\n",
              " 13,\n",
              " 133,\n",
              " 135,\n",
              " 165,\n",
              " 85,\n",
              " 157,\n",
              " 181,\n",
              " 183,\n",
              " 197,\n",
              " 117,\n",
              " 149,\n",
              " 45,\n",
              " 101,\n",
              " 218,\n",
              " 5,\n",
              " 141,\n",
              " 139,\n",
              " 179,\n",
              " 19,\n",
              " 21,\n",
              " 23,\n",
              " 47,\n",
              " 189,\n",
              " 191,\n",
              " 9,\n",
              " 193,\n",
              " 209,\n",
              " 63,\n",
              " 7,\n",
              " 58,\n",
              " 226,\n",
              " 39,\n",
              " 186,\n",
              " 82,\n",
              " 154,\n",
              " 2,\n",
              " 18,\n",
              " 138,\n",
              " 98,\n",
              " 195,\n",
              " 91,\n",
              " 90,\n",
              " 93,\n",
              " 95,\n",
              " 130,\n",
              " 27,\n",
              " 123,\n",
              " 67,\n",
              " 66,\n",
              " 26,\n",
              " 122,\n",
              " 194,\n",
              " 170,\n",
              " 213,\n",
              " 173,\n",
              " 199,\n",
              " 55,\n",
              " 53,\n",
              " 51,\n",
              " 178,\n",
              " 202,\n",
              " 42,\n",
              " 210,\n",
              " 74,\n",
              " 215,\n",
              " 151,\n",
              " 143,\n",
              " 87,\n",
              " 15,\n",
              " 10,\n",
              " 162,\n",
              " 50,\n",
              " 175]"
            ]
          },
          "metadata": {
            "tags": []
          },
          "execution_count": 23
        }
      ]
    },
    {
      "cell_type": "code",
      "metadata": {
        "id": "-p7tqiGEbt58"
      },
      "source": [
        "def best_ord_from_circle(d, circle):\n",
        "    items = sorted(d.items(), key=lambda x: x[1], reverse=True)\n",
        "    start, end = items[-1][0].split('-')\n",
        "    start_point, end_point = circle.index(int(start)), circle.index(int(end))\n",
        "\n",
        "    if end_point < start_point:\n",
        "        return circle\n",
        "    return list(reversed(circle[:circle.index(start)+1])) + circle[circle.index(end):]\n",
        "\n"
      ],
      "execution_count": 24,
      "outputs": []
    },
    {
      "cell_type": "code",
      "metadata": {
        "id": "Iy0A8YF-bt59",
        "colab": {
          "base_uri": "https://localhost:8080/"
        },
        "outputId": "5996655a-e017-4c56-d684-a294d6793ab0"
      },
      "source": [
        "full_order_v2 = best_ord_from_circle(full_order_dict, circle_order)\n",
        "len(full_order_v2)"
      ],
      "execution_count": 25,
      "outputs": [
        {
          "output_type": "execute_result",
          "data": {
            "text/plain": [
              "232"
            ]
          },
          "metadata": {
            "tags": []
          },
          "execution_count": 25
        }
      ]
    },
    {
      "cell_type": "code",
      "metadata": {
        "id": "Et5g8Moebt59"
      },
      "source": [
        "# Manually Entering Here because running the function takes too long\n",
        "full_order = [28, 124, 224, 225, 68, 30, 78, 222, 182, 185, 156, 184, 118, 84, 8, 76, 164, 220, 216, 217, 44, 36, 96, 97, 100, 196, 80, 81, 152, 153, 136, 94, 142, 190, 62, 6, 200, 201, 208, 137, 88, 89, 104, 105, 41, 40, 121, 120, 148, 160, 20, 12, 48, 49, 52, 119, 83, 163, 75, 219, 187, 3, 155, 99, 43, 107, 149, 197, 181, 183, 47, 111, 79, 77, 221, 109, 45, 165, 27, 123, 67, 66, 26, 130, 85, 223, 186, 218, 101, 157, 154, 18, 82, 2, 138, 98, 58, 173, 9, 193, 191, 189, 135, 226, 194, 74, 162, 151, 178, 202, 115, 114, 175, 210, 143, 50, 42, 215, 10, 15, 87, 7, 63, 51, 53, 55, 199, 39, 170, 125, 127, 95, 93, 90, 91, 122, 37, 34, 146, 147, 106, 35, 195, 117, 213, 207, 103, 209, 139, 141, 5, 61, 171, 231, 229, 133, 13, 59, 11, 131, 227, 69, 29, 31, 167, 71, 159, 23, 21, 19, 179, 33, 113, 112, 174, 145, 144, 32, 203, 211, 205, 192, 116, 161, 72, 73, 25, 65, 64, 24, 129, 128, 108, 92, 177, 176, 17, 16, 1, 0, 212, 204, 180, 22, 14, 134, 214, 206, 198, 102, 38, 169, 168, 54, 86, 230, 126, 166, 70, 110, 158, 150, 46, 140, 4, 188, 56, 57, 172, 60, 228, 132]"
      ],
      "execution_count": 26,
      "outputs": []
    },
    {
      "cell_type": "code",
      "metadata": {
        "tags": [],
        "id": "xMZCndmgbt59"
      },
      "source": [
        "#full_order, full_corr = corr_list_by_df(full_df)"
      ],
      "execution_count": 27,
      "outputs": []
    },
    {
      "cell_type": "code",
      "metadata": {
        "id": "KfnMAgxMbt5-"
      },
      "source": [
        ""
      ],
      "execution_count": 27,
      "outputs": []
    },
    {
      "cell_type": "code",
      "metadata": {
        "id": "F8mlFh7tbt5-",
        "colab": {
          "base_uri": "https://localhost:8080/"
        },
        "outputId": "13f5cef4-84b5-4977-94a6-46ed43443976"
      },
      "source": [
        "test_order, test_corr = corr_list_by_df(state_pandas_dict['alabama'])"
      ],
      "execution_count": 28,
      "outputs": [
        {
          "output_type": "stream",
          "text": [
            "8\n",
            "4.119440919647699\n",
            "8\n",
            "4.160380490760433\n",
            "8\n",
            "4.24397033141963\n",
            "8\n",
            "4.050366399826602\n",
            "8\n",
            "4.312949954532416\n",
            "8\n",
            "3.998920208754184\n",
            "8\n",
            "4.680879255423979\n",
            "8\n",
            "4.135392208751277\n",
            "8\n",
            "4.236081277433167\n",
            "8\n",
            "4.010880817841161\n",
            "8\n",
            "4.305060900545953\n",
            "8\n",
            "3.959434626768743\n",
            "8\n",
            "4.672990201437514\n",
            "8\n",
            "4.243970331419631\n",
            "8\n",
            "4.000770338509906\n",
            "8\n",
            "4.312949954532416\n",
            "8\n",
            "3.846917672464898\n",
            "8\n",
            "4.509549363271225\n",
            "8\n",
            "4.080077193362879\n",
            "8\n",
            "3.873299462086321\n",
            "8\n",
            "3.937387954743997\n",
            "8\n",
            "4.125174009581941\n",
            "8\n",
            "4.297248037975223\n",
            "8\n",
            "4.013405535677349\n",
            "8\n",
            "4.63982637505258\n",
            "8\n",
            "4.016973505712936\n",
            "8\n",
            "4.217180694992925\n",
            "8\n",
            "4.680879255423979\n",
            "4.680879255423979\n",
            "[0, 1, 4, 6, 2, 3, 5, 7]\n"
          ],
          "name": "stdout"
        }
      ]
    },
    {
      "cell_type": "code",
      "metadata": {
        "id": "AKHukEFtbt5-"
      },
      "source": [
        "from sklearn.preprocessing import MinMaxScaler\n",
        "\n",
        "scaler = MinMaxScaler(feature_range=(0,1))\n",
        "full_np = scaler.fit_transform(full_df)"
      ],
      "execution_count": 29,
      "outputs": []
    },
    {
      "cell_type": "code",
      "metadata": {
        "id": "UAlXVMhZbt5-"
      },
      "source": [
        "test_full_df = pd.DataFrame(full_np)\n",
        "img_np = test_full_df[full_order_v2].values"
      ],
      "execution_count": 30,
      "outputs": []
    },
    {
      "cell_type": "code",
      "metadata": {
        "id": "qFBg8ng_bt5_"
      },
      "source": [
        "horizontal_img_np = np.swapaxes(img_np,0,1)"
      ],
      "execution_count": 31,
      "outputs": []
    },
    {
      "cell_type": "code",
      "metadata": {
        "id": "dcS9B2ITbt5_",
        "colab": {
          "base_uri": "https://localhost:8080/"
        },
        "outputId": "f71a552f-1d8a-4e87-b236-e99d9998a490"
      },
      "source": [
        "horizontal_img_np[:, :7]*255"
      ],
      "execution_count": 32,
      "outputs": [
        {
          "output_type": "execute_result",
          "data": {
            "text/plain": [
              "array([[255.        , 253.35793541, 252.39795918, ..., 250.83168219,\n",
              "        250.85694472, 249.31593026],\n",
              "       [255.        , 253.45454545, 252.42424242, ..., 250.71780303,\n",
              "        250.71780303, 249.01136364],\n",
              "       [255.        , 253.48748842, 253.03058387, ..., 251.77015755,\n",
              "        251.56533828, 250.46246525],\n",
              "       ...,\n",
              "       [ 14.7404271 ,  14.7404271 ,   0.        , ...,  20.37371134,\n",
              "         19.81038292,  20.1859352 ],\n",
              "       [  8.36065574,  16.72131148,   8.36065574, ...,   8.36065574,\n",
              "         16.72131148,  16.72131148],\n",
              "       [ 27.0541631 ,  26.84724789,  27.19498039, ...,  27.48811026,\n",
              "         27.28981653,  27.4536244 ]])"
            ]
          },
          "metadata": {
            "tags": []
          },
          "execution_count": 32
        }
      ]
    },
    {
      "cell_type": "code",
      "metadata": {
        "id": "xOrjVn1Sbt5_"
      },
      "source": [
        "from PIL import Image\n",
        "im = Image.fromarray(horizontal_img_np[:, :128]*255, 'L')\n",
        "im.show()"
      ],
      "execution_count": 33,
      "outputs": []
    },
    {
      "cell_type": "code",
      "metadata": {
        "id": "YM28LL0jbt5_",
        "colab": {
          "base_uri": "https://localhost:8080/"
        },
        "outputId": "3f3bfa0d-01ea-4f24-ed7a-1c888286c6b4"
      },
      "source": [
        "horizontal_img_np.shape"
      ],
      "execution_count": 34,
      "outputs": [
        {
          "output_type": "execute_result",
          "data": {
            "text/plain": [
              "(232, 354)"
            ]
          },
          "metadata": {
            "tags": []
          },
          "execution_count": 34
        }
      ]
    },
    {
      "cell_type": "markdown",
      "metadata": {
        "id": "HxjU9Toqbt5_"
      },
      "source": [
        "# Make Predict Values and use time series data to split numpy array into hundreds of 232x128 images"
      ]
    },
    {
      "cell_type": "code",
      "metadata": {
        "id": "lbhSabW5bt5_",
        "colab": {
          "base_uri": "https://localhost:8080/"
        },
        "outputId": "8ff6f343-676c-4af9-cccd-d5e0763caeb3"
      },
      "source": [
        "#full_df.head()\n",
        "y_val_columns = [i for i in full_df.columns.values if 'deathIncrease' in i]\n",
        "y_val_columns"
      ],
      "execution_count": 35,
      "outputs": [
        {
          "output_type": "execute_result",
          "data": {
            "text/plain": [
              "['alabama - deathIncrease',\n",
              " 'alaska - deathIncrease',\n",
              " 'arizona - deathIncrease',\n",
              " 'colorado - deathIncrease',\n",
              " 'connecticut - deathIncrease',\n",
              " 'delaware - deathIncrease',\n",
              " 'hawaii - deathIncrease',\n",
              " 'idaho - deathIncrease',\n",
              " 'illinois - deathIncrease',\n",
              " 'indiana - deathIncrease',\n",
              " 'kentucky - deathIncrease',\n",
              " 'louisiana - deathIncrease',\n",
              " 'maine - deathIncrease',\n",
              " 'maryland - deathIncrease',\n",
              " 'massachusetts - deathIncrease',\n",
              " 'michigan - deathIncrease',\n",
              " 'minnesota - deathIncrease',\n",
              " 'mississippi - deathIncrease',\n",
              " 'new-jersey - deathIncrease',\n",
              " 'north-carolina - deathIncrease',\n",
              " 'ohio - deathIncrease',\n",
              " 'puerto-rico - deathIncrease',\n",
              " 'south-carolina - deathIncrease',\n",
              " 'tennessee - deathIncrease',\n",
              " 'vermont - deathIncrease',\n",
              " 'virginia - deathIncrease',\n",
              " 'washington - deathIncrease',\n",
              " 'west-virginia - deathIncrease',\n",
              " 'wisconsin - deathIncrease']"
            ]
          },
          "metadata": {
            "tags": []
          },
          "execution_count": 35
        }
      ]
    },
    {
      "cell_type": "code",
      "metadata": {
        "id": "HoQcsx4xbt5_",
        "colab": {
          "base_uri": "https://localhost:8080/"
        },
        "outputId": "079bbf3a-a804-4766-ab80-53e29433a70b"
      },
      "source": [
        "y_val = np.zeros(full_df.shape[0])\n",
        "for col in y_val_columns:\n",
        "    y_val += full_df[col].values\n",
        "y_val\n"
      ],
      "execution_count": 36,
      "outputs": [
        {
          "output_type": "execute_result",
          "data": {
            "text/plain": [
              "array([ 668., 1069.,  582.,  559.,  484.,  800.,  967., 1083., 1120.,\n",
              "       1042.,  456.,  602.,  807., 1003., 1221.,  980.,  533.,  371.,\n",
              "        427., 2008., 3692., 2012., 1670., 1207.,  591.,  543., 1119.,\n",
              "       1531., 3163., 1690., 1521.,  760.,  689., 1178., 1469., 1753.,\n",
              "       1753., 1819.,  621.,  725., 1609., 1603., 1764., 1762.,  848.,\n",
              "        578.,  789., 1563., 1428., 1688., 1811., 1929.,  729.,  869.,\n",
              "       1533., 1690., 2066., 1761., 1825.,  846.,  771., 1273.,  933.,\n",
              "       1421., 1929., 1767.,  851.,  662.,  931.,  593., 1287., 1673.,\n",
              "       1691.,  762.,  765., 1301., 1454., 1894., 1730., 1487.,  720.,\n",
              "        729., 1304., 1276., 1664., 1716., 1386.,  655.,  560., 1272.,\n",
              "       1280., 1571., 1562., 1452.,  605.,  420.,  664.,  868.,  661.,\n",
              "       1267., 1265.,  407.,  462.,  794.,  984., 1173., 1021.,  928.,\n",
              "        352.,  352.,  700.,  749.,  571.,  894.,  771.,  343.,  281.,\n",
              "        587.,  583.,  605.,  596.,  642.,  210.,  188.,  509.,  481.,\n",
              "        515.,  510.,  552.,  234.,  207.,  398.,  465.,  518.,  557.,\n",
              "        449.,  257.,  159.,  261.,  377.,  415.,  353.,  378.,  115.,\n",
              "        114.,  280.,  302.,  387.,  370.,  311.,  141.,  144.,  332.,\n",
              "        368.,  362.,  415.,  366.,  133.,  120.,  301.,  350.,  362.,\n",
              "        366.,  396.,  123.,  138.,  305.,  354.,  355.,  424.,  528.,\n",
              "        169.,  167.,  291.,  426.,  435.,  487.,  138.,  103.,  161.,\n",
              "        321.,  410.,  348.,  379.,  394.,  167.,  224.,  333.,  397.,\n",
              "        399.,  568.,  425.,  152.,  198.,  360.,  409.,  434.,  527.,\n",
              "        445.,  161.,  210.,  416.,  341.,  389.,  574.,  474.,  154.,\n",
              "        254.,  309.,  496.,  498.,  505.,  452.,  167.,  262.,  371.,\n",
              "        476.,  570.,  561.,  504.,  209.,  204.,  441.,  491.,  445.,\n",
              "        479.,  517.,  160.,  206.,  427.,  380.,  423.,  364.,  353.,\n",
              "        143.,  241.,  348.,  384.,  364.,  435.,  552.,  105.,  104.,\n",
              "        164.,  293.,  371.,  406.,  337.,  177.,  157.,  316.,  343.,\n",
              "        308.,  445.,  418.,  197.,  149.,  404.,  350.,  319.,  430.,\n",
              "        430.,  201.,  204.,  431.,  430.,  499.,  536.,  509.,  491.,\n",
              "        266.,  450.,  477.,  537.,  598.,  590.,  486.,  401.,  522.,\n",
              "        721.,  723.,  850.,  434.,  341.,  425.,  583.,  756.,  667.,\n",
              "        950.,  853.,  496.,  546.,  732.,  968., 1105., 1114.,  939.,\n",
              "        564.,  619.,  845., 1026., 1169., 1241., 1352.,  608.,  778.,\n",
              "        849., 1193., 1406., 1478., 1356.,  714.,  667.,  884., 1191.,\n",
              "       1247., 1259., 1339., 1057.,  775., 1003., 1120., 1281., 1419.,\n",
              "       1242.,  797.,  799., 1002.,  998., 1032.,  947.,  971.,  599.,\n",
              "        581.,  672.,  573.,  594.,  493.,  470.,  270.,  210.,  254.,\n",
              "        218.,  168.,  120.,  105.,   88.,   57.,   40.,   37.,   29.,\n",
              "         16.,   14.,   17.])"
            ]
          },
          "metadata": {
            "tags": []
          },
          "execution_count": 36
        }
      ]
    },
    {
      "cell_type": "code",
      "metadata": {
        "id": "XfUi6Swbbt6A",
        "colab": {
          "base_uri": "https://localhost:8080/"
        },
        "outputId": "88187f80-58e4-4a55-bb78-09cfd984ca29"
      },
      "source": [
        "y_val.shape"
      ],
      "execution_count": 37,
      "outputs": [
        {
          "output_type": "execute_result",
          "data": {
            "text/plain": [
              "(354,)"
            ]
          },
          "metadata": {
            "tags": []
          },
          "execution_count": 37
        }
      ]
    },
    {
      "cell_type": "code",
      "metadata": {
        "id": "xPQiGpocbt6A",
        "colab": {
          "base_uri": "https://localhost:8080/"
        },
        "outputId": "bd442cfd-8f63-4899-819f-28173de3495c"
      },
      "source": [
        "TIME_LENGTH = 128\n",
        "TIME_TEST_LENGTH = 1\n",
        "def get_x_y(data, predict_vals, batch_size, test_length):\n",
        "    total_length = data.shape[1]\n",
        "    useable_starts = total_length - test_length - batch_size\n",
        "    images = []\n",
        "    y = []\n",
        "    for i in range(0, useable_starts):\n",
        "        images.append(data[:, i:i+batch_size])\n",
        "        y.append(predict_vals[i+batch_size:i+batch_size+test_length])\n",
        "    images_np = np.array(images)\n",
        "    return images_np.reshape((images_np.shape[0], images_np.shape[1], images_np.shape[2], 1)), np.array(y)\n",
        "\n",
        "imgs, y_values = get_x_y(horizontal_img_np, y_val, TIME_LENGTH, TIME_TEST_LENGTH)\n",
        "print(imgs.shape)\n",
        "print(y_values.shape)\n"
      ],
      "execution_count": 38,
      "outputs": [
        {
          "output_type": "stream",
          "text": [
            "(225, 232, 128, 1)\n",
            "(225, 1)\n"
          ],
          "name": "stdout"
        }
      ]
    },
    {
      "cell_type": "code",
      "metadata": {
        "id": "3dF4u30Rbt6A",
        "colab": {
          "base_uri": "https://localhost:8080/"
        },
        "outputId": "0d57f0ec-8770-45c0-82be-a42b1ed43c7a"
      },
      "source": [
        "from sklearn.model_selection import train_test_split\n",
        "from tensorflow.keras.layers import Input, Conv2D, Dense, LSTM, SimpleRNN, AveragePooling2D, Flatten, Dropout\n",
        "from tensorflow.keras.models import Model, Sequential\n",
        "\n",
        "X_train, X_test, y_train, y_test = train_test_split(imgs, y_values, train_size=0.8, random_state=0)\n",
        "print(X_train.shape, X_test.shape, y_train.shape, y_test.shape)\n"
      ],
      "execution_count": 39,
      "outputs": [
        {
          "output_type": "stream",
          "text": [
            "(180, 232, 128, 1) (45, 232, 128, 1) (180, 1) (45, 1)\n"
          ],
          "name": "stdout"
        }
      ]
    },
    {
      "cell_type": "code",
      "metadata": {
        "id": "k1YWp2xJbt6A",
        "colab": {
          "base_uri": "https://localhost:8080/"
        },
        "outputId": "09aaefe4-7b0d-48e7-f8fc-4aadfeafed81"
      },
      "source": [
        "def get_corr_img_cnn_model(feature_length, time_length, pred_length):\n",
        "    model = Sequential()\n",
        "    model.add(Conv2D(128, (3,3), input_shape=(feature_length, time_length, 1), padding='same', activation='relu'))\n",
        "    model.add(AveragePooling2D())\n",
        "    model.add(Dropout(0.3))\n",
        "    model.add(Conv2D(64, (3,3), padding='same', activation='relu'))\n",
        "    model.add(AveragePooling2D())\n",
        "    model.add(Dropout(0.3))\n",
        "    model.add(Flatten())\n",
        "    model.add(Dense(pred_length, activation='relu'))\n",
        "    model.compile(\n",
        "        loss='mse',\n",
        "        optimizer='adam',\n",
        "        metrics=['mse', 'mae']\n",
        "    )\n",
        "    print(model.summary())\n",
        "    return model\n",
        "\n",
        "model = get_corr_img_cnn_model(X_train.shape[1], TIME_LENGTH, TIME_TEST_LENGTH)"
      ],
      "execution_count": 73,
      "outputs": [
        {
          "output_type": "stream",
          "text": [
            "Model: \"sequential_7\"\n",
            "_________________________________________________________________\n",
            "Layer (type)                 Output Shape              Param #   \n",
            "=================================================================\n",
            "conv2d_14 (Conv2D)           (None, 232, 128, 128)     1280      \n",
            "_________________________________________________________________\n",
            "average_pooling2d_2 (Average (None, 116, 64, 128)      0         \n",
            "_________________________________________________________________\n",
            "dropout_11 (Dropout)         (None, 116, 64, 128)      0         \n",
            "_________________________________________________________________\n",
            "conv2d_15 (Conv2D)           (None, 116, 64, 64)       73792     \n",
            "_________________________________________________________________\n",
            "average_pooling2d_3 (Average (None, 58, 32, 64)        0         \n",
            "_________________________________________________________________\n",
            "dropout_12 (Dropout)         (None, 58, 32, 64)        0         \n",
            "_________________________________________________________________\n",
            "flatten_4 (Flatten)          (None, 118784)            0         \n",
            "_________________________________________________________________\n",
            "dense_14 (Dense)             (None, 1)                 118785    \n",
            "=================================================================\n",
            "Total params: 193,857\n",
            "Trainable params: 193,857\n",
            "Non-trainable params: 0\n",
            "_________________________________________________________________\n",
            "None\n"
          ],
          "name": "stdout"
        }
      ]
    },
    {
      "cell_type": "code",
      "metadata": {
        "id": "Kz6zEqywbt6A",
        "colab": {
          "base_uri": "https://localhost:8080/"
        },
        "outputId": "e43416ab-bc69-47b2-9a92-d05b9de45205"
      },
      "source": [
        "history = model.fit(X_train, y_train, epochs=100)"
      ],
      "execution_count": 74,
      "outputs": [
        {
          "output_type": "stream",
          "text": [
            "Epoch 1/100\n",
            "6/6 [==============================] - 1s 139ms/step - loss: 335681.8080 - mse: 335681.8080 - mae: 466.3404\n",
            "Epoch 2/100\n",
            "6/6 [==============================] - 1s 132ms/step - loss: 196428.3929 - mse: 196428.3929 - mae: 321.9818\n",
            "Epoch 3/100\n",
            "6/6 [==============================] - 1s 131ms/step - loss: 191030.5268 - mse: 191030.5268 - mae: 352.4976\n",
            "Epoch 4/100\n",
            "6/6 [==============================] - 1s 130ms/step - loss: 148987.3795 - mse: 148987.3795 - mae: 267.0624\n",
            "Epoch 5/100\n",
            "6/6 [==============================] - 1s 131ms/step - loss: 140314.5290 - mse: 140314.5290 - mae: 249.2203\n",
            "Epoch 6/100\n",
            "6/6 [==============================] - 1s 130ms/step - loss: 128307.9911 - mse: 128307.9911 - mae: 290.2308\n",
            "Epoch 7/100\n",
            "6/6 [==============================] - 1s 130ms/step - loss: 112941.4342 - mse: 112941.4342 - mae: 235.7536\n",
            "Epoch 8/100\n",
            "6/6 [==============================] - 1s 131ms/step - loss: 115294.8047 - mse: 115294.8047 - mae: 247.2813\n",
            "Epoch 9/100\n",
            "6/6 [==============================] - 1s 131ms/step - loss: 105799.9978 - mse: 105799.9978 - mae: 249.8071\n",
            "Epoch 10/100\n",
            "6/6 [==============================] - 1s 130ms/step - loss: 86467.3025 - mse: 86467.3025 - mae: 207.8631\n",
            "Epoch 11/100\n",
            "6/6 [==============================] - 1s 132ms/step - loss: 93862.5033 - mse: 93862.5033 - mae: 222.8819\n",
            "Epoch 12/100\n",
            "6/6 [==============================] - 1s 131ms/step - loss: 88089.7388 - mse: 88089.7388 - mae: 207.6438\n",
            "Epoch 13/100\n",
            "6/6 [==============================] - 1s 132ms/step - loss: 94749.7333 - mse: 94749.7333 - mae: 214.5540\n",
            "Epoch 14/100\n",
            "6/6 [==============================] - 1s 131ms/step - loss: 89264.8158 - mse: 89264.8158 - mae: 218.8883\n",
            "Epoch 15/100\n",
            "6/6 [==============================] - 1s 131ms/step - loss: 89144.1350 - mse: 89144.1350 - mae: 215.6806\n",
            "Epoch 16/100\n",
            "6/6 [==============================] - 1s 132ms/step - loss: 91925.9855 - mse: 91925.9855 - mae: 220.9039\n",
            "Epoch 17/100\n",
            "6/6 [==============================] - 1s 130ms/step - loss: 95416.4051 - mse: 95416.4051 - mae: 222.9709\n",
            "Epoch 18/100\n",
            "6/6 [==============================] - 1s 130ms/step - loss: 94609.3136 - mse: 94609.3136 - mae: 217.7305\n",
            "Epoch 19/100\n",
            "6/6 [==============================] - 1s 131ms/step - loss: 84756.0033 - mse: 84756.0033 - mae: 209.4228\n",
            "Epoch 20/100\n",
            "6/6 [==============================] - 1s 131ms/step - loss: 77783.1730 - mse: 77783.1730 - mae: 202.2683\n",
            "Epoch 21/100\n",
            "6/6 [==============================] - 1s 131ms/step - loss: 82856.5614 - mse: 82856.5614 - mae: 207.5826\n",
            "Epoch 22/100\n",
            "6/6 [==============================] - 1s 131ms/step - loss: 91092.9520 - mse: 91092.9520 - mae: 218.3824\n",
            "Epoch 23/100\n",
            "6/6 [==============================] - 1s 131ms/step - loss: 74137.4570 - mse: 74137.4570 - mae: 193.2388\n",
            "Epoch 24/100\n",
            "6/6 [==============================] - 1s 131ms/step - loss: 67323.0971 - mse: 67323.0971 - mae: 191.0132\n",
            "Epoch 25/100\n",
            "6/6 [==============================] - 1s 131ms/step - loss: 82364.1406 - mse: 82364.1406 - mae: 209.6321\n",
            "Epoch 26/100\n",
            "6/6 [==============================] - 1s 131ms/step - loss: 82998.8404 - mse: 82998.8404 - mae: 211.3050\n",
            "Epoch 27/100\n",
            "6/6 [==============================] - 1s 131ms/step - loss: 83082.5558 - mse: 83082.5558 - mae: 215.2809\n",
            "Epoch 28/100\n",
            "6/6 [==============================] - 1s 130ms/step - loss: 79848.4208 - mse: 79848.4208 - mae: 203.4131\n",
            "Epoch 29/100\n",
            "6/6 [==============================] - 1s 130ms/step - loss: 80819.8114 - mse: 80819.8114 - mae: 213.8538\n",
            "Epoch 30/100\n",
            "6/6 [==============================] - 1s 130ms/step - loss: 76802.4665 - mse: 76802.4665 - mae: 203.8239\n",
            "Epoch 31/100\n",
            "6/6 [==============================] - 1s 132ms/step - loss: 73215.4509 - mse: 73215.4509 - mae: 199.3466\n",
            "Epoch 32/100\n",
            "6/6 [==============================] - 1s 130ms/step - loss: 68488.2042 - mse: 68488.2042 - mae: 193.4796\n",
            "Epoch 33/100\n",
            "6/6 [==============================] - 1s 129ms/step - loss: 74191.7165 - mse: 74191.7165 - mae: 202.5989\n",
            "Epoch 34/100\n",
            "6/6 [==============================] - 1s 131ms/step - loss: 73669.5993 - mse: 73669.5993 - mae: 196.6812\n",
            "Epoch 35/100\n",
            "6/6 [==============================] - 1s 131ms/step - loss: 69284.0441 - mse: 69284.0441 - mae: 193.6312\n",
            "Epoch 36/100\n",
            "6/6 [==============================] - 1s 130ms/step - loss: 75423.8304 - mse: 75423.8304 - mae: 206.8316\n",
            "Epoch 37/100\n",
            "6/6 [==============================] - 1s 132ms/step - loss: 72749.9464 - mse: 72749.9464 - mae: 201.5559\n",
            "Epoch 38/100\n",
            "6/6 [==============================] - 1s 130ms/step - loss: 76753.4520 - mse: 76753.4520 - mae: 201.2000\n",
            "Epoch 39/100\n",
            "6/6 [==============================] - 1s 131ms/step - loss: 64702.9542 - mse: 64702.9542 - mae: 194.8184\n",
            "Epoch 40/100\n",
            "6/6 [==============================] - 1s 131ms/step - loss: 62952.7422 - mse: 62952.7422 - mae: 189.2310\n",
            "Epoch 41/100\n",
            "6/6 [==============================] - 1s 131ms/step - loss: 66465.8845 - mse: 66465.8845 - mae: 193.2109\n",
            "Epoch 42/100\n",
            "6/6 [==============================] - 1s 132ms/step - loss: 60084.0547 - mse: 60084.0547 - mae: 184.1082\n",
            "Epoch 43/100\n",
            "6/6 [==============================] - 1s 131ms/step - loss: 53589.5664 - mse: 53589.5664 - mae: 177.8590\n",
            "Epoch 44/100\n",
            "6/6 [==============================] - 1s 131ms/step - loss: 61775.3633 - mse: 61775.3633 - mae: 195.7488\n",
            "Epoch 45/100\n",
            "6/6 [==============================] - 1s 132ms/step - loss: 50443.1127 - mse: 50443.1127 - mae: 171.5193\n",
            "Epoch 46/100\n",
            "6/6 [==============================] - 1s 130ms/step - loss: 42521.1445 - mse: 42521.1445 - mae: 160.4674\n",
            "Epoch 47/100\n",
            "6/6 [==============================] - 1s 131ms/step - loss: 41830.5859 - mse: 41830.5859 - mae: 161.2449\n",
            "Epoch 48/100\n",
            "6/6 [==============================] - 1s 130ms/step - loss: 33710.0033 - mse: 33710.0033 - mae: 145.5630\n",
            "Epoch 49/100\n",
            "6/6 [==============================] - 1s 131ms/step - loss: 31892.6897 - mse: 31892.6897 - mae: 145.4543\n",
            "Epoch 50/100\n",
            "6/6 [==============================] - 1s 130ms/step - loss: 32805.7972 - mse: 32805.7972 - mae: 145.3359\n",
            "Epoch 51/100\n",
            "6/6 [==============================] - 1s 132ms/step - loss: 27863.2335 - mse: 27863.2335 - mae: 137.4890\n",
            "Epoch 52/100\n",
            "6/6 [==============================] - 1s 131ms/step - loss: 33201.9043 - mse: 33201.9043 - mae: 146.5806\n",
            "Epoch 53/100\n",
            "6/6 [==============================] - 1s 132ms/step - loss: 25949.7662 - mse: 25949.7662 - mae: 126.5919\n",
            "Epoch 54/100\n",
            "6/6 [==============================] - 1s 131ms/step - loss: 26238.7397 - mse: 26238.7397 - mae: 125.8213\n",
            "Epoch 55/100\n",
            "6/6 [==============================] - 1s 132ms/step - loss: 24833.6007 - mse: 24833.6007 - mae: 126.5831\n",
            "Epoch 56/100\n",
            "6/6 [==============================] - 1s 132ms/step - loss: 23799.3703 - mse: 23799.3703 - mae: 123.6344\n",
            "Epoch 57/100\n",
            "6/6 [==============================] - 1s 131ms/step - loss: 27616.1016 - mse: 27616.1016 - mae: 135.6960\n",
            "Epoch 58/100\n",
            "6/6 [==============================] - 1s 132ms/step - loss: 26056.6878 - mse: 26056.6878 - mae: 131.7377\n",
            "Epoch 59/100\n",
            "6/6 [==============================] - 1s 131ms/step - loss: 22431.8873 - mse: 22431.8873 - mae: 119.5513\n",
            "Epoch 60/100\n",
            "6/6 [==============================] - 1s 131ms/step - loss: 22183.7020 - mse: 22183.7020 - mae: 121.1072\n",
            "Epoch 61/100\n",
            "6/6 [==============================] - 1s 129ms/step - loss: 23373.6292 - mse: 23373.6292 - mae: 124.6277\n",
            "Epoch 62/100\n",
            "6/6 [==============================] - 1s 129ms/step - loss: 22779.5419 - mse: 22779.5419 - mae: 122.5890\n",
            "Epoch 63/100\n",
            "6/6 [==============================] - 1s 133ms/step - loss: 22585.6409 - mse: 22585.6409 - mae: 118.6848\n",
            "Epoch 64/100\n",
            "6/6 [==============================] - 1s 131ms/step - loss: 23792.9727 - mse: 23792.9727 - mae: 124.0133\n",
            "Epoch 65/100\n",
            "6/6 [==============================] - 1s 130ms/step - loss: 22215.9958 - mse: 22215.9958 - mae: 121.7060\n",
            "Epoch 66/100\n",
            "6/6 [==============================] - 1s 131ms/step - loss: 21052.8383 - mse: 21052.8383 - mae: 116.1646\n",
            "Epoch 67/100\n",
            "6/6 [==============================] - 1s 132ms/step - loss: 20889.5173 - mse: 20889.5173 - mae: 118.6690\n",
            "Epoch 68/100\n",
            "6/6 [==============================] - 1s 130ms/step - loss: 18996.1383 - mse: 18996.1383 - mae: 109.2737\n",
            "Epoch 69/100\n",
            "6/6 [==============================] - 1s 131ms/step - loss: 21699.0474 - mse: 21699.0474 - mae: 119.4320\n",
            "Epoch 70/100\n",
            "6/6 [==============================] - 1s 130ms/step - loss: 23955.8398 - mse: 23955.8398 - mae: 127.9582\n",
            "Epoch 71/100\n",
            "6/6 [==============================] - 1s 132ms/step - loss: 21099.0206 - mse: 21099.0206 - mae: 113.3248\n",
            "Epoch 72/100\n",
            "6/6 [==============================] - 1s 131ms/step - loss: 23743.6490 - mse: 23743.6490 - mae: 121.6272\n",
            "Epoch 73/100\n",
            "6/6 [==============================] - 1s 130ms/step - loss: 21130.6752 - mse: 21130.6752 - mae: 118.7465\n",
            "Epoch 74/100\n",
            "6/6 [==============================] - 1s 131ms/step - loss: 21195.2501 - mse: 21195.2501 - mae: 116.1912\n",
            "Epoch 75/100\n",
            "6/6 [==============================] - 1s 129ms/step - loss: 21662.9308 - mse: 21662.9308 - mae: 117.2215\n",
            "Epoch 76/100\n",
            "6/6 [==============================] - 1s 130ms/step - loss: 23559.9392 - mse: 23559.9392 - mae: 122.4649\n",
            "Epoch 77/100\n",
            "6/6 [==============================] - 1s 130ms/step - loss: 21387.2260 - mse: 21387.2260 - mae: 116.8913\n",
            "Epoch 78/100\n",
            "6/6 [==============================] - 1s 130ms/step - loss: 20786.1574 - mse: 20786.1574 - mae: 114.6707\n",
            "Epoch 79/100\n",
            "6/6 [==============================] - 1s 130ms/step - loss: 21504.7475 - mse: 21504.7475 - mae: 121.3762\n",
            "Epoch 80/100\n",
            "6/6 [==============================] - 1s 131ms/step - loss: 22114.0848 - mse: 22114.0848 - mae: 116.3531\n",
            "Epoch 81/100\n",
            "6/6 [==============================] - 1s 131ms/step - loss: 22215.6828 - mse: 22215.6833 - mae: 120.2636\n",
            "Epoch 82/100\n",
            "6/6 [==============================] - 1s 129ms/step - loss: 22277.8424 - mse: 22277.8424 - mae: 118.9278\n",
            "Epoch 83/100\n",
            "6/6 [==============================] - 1s 131ms/step - loss: 21102.6682 - mse: 21102.6682 - mae: 116.1851\n",
            "Epoch 84/100\n",
            "6/6 [==============================] - 1s 130ms/step - loss: 22318.0843 - mse: 22318.0843 - mae: 116.7330\n",
            "Epoch 85/100\n",
            "6/6 [==============================] - 1s 129ms/step - loss: 21893.1423 - mse: 21893.1423 - mae: 121.1783\n",
            "Epoch 86/100\n",
            "6/6 [==============================] - 1s 131ms/step - loss: 22953.4601 - mse: 22953.4601 - mae: 120.8973\n",
            "Epoch 87/100\n",
            "6/6 [==============================] - 1s 128ms/step - loss: 19394.8412 - mse: 19394.8412 - mae: 111.5026\n",
            "Epoch 88/100\n",
            "6/6 [==============================] - 1s 130ms/step - loss: 18082.2178 - mse: 18082.2178 - mae: 112.5092\n",
            "Epoch 89/100\n",
            "6/6 [==============================] - 1s 129ms/step - loss: 21762.9436 - mse: 21762.9436 - mae: 116.9016\n",
            "Epoch 90/100\n",
            "6/6 [==============================] - 1s 131ms/step - loss: 21131.6878 - mse: 21131.6878 - mae: 113.0477\n",
            "Epoch 91/100\n",
            "6/6 [==============================] - 1s 129ms/step - loss: 18813.6010 - mse: 18813.6010 - mae: 109.2868\n",
            "Epoch 92/100\n",
            "6/6 [==============================] - 1s 130ms/step - loss: 22858.5176 - mse: 22858.5176 - mae: 120.9102\n",
            "Epoch 93/100\n",
            "6/6 [==============================] - 1s 130ms/step - loss: 22736.4983 - mse: 22736.4983 - mae: 125.5612\n",
            "Epoch 94/100\n",
            "6/6 [==============================] - 1s 131ms/step - loss: 20665.9573 - mse: 20665.9573 - mae: 109.4321\n",
            "Epoch 95/100\n",
            "6/6 [==============================] - 1s 130ms/step - loss: 20298.3083 - mse: 20298.3083 - mae: 115.4086\n",
            "Epoch 96/100\n",
            "6/6 [==============================] - 1s 129ms/step - loss: 22584.4032 - mse: 22584.4032 - mae: 125.0765\n",
            "Epoch 97/100\n",
            "6/6 [==============================] - 1s 129ms/step - loss: 21873.5020 - mse: 21873.5020 - mae: 114.8377\n",
            "Epoch 98/100\n",
            "6/6 [==============================] - 1s 129ms/step - loss: 21613.6998 - mse: 21613.6998 - mae: 117.6784\n",
            "Epoch 99/100\n",
            "6/6 [==============================] - 1s 129ms/step - loss: 20513.9311 - mse: 20513.9311 - mae: 112.8193\n",
            "Epoch 100/100\n",
            "6/6 [==============================] - 1s 128ms/step - loss: 21849.6554 - mse: 21849.6554 - mae: 119.5158\n"
          ],
          "name": "stdout"
        }
      ]
    },
    {
      "cell_type": "code",
      "metadata": {
        "id": "hiy-M_7VftgV"
      },
      "source": [
        "def get_normal_lstm_model(feature_length, time_length, pred_length, batch_size):\n",
        "    model = Sequential()\n",
        "    model.add(LSTM(128, return_sequences=True, stateful=True, batch_size=batch_size, input_shape=(feature_length, time_length)))\n",
        "    model.add(LSTM(64, return_sequences=False, stateful=True))\n",
        "    model.add(Dense(100, activation='relu'))\n",
        "    model.add(Dense(pred_length, activation='relu'))\n",
        "    model.compile(\n",
        "        loss='mse',\n",
        "        optimizer='adam',\n",
        "        metrics=['mse', 'mae']\n",
        "    )\n",
        "    print(model.summary())\n",
        "    return model"
      ],
      "execution_count": 42,
      "outputs": []
    },
    {
      "cell_type": "code",
      "metadata": {
        "id": "_6uEhsZgxqvw"
      },
      "source": [
        "X_v2, y_v2 = get_x_y(horizontal_img_np, y_val, 128, TIME_TEST_LENGTH)"
      ],
      "execution_count": 43,
      "outputs": []
    },
    {
      "cell_type": "code",
      "metadata": {
        "id": "YLTFB_9qy0XF",
        "colab": {
          "base_uri": "https://localhost:8080/"
        },
        "outputId": "576dbd35-3bbb-4e50-b4d7-d954233eb936"
      },
      "source": [
        "X_v2 = X_v2.reshape(X_v2.shape[0], X_v2.shape[1], X_v2.shape[2])\n",
        "y_v2 = y_v2.reshape(y_v2.shape[0])\n",
        "print(X_v2.shape, y_v2.shape)"
      ],
      "execution_count": 44,
      "outputs": [
        {
          "output_type": "stream",
          "text": [
            "(225, 232, 128) (225,)\n"
          ],
          "name": "stdout"
        }
      ]
    },
    {
      "cell_type": "code",
      "metadata": {
        "id": "AZ8LxvNWzasi"
      },
      "source": [
        "BATCH_SIZE = 15"
      ],
      "execution_count": 45,
      "outputs": []
    },
    {
      "cell_type": "code",
      "metadata": {
        "id": "zLKrCvStwurS",
        "colab": {
          "base_uri": "https://localhost:8080/"
        },
        "outputId": "a246d272-7500-4619-a0e5-d5121fa25879"
      },
      "source": [
        "model_v2 = get_normal_lstm_model(X_v2.shape[1], TIME_LENGTH, TIME_TEST_LENGTH, BATCH_SIZE)"
      ],
      "execution_count": 64,
      "outputs": [
        {
          "output_type": "stream",
          "text": [
            "Model: \"sequential_5\"\n",
            "_________________________________________________________________\n",
            "Layer (type)                 Output Shape              Param #   \n",
            "=================================================================\n",
            "lstm_4 (LSTM)                (15, 232, 128)            131584    \n",
            "_________________________________________________________________\n",
            "lstm_5 (LSTM)                (15, 64)                  49408     \n",
            "_________________________________________________________________\n",
            "dense_10 (Dense)             (15, 100)                 6500      \n",
            "_________________________________________________________________\n",
            "dense_11 (Dense)             (15, 1)                   101       \n",
            "=================================================================\n",
            "Total params: 187,593\n",
            "Trainable params: 187,593\n",
            "Non-trainable params: 0\n",
            "_________________________________________________________________\n",
            "None\n"
          ],
          "name": "stdout"
        }
      ]
    },
    {
      "cell_type": "code",
      "metadata": {
        "id": "kJlnAH5QxnzP",
        "colab": {
          "base_uri": "https://localhost:8080/"
        },
        "outputId": "bcae48e3-ce67-4949-b57e-68c56d56e6f0"
      },
      "source": [
        "full_df.shape"
      ],
      "execution_count": 47,
      "outputs": [
        {
          "output_type": "execute_result",
          "data": {
            "text/plain": [
              "(354, 232)"
            ]
          },
          "metadata": {
            "tags": []
          },
          "execution_count": 47
        }
      ]
    },
    {
      "cell_type": "code",
      "metadata": {
        "id": "CQ7Ope9SyVdQ"
      },
      "source": [
        "X_train2, X_test2, y_train2, y_test2 = train_test_split(X_v2, y_v2, random_state=0, train_size=0.8)"
      ],
      "execution_count": 48,
      "outputs": []
    },
    {
      "cell_type": "code",
      "metadata": {
        "id": "F1HBbKMtzs6U",
        "colab": {
          "base_uri": "https://localhost:8080/"
        },
        "outputId": "527ce991-85d0-474d-d8f7-45328582f8fe"
      },
      "source": [
        "print(X_train2.shape, X_test2.shape, y_train2.shape, y_test2.shape)"
      ],
      "execution_count": 49,
      "outputs": [
        {
          "output_type": "stream",
          "text": [
            "(180, 232, 128) (45, 232, 128) (180,) (45,)\n"
          ],
          "name": "stdout"
        }
      ]
    },
    {
      "cell_type": "code",
      "metadata": {
        "id": "4zeldO--zwYO",
        "colab": {
          "base_uri": "https://localhost:8080/"
        },
        "outputId": "f7a16821-4a31-4a25-89b2-54334f204b4c"
      },
      "source": [
        "history = model_v2.fit(X_train2, y_train2, batch_size=BATCH_SIZE, epochs=100, shuffle=False)"
      ],
      "execution_count": 65,
      "outputs": [
        {
          "output_type": "stream",
          "text": [
            "Epoch 1/100\n",
            "12/12 [==============================] - 4s 117ms/step - loss: 312269.5024 - mse: 312269.5072 - mae: 467.3075\n",
            "Epoch 2/100\n",
            "12/12 [==============================] - 1s 116ms/step - loss: 306470.0769 - mse: 306470.0769 - mae: 461.0582\n",
            "Epoch 3/100\n",
            "12/12 [==============================] - 1s 115ms/step - loss: 299161.8630 - mse: 299161.8630 - mae: 453.0979\n",
            "Epoch 4/100\n",
            "12/12 [==============================] - 1s 117ms/step - loss: 291500.4519 - mse: 291500.4519 - mae: 444.7058\n",
            "Epoch 5/100\n",
            "12/12 [==============================] - 1s 119ms/step - loss: 282820.8413 - mse: 282820.8413 - mae: 435.0648\n",
            "Epoch 6/100\n",
            "12/12 [==============================] - 1s 118ms/step - loss: 272726.9748 - mse: 272726.9748 - mae: 423.7062\n",
            "Epoch 7/100\n",
            "12/12 [==============================] - 1s 114ms/step - loss: 261565.6226 - mse: 261565.6226 - mae: 410.9006\n",
            "Epoch 8/100\n",
            "12/12 [==============================] - 1s 115ms/step - loss: 249501.1923 - mse: 249501.1923 - mae: 396.5991\n",
            "Epoch 9/100\n",
            "12/12 [==============================] - 1s 113ms/step - loss: 236714.5373 - mse: 236714.5373 - mae: 380.8679\n",
            "Epoch 10/100\n",
            "12/12 [==============================] - 1s 115ms/step - loss: 223423.7957 - mse: 223423.7957 - mae: 364.1468\n",
            "Epoch 11/100\n",
            "12/12 [==============================] - 1s 113ms/step - loss: 209870.8173 - mse: 209870.8173 - mae: 347.0352\n",
            "Epoch 12/100\n",
            "12/12 [==============================] - 1s 113ms/step - loss: 196312.2019 - mse: 196312.2019 - mae: 329.8529\n",
            "Epoch 13/100\n",
            "12/12 [==============================] - 1s 115ms/step - loss: 183005.8582 - mse: 183005.8582 - mae: 313.5966\n",
            "Epoch 14/100\n",
            "12/12 [==============================] - 1s 114ms/step - loss: 170060.0781 - mse: 170060.0781 - mae: 298.2357\n",
            "Epoch 15/100\n",
            "12/12 [==============================] - 1s 116ms/step - loss: 157728.9736 - mse: 157728.9736 - mae: 283.1547\n",
            "Epoch 16/100\n",
            "12/12 [==============================] - 1s 116ms/step - loss: 146400.8546 - mse: 146400.8546 - mae: 269.3726\n",
            "Epoch 17/100\n",
            "12/12 [==============================] - 1s 116ms/step - loss: 136228.5078 - mse: 136228.5078 - mae: 255.9430\n",
            "Epoch 18/100\n",
            "12/12 [==============================] - 1s 115ms/step - loss: 127310.2626 - mse: 127310.2626 - mae: 243.4273\n",
            "Epoch 19/100\n",
            "12/12 [==============================] - 1s 113ms/step - loss: 119684.4573 - mse: 119684.4573 - mae: 232.0275\n",
            "Epoch 20/100\n",
            "12/12 [==============================] - 1s 113ms/step - loss: 113333.5138 - mse: 113333.5138 - mae: 222.7229\n",
            "Epoch 21/100\n",
            "12/12 [==============================] - 1s 114ms/step - loss: 108188.8816 - mse: 108188.8816 - mae: 215.6676\n",
            "Epoch 22/100\n",
            "12/12 [==============================] - 1s 114ms/step - loss: 104140.2254 - mse: 104140.2254 - mae: 211.6069\n",
            "Epoch 23/100\n",
            "12/12 [==============================] - 1s 113ms/step - loss: 101047.8570 - mse: 101047.8570 - mae: 210.4453\n",
            "Epoch 24/100\n",
            "12/12 [==============================] - 1s 114ms/step - loss: 98756.9273 - mse: 98756.9273 - mae: 210.2494\n",
            "Epoch 25/100\n",
            "12/12 [==============================] - 1s 114ms/step - loss: 97111.2915 - mse: 97111.2915 - mae: 211.1753\n",
            "Epoch 26/100\n",
            "12/12 [==============================] - 1s 112ms/step - loss: 95965.0066 - mse: 95965.0048 - mae: 212.6442\n",
            "Epoch 27/100\n",
            "12/12 [==============================] - 1s 114ms/step - loss: 95190.4898 - mse: 95190.4898 - mae: 214.2544\n",
            "Epoch 28/100\n",
            "12/12 [==============================] - 1s 114ms/step - loss: 94682.5180 - mse: 94682.5180 - mae: 215.9868\n",
            "Epoch 29/100\n",
            "12/12 [==============================] - 1s 115ms/step - loss: 94358.8996 - mse: 94358.8996 - mae: 217.5043\n",
            "Epoch 30/100\n",
            "12/12 [==============================] - 1s 113ms/step - loss: 94158.4579 - mse: 94158.4579 - mae: 218.8405\n",
            "Epoch 31/100\n",
            "12/12 [==============================] - 1s 114ms/step - loss: 94037.7061 - mse: 94037.7061 - mae: 219.9235\n",
            "Epoch 32/100\n",
            "12/12 [==============================] - 1s 113ms/step - loss: 93966.9333 - mse: 93966.9333 - mae: 220.7742\n",
            "Epoch 33/100\n",
            "12/12 [==============================] - 1s 114ms/step - loss: 93926.6178 - mse: 93926.6178 - mae: 221.4345\n",
            "Epoch 34/100\n",
            "12/12 [==============================] - 1s 115ms/step - loss: 93904.3143 - mse: 93904.3143 - mae: 221.9412\n",
            "Epoch 35/100\n",
            "12/12 [==============================] - 1s 114ms/step - loss: 93892.4129 - mse: 93892.4117 - mae: 222.3375\n",
            "Epoch 36/100\n",
            "12/12 [==============================] - 1s 114ms/step - loss: 93886.3197 - mse: 93886.3197 - mae: 222.6530\n",
            "Epoch 37/100\n",
            "12/12 [==============================] - 1s 114ms/step - loss: 93883.3726 - mse: 93883.3726 - mae: 222.8882\n",
            "Epoch 38/100\n",
            "12/12 [==============================] - 1s 113ms/step - loss: 93882.0968 - mse: 93882.0968 - mae: 223.0622\n",
            "Epoch 39/100\n",
            "12/12 [==============================] - 1s 114ms/step - loss: 93881.6448 - mse: 93881.6448 - mae: 223.1897\n",
            "Epoch 40/100\n",
            "12/12 [==============================] - 1s 115ms/step - loss: 93881.6016 - mse: 93881.6016 - mae: 223.2825\n",
            "Epoch 41/100\n",
            "12/12 [==============================] - 1s 114ms/step - loss: 93881.7151 - mse: 93881.7151 - mae: 223.3496\n",
            "Epoch 42/100\n",
            "12/12 [==============================] - 1s 115ms/step - loss: 93881.8972 - mse: 93881.8972 - mae: 223.3978\n",
            "Epoch 43/100\n",
            "12/12 [==============================] - 1s 116ms/step - loss: 93882.0787 - mse: 93882.0787 - mae: 223.4321\n",
            "Epoch 44/100\n",
            "12/12 [==============================] - 1s 113ms/step - loss: 93882.2650 - mse: 93882.2650 - mae: 223.4564\n",
            "Epoch 45/100\n",
            "12/12 [==============================] - 1s 111ms/step - loss: 93882.4243 - mse: 93882.4243 - mae: 223.4735\n",
            "Epoch 46/100\n",
            "12/12 [==============================] - 1s 115ms/step - loss: 93882.5703 - mse: 93882.5703 - mae: 223.4855\n",
            "Epoch 47/100\n",
            "12/12 [==============================] - 1s 113ms/step - loss: 93882.6971 - mse: 93882.6971 - mae: 223.4939\n",
            "Epoch 48/100\n",
            "12/12 [==============================] - 1s 114ms/step - loss: 93882.8203 - mse: 93882.8203 - mae: 223.4997\n",
            "Epoch 49/100\n",
            "12/12 [==============================] - 1s 113ms/step - loss: 93882.9393 - mse: 93882.9393 - mae: 223.5037\n",
            "Epoch 50/100\n",
            "12/12 [==============================] - 1s 116ms/step - loss: 93883.0445 - mse: 93883.0445 - mae: 223.5065\n",
            "Epoch 51/100\n",
            "12/12 [==============================] - 1s 117ms/step - loss: 93883.1442 - mse: 93883.1442 - mae: 223.5085\n",
            "Epoch 52/100\n",
            "12/12 [==============================] - 1s 114ms/step - loss: 93883.2356 - mse: 93883.2356 - mae: 223.5098\n",
            "Epoch 53/100\n",
            "12/12 [==============================] - 1s 115ms/step - loss: 93883.3438 - mse: 93883.3438 - mae: 223.5108\n",
            "Epoch 54/100\n",
            "12/12 [==============================] - 1s 112ms/step - loss: 93883.4321 - mse: 93883.4321 - mae: 223.5115\n",
            "Epoch 55/100\n",
            "12/12 [==============================] - 1s 112ms/step - loss: 93883.5288 - mse: 93883.5288 - mae: 223.5120\n",
            "Epoch 56/100\n",
            "12/12 [==============================] - 1s 114ms/step - loss: 93883.6124 - mse: 93883.6124 - mae: 223.5124\n",
            "Epoch 57/100\n",
            "12/12 [==============================] - 1s 114ms/step - loss: 93883.7037 - mse: 93883.7037 - mae: 223.5127\n",
            "Epoch 58/100\n",
            "12/12 [==============================] - 1s 113ms/step - loss: 93883.7855 - mse: 93883.7855 - mae: 223.5130\n",
            "Epoch 59/100\n",
            "12/12 [==============================] - 1s 114ms/step - loss: 93883.8660 - mse: 93883.8684 - mae: 223.5132\n",
            "Epoch 60/100\n",
            "12/12 [==============================] - 1s 114ms/step - loss: 93883.9471 - mse: 93883.9471 - mae: 223.5134\n",
            "Epoch 61/100\n",
            "12/12 [==============================] - 1s 113ms/step - loss: 93884.0337 - mse: 93884.0337 - mae: 223.5136\n",
            "Epoch 62/100\n",
            "12/12 [==============================] - 1s 114ms/step - loss: 93884.1088 - mse: 93884.1088 - mae: 223.5138\n",
            "Epoch 63/100\n",
            "12/12 [==============================] - 1s 115ms/step - loss: 93884.2007 - mse: 93884.2007 - mae: 223.5140\n",
            "Epoch 64/100\n",
            "12/12 [==============================] - 1s 115ms/step - loss: 93884.2764 - mse: 93884.2764 - mae: 223.5142\n",
            "Epoch 65/100\n",
            "12/12 [==============================] - 1s 113ms/step - loss: 93884.3600 - mse: 93884.3600 - mae: 223.5143\n",
            "Epoch 66/100\n",
            "12/12 [==============================] - 1s 114ms/step - loss: 93884.4333 - mse: 93884.4333 - mae: 223.5145\n",
            "Epoch 67/100\n",
            "12/12 [==============================] - 1s 114ms/step - loss: 93884.5018 - mse: 93884.5018 - mae: 223.5147\n",
            "Epoch 68/100\n",
            "12/12 [==============================] - 1s 113ms/step - loss: 93884.5853 - mse: 93884.5853 - mae: 223.5148\n",
            "Epoch 69/100\n",
            "12/12 [==============================] - 1s 113ms/step - loss: 93884.6587 - mse: 93884.6587 - mae: 223.5150\n",
            "Epoch 70/100\n",
            "12/12 [==============================] - 1s 115ms/step - loss: 93884.7272 - mse: 93884.7272 - mae: 223.5151\n",
            "Epoch 71/100\n",
            "12/12 [==============================] - 1s 116ms/step - loss: 93884.8029 - mse: 93884.8029 - mae: 223.5153\n",
            "Epoch 72/100\n",
            "12/12 [==============================] - 1s 115ms/step - loss: 93884.8744 - mse: 93884.8744 - mae: 223.5154\n",
            "Epoch 73/100\n",
            "12/12 [==============================] - 1s 115ms/step - loss: 93884.9489 - mse: 93884.9489 - mae: 223.5156\n",
            "Epoch 74/100\n",
            "12/12 [==============================] - 1s 116ms/step - loss: 93885.0126 - mse: 93885.0126 - mae: 223.5157\n",
            "Epoch 75/100\n",
            "12/12 [==============================] - 1s 117ms/step - loss: 93885.0859 - mse: 93885.0859 - mae: 223.5159\n",
            "Epoch 76/100\n",
            "12/12 [==============================] - 1s 116ms/step - loss: 93885.1460 - mse: 93885.1460 - mae: 223.5160\n",
            "Epoch 77/100\n",
            "12/12 [==============================] - 1s 115ms/step - loss: 93885.2115 - mse: 93885.2115 - mae: 223.5162\n",
            "Epoch 78/100\n",
            "12/12 [==============================] - 1s 116ms/step - loss: 93885.2831 - mse: 93885.2831 - mae: 223.5163\n",
            "Epoch 79/100\n",
            "12/12 [==============================] - 1s 114ms/step - loss: 93885.3510 - mse: 93885.3510 - mae: 223.5164\n",
            "Epoch 80/100\n",
            "12/12 [==============================] - 1s 116ms/step - loss: 93885.4147 - mse: 93885.4147 - mae: 223.5166\n",
            "Epoch 81/100\n",
            "12/12 [==============================] - 1s 115ms/step - loss: 93885.4766 - mse: 93885.4766 - mae: 223.5167\n",
            "Epoch 82/100\n",
            "12/12 [==============================] - 1s 115ms/step - loss: 93885.5421 - mse: 93885.5421 - mae: 223.5169\n",
            "Epoch 83/100\n",
            "12/12 [==============================] - 1s 115ms/step - loss: 93885.5980 - mse: 93885.5980 - mae: 223.5170\n",
            "Epoch 84/100\n",
            "12/12 [==============================] - 1s 116ms/step - loss: 93885.6587 - mse: 93885.6587 - mae: 223.5171\n",
            "Epoch 85/100\n",
            "12/12 [==============================] - 1s 115ms/step - loss: 93885.7181 - mse: 93885.7181 - mae: 223.5172\n",
            "Epoch 86/100\n",
            "12/12 [==============================] - 1s 115ms/step - loss: 93885.7825 - mse: 93885.7825 - mae: 223.5174\n",
            "Epoch 87/100\n",
            "12/12 [==============================] - 1s 115ms/step - loss: 93885.8474 - mse: 93885.8474 - mae: 223.5175\n",
            "Epoch 88/100\n",
            "12/12 [==============================] - 1s 114ms/step - loss: 93885.8930 - mse: 93885.8930 - mae: 223.5176\n",
            "Epoch 89/100\n",
            "12/12 [==============================] - 1s 114ms/step - loss: 93885.9627 - mse: 93885.9627 - mae: 223.5177\n",
            "Epoch 90/100\n",
            "12/12 [==============================] - 1s 114ms/step - loss: 93886.0168 - mse: 93886.0168 - mae: 223.5178\n",
            "Epoch 91/100\n",
            "12/12 [==============================] - 1s 116ms/step - loss: 93886.0775 - mse: 93886.0775 - mae: 223.5180\n",
            "Epoch 92/100\n",
            "12/12 [==============================] - 1s 116ms/step - loss: 93886.1304 - mse: 93886.1304 - mae: 223.5181\n",
            "Epoch 93/100\n",
            "12/12 [==============================] - 1s 115ms/step - loss: 93886.1767 - mse: 93886.1767 - mae: 223.5182\n",
            "Epoch 94/100\n",
            "12/12 [==============================] - 1s 115ms/step - loss: 93886.2392 - mse: 93886.2392 - mae: 223.5183\n",
            "Epoch 95/100\n",
            "12/12 [==============================] - 1s 115ms/step - loss: 93886.2873 - mse: 93886.2873 - mae: 223.5184\n",
            "Epoch 96/100\n",
            "12/12 [==============================] - 1s 115ms/step - loss: 93886.3504 - mse: 93886.3504 - mae: 223.5186\n",
            "Epoch 97/100\n",
            "12/12 [==============================] - 1s 117ms/step - loss: 93886.3918 - mse: 93886.3918 - mae: 223.5187\n",
            "Epoch 98/100\n",
            "12/12 [==============================] - 1s 115ms/step - loss: 93886.4489 - mse: 93886.4477 - mae: 223.5188\n",
            "Epoch 99/100\n",
            "12/12 [==============================] - 1s 114ms/step - loss: 93886.5036 - mse: 93886.5036 - mae: 223.5189\n",
            "Epoch 100/100\n",
            "12/12 [==============================] - 1s 114ms/step - loss: 93886.5595 - mse: 93886.5595 - mae: 223.5190\n"
          ],
          "name": "stdout"
        }
      ]
    },
    {
      "cell_type": "code",
      "metadata": {
        "id": "GvFwYRlBz74j",
        "outputId": "68658ea3-8a03-44c6-ff0f-fb80427e5ccf",
        "colab": {
          "base_uri": "https://localhost:8080/"
        }
      },
      "source": [
        "# Evaluate Models\n",
        "\n",
        "# CNN Model\n",
        "cnn_results = model.evaluate(X_test, y_test)\n",
        "\n",
        "# LSTM Model\n",
        "lstm_results = model_v2.evaluate(X_test2, y_test2, batch_size=BATCH_SIZE)\n",
        "\n",
        "print(cnn_results)\n",
        "print(lstm_results)\n",
        "# It seems that the CNN model does have better losses, however the loss is still absurdly high. Next step is to try categorical prediction"
      ],
      "execution_count": 75,
      "outputs": [
        {
          "output_type": "stream",
          "text": [
            "2/2 [==============================] - 0s 35ms/step - loss: 25719.7148 - mse: 25719.7148 - mae: 127.7793\n",
            "3/3 [==============================] - 0s 38ms/step - loss: 78718.5234 - mse: 78718.5234 - mae: 205.3980\n",
            "[25719.71484375, 25719.71484375, 127.7793197631836]\n",
            "[78718.5234375, 78718.5234375, 205.39797973632812]\n"
          ],
          "name": "stdout"
        }
      ]
    },
    {
      "cell_type": "markdown",
      "metadata": {
        "id": "CLANxwhD0tyP"
      },
      "source": [
        "# Make into category prediction instead of regression"
      ]
    },
    {
      "cell_type": "code",
      "metadata": {
        "id": "r5Sp8Gxd0ynv"
      },
      "source": [
        "def split_category(y, num_categories):\n",
        "  m = np.max(y)\n",
        "  cutoff = m/num_categories\n",
        "  categorical_y = []\n",
        "  for val in y:\n",
        "    onehot = np.zeros(num_categories)\n",
        "    for i in range(num_categories):\n",
        "      if (i*cutoff) <= val <= ((i+1)*cutoff):\n",
        "        onehot[i] = 1\n",
        "        categorical_y.append(onehot)\n",
        "        break\n",
        "  return np.array(categorical_y)\n"
      ],
      "execution_count": 58,
      "outputs": []
    },
    {
      "cell_type": "code",
      "metadata": {
        "id": "wt0QozycLd3I"
      },
      "source": [
        "from tensorflow.keras.layers import MaxPooling2D, UpSampling2D\n",
        "\n",
        "def get_categorical_cnn_model(feature_length, time_length, pred_categories):\n",
        "\n",
        "    model = Sequential()\n",
        "    model.add(Conv2D(128, (3,3), input_shape=(feature_length, time_length, 1), padding='same', activation='relu'))\n",
        "    model.add(AveragePooling2D())\n",
        "    model.add(Dropout(0.3))\n",
        "    model.add(Conv2D(64, (3,3), padding='same', activation='relu'))\n",
        "    model.add(AveragePooling2D())\n",
        "    model.add(Dropout(0.3))\n",
        "    model.add(Flatten())\n",
        "    model.add(Dense(pred_categories, activation='softmax'))\n",
        "    model.compile(\n",
        "        loss='categorical_crossentropy',\n",
        "        optimizer='adam',\n",
        "        metrics=['accuracy']\n",
        "    )\n",
        "    print(model.summary())\n",
        "    return model\n",
        "  "
      ],
      "execution_count": 76,
      "outputs": []
    },
    {
      "cell_type": "code",
      "metadata": {
        "id": "_OpJ8Dz0MEN_",
        "colab": {
          "base_uri": "https://localhost:8080/"
        },
        "outputId": "4a343ac9-f8db-412a-ba9d-1f535d6167a4"
      },
      "source": [
        "NUM_CATEGORIES = 4\n",
        "\n",
        "X_v3, y_v3_raw = get_x_y(horizontal_img_np, y_val, TIME_LENGTH, TIME_TEST_LENGTH)\n",
        "y_v3 = split_category(y_v3_raw, NUM_CATEGORIES)\n",
        "X_train3, X_test3, y_train3, y_test3 = train_test_split(X_v3, y_v3, random_state=0, train_size=0.8)\n",
        "print(X_train3.shape, X_test3.shape, y_train3.shape, y_test3.shape)"
      ],
      "execution_count": 77,
      "outputs": [
        {
          "output_type": "stream",
          "text": [
            "(180, 232, 128, 1) (45, 232, 128, 1) (180, 4) (45, 4)\n"
          ],
          "name": "stdout"
        }
      ]
    },
    {
      "cell_type": "code",
      "metadata": {
        "id": "yXLzkGsmM7Oh",
        "colab": {
          "base_uri": "https://localhost:8080/"
        },
        "outputId": "d3817f77-c367-4137-9c32-7cd70182f4ce"
      },
      "source": [
        "model_v3 = get_categorical_cnn_model(X_train3.shape[1], TIME_LENGTH, NUM_CATEGORIES)"
      ],
      "execution_count": 80,
      "outputs": [
        {
          "output_type": "stream",
          "text": [
            "Model: \"sequential_9\"\n",
            "_________________________________________________________________\n",
            "Layer (type)                 Output Shape              Param #   \n",
            "=================================================================\n",
            "conv2d_18 (Conv2D)           (None, 232, 128, 128)     1280      \n",
            "_________________________________________________________________\n",
            "average_pooling2d_6 (Average (None, 116, 64, 128)      0         \n",
            "_________________________________________________________________\n",
            "dropout_15 (Dropout)         (None, 116, 64, 128)      0         \n",
            "_________________________________________________________________\n",
            "conv2d_19 (Conv2D)           (None, 116, 64, 64)       73792     \n",
            "_________________________________________________________________\n",
            "average_pooling2d_7 (Average (None, 58, 32, 64)        0         \n",
            "_________________________________________________________________\n",
            "dropout_16 (Dropout)         (None, 58, 32, 64)        0         \n",
            "_________________________________________________________________\n",
            "flatten_6 (Flatten)          (None, 118784)            0         \n",
            "_________________________________________________________________\n",
            "dense_16 (Dense)             (None, 4)                 475140    \n",
            "=================================================================\n",
            "Total params: 550,212\n",
            "Trainable params: 550,212\n",
            "Non-trainable params: 0\n",
            "_________________________________________________________________\n",
            "None\n"
          ],
          "name": "stdout"
        }
      ]
    },
    {
      "cell_type": "code",
      "metadata": {
        "id": "ou16DKrlN70L",
        "colab": {
          "base_uri": "https://localhost:8080/"
        },
        "outputId": "120e7593-8ad0-4cbf-c239-d1965b0a4821"
      },
      "source": [
        "history = model_v3.fit(X_train3, y_train3, batch_size=1, epochs=50)"
      ],
      "execution_count": 81,
      "outputs": [
        {
          "output_type": "stream",
          "text": [
            "Epoch 1/50\n",
            "180/180 [==============================] - 2s 10ms/step - loss: 1.5243 - accuracy: 0.4396\n",
            "Epoch 2/50\n",
            "180/180 [==============================] - 2s 10ms/step - loss: 1.0517 - accuracy: 0.4112\n",
            "Epoch 3/50\n",
            "180/180 [==============================] - 2s 9ms/step - loss: 1.0047 - accuracy: 0.4898\n",
            "Epoch 4/50\n",
            "180/180 [==============================] - 2s 9ms/step - loss: 0.9733 - accuracy: 0.4950\n",
            "Epoch 5/50\n",
            "180/180 [==============================] - 2s 9ms/step - loss: 0.8444 - accuracy: 0.5633\n",
            "Epoch 6/50\n",
            "180/180 [==============================] - 2s 9ms/step - loss: 0.8858 - accuracy: 0.5517\n",
            "Epoch 7/50\n",
            "180/180 [==============================] - 2s 9ms/step - loss: 0.7486 - accuracy: 0.5703\n",
            "Epoch 8/50\n",
            "180/180 [==============================] - 2s 9ms/step - loss: 0.6661 - accuracy: 0.6443\n",
            "Epoch 9/50\n",
            "180/180 [==============================] - 2s 10ms/step - loss: 0.6065 - accuracy: 0.7238\n",
            "Epoch 10/50\n",
            "180/180 [==============================] - 2s 10ms/step - loss: 0.6284 - accuracy: 0.7134\n",
            "Epoch 11/50\n",
            "180/180 [==============================] - 2s 9ms/step - loss: 0.5403 - accuracy: 0.8003\n",
            "Epoch 12/50\n",
            "180/180 [==============================] - 2s 9ms/step - loss: 0.5729 - accuracy: 0.7551\n",
            "Epoch 13/50\n",
            "180/180 [==============================] - 2s 9ms/step - loss: 0.4739 - accuracy: 0.7593\n",
            "Epoch 14/50\n",
            "180/180 [==============================] - 2s 9ms/step - loss: 0.4449 - accuracy: 0.8415\n",
            "Epoch 15/50\n",
            "180/180 [==============================] - 2s 10ms/step - loss: 0.4377 - accuracy: 0.8442\n",
            "Epoch 16/50\n",
            "180/180 [==============================] - 2s 9ms/step - loss: 0.4627 - accuracy: 0.8081\n",
            "Epoch 17/50\n",
            "180/180 [==============================] - 2s 9ms/step - loss: 0.3901 - accuracy: 0.8432\n",
            "Epoch 18/50\n",
            "180/180 [==============================] - 2s 9ms/step - loss: 0.4040 - accuracy: 0.8443\n",
            "Epoch 19/50\n",
            "180/180 [==============================] - 2s 9ms/step - loss: 0.5498 - accuracy: 0.7634\n",
            "Epoch 20/50\n",
            "180/180 [==============================] - 2s 9ms/step - loss: 0.4601 - accuracy: 0.7874\n",
            "Epoch 21/50\n",
            "180/180 [==============================] - 2s 10ms/step - loss: 0.3141 - accuracy: 0.9106\n",
            "Epoch 22/50\n",
            "180/180 [==============================] - 2s 10ms/step - loss: 0.2863 - accuracy: 0.8817\n",
            "Epoch 23/50\n",
            "180/180 [==============================] - 2s 10ms/step - loss: 0.4200 - accuracy: 0.8062\n",
            "Epoch 24/50\n",
            "180/180 [==============================] - 2s 9ms/step - loss: 0.3712 - accuracy: 0.8277\n",
            "Epoch 25/50\n",
            "180/180 [==============================] - 2s 10ms/step - loss: 0.3384 - accuracy: 0.8602\n",
            "Epoch 26/50\n",
            "180/180 [==============================] - 2s 10ms/step - loss: 0.2537 - accuracy: 0.8988\n",
            "Epoch 27/50\n",
            "180/180 [==============================] - 2s 10ms/step - loss: 0.2836 - accuracy: 0.9139\n",
            "Epoch 28/50\n",
            "180/180 [==============================] - 2s 9ms/step - loss: 0.2668 - accuracy: 0.9087\n",
            "Epoch 29/50\n",
            "180/180 [==============================] - 2s 10ms/step - loss: 0.2825 - accuracy: 0.8886\n",
            "Epoch 30/50\n",
            "180/180 [==============================] - 2s 9ms/step - loss: 0.2427 - accuracy: 0.8590\n",
            "Epoch 31/50\n",
            "180/180 [==============================] - 2s 9ms/step - loss: 0.2134 - accuracy: 0.9315\n",
            "Epoch 32/50\n",
            "180/180 [==============================] - 2s 9ms/step - loss: 0.1966 - accuracy: 0.9023\n",
            "Epoch 33/50\n",
            "180/180 [==============================] - 2s 9ms/step - loss: 0.2130 - accuracy: 0.9135\n",
            "Epoch 34/50\n",
            "180/180 [==============================] - 2s 10ms/step - loss: 0.2680 - accuracy: 0.9479\n",
            "Epoch 35/50\n",
            "180/180 [==============================] - 2s 9ms/step - loss: 0.2769 - accuracy: 0.8701\n",
            "Epoch 36/50\n",
            "180/180 [==============================] - 2s 10ms/step - loss: 0.1754 - accuracy: 0.9409\n",
            "Epoch 37/50\n",
            "180/180 [==============================] - 2s 9ms/step - loss: 0.2004 - accuracy: 0.9289\n",
            "Epoch 38/50\n",
            "180/180 [==============================] - 2s 9ms/step - loss: 0.2078 - accuracy: 0.9096\n",
            "Epoch 39/50\n",
            "180/180 [==============================] - 2s 9ms/step - loss: 0.1186 - accuracy: 0.9620\n",
            "Epoch 40/50\n",
            "180/180 [==============================] - 2s 9ms/step - loss: 0.0999 - accuracy: 0.9783\n",
            "Epoch 41/50\n",
            "180/180 [==============================] - 2s 10ms/step - loss: 0.2644 - accuracy: 0.8864\n",
            "Epoch 42/50\n",
            "180/180 [==============================] - 2s 10ms/step - loss: 0.1969 - accuracy: 0.9456\n",
            "Epoch 43/50\n",
            "180/180 [==============================] - 2s 10ms/step - loss: 0.2168 - accuracy: 0.9162\n",
            "Epoch 44/50\n",
            "180/180 [==============================] - 2s 10ms/step - loss: 0.0963 - accuracy: 0.9871\n",
            "Epoch 45/50\n",
            "180/180 [==============================] - 2s 10ms/step - loss: 0.0993 - accuracy: 0.9702\n",
            "Epoch 46/50\n",
            "180/180 [==============================] - 2s 10ms/step - loss: 0.1665 - accuracy: 0.9347\n",
            "Epoch 47/50\n",
            "180/180 [==============================] - 2s 10ms/step - loss: 0.1703 - accuracy: 0.9763\n",
            "Epoch 48/50\n",
            "180/180 [==============================] - 2s 10ms/step - loss: 0.1144 - accuracy: 0.9401\n",
            "Epoch 49/50\n",
            "180/180 [==============================] - 2s 9ms/step - loss: 0.1018 - accuracy: 0.9381\n",
            "Epoch 50/50\n",
            "180/180 [==============================] - 2s 9ms/step - loss: 0.0646 - accuracy: 0.9913\n"
          ],
          "name": "stdout"
        }
      ]
    },
    {
      "cell_type": "code",
      "metadata": {
        "id": "c1jZtl-GWzhu"
      },
      "source": [
        "def get_categorical_lstm_model(feature_length, time_length, pred_length, batch_size):\n",
        "    model = Sequential()\n",
        "    model.add(LSTM(128, return_sequences=True, stateful=True, batch_size=batch_size, input_shape=(feature_length, time_length)))\n",
        "    model.add(LSTM(64, return_sequences=False, stateful=True))\n",
        "    model.add(Dense(100, activation='relu'))\n",
        "    model.add(Dense(pred_length, activation='softmax'))\n",
        "    model.compile(\n",
        "        loss='categorical_crossentropy',\n",
        "        optimizer='adam',\n",
        "        metrics=['accuracy']\n",
        "    )\n",
        "    print(model.summary())\n",
        "    return model"
      ],
      "execution_count": 84,
      "outputs": []
    },
    {
      "cell_type": "code",
      "metadata": {
        "id": "UyUw7n2rXjWB",
        "outputId": "e57f0ae1-844f-4429-fb21-b7447d42fba7",
        "colab": {
          "base_uri": "https://localhost:8080/"
        }
      },
      "source": [
        "X_v4, y_v4 = get_x_y(horizontal_img_np, y_val, 128, TIME_TEST_LENGTH)\n",
        "X_v4 = X_v4.reshape(X_v4.shape[0], X_v4.shape[1], X_v4.shape[2])\n",
        "y_v4 = y_v4.reshape(y_v4.shape[0])\n",
        "print(X_v4.shape, y_v4.shape)"
      ],
      "execution_count": 86,
      "outputs": [
        {
          "output_type": "stream",
          "text": [
            "(225, 232, 128) (225,)\n"
          ],
          "name": "stdout"
        }
      ]
    },
    {
      "cell_type": "code",
      "metadata": {
        "id": "Ls-nVPFkXxmy",
        "outputId": "9e812201-e1ac-459d-9cdf-135a353bc5f9",
        "colab": {
          "base_uri": "https://localhost:8080/"
        }
      },
      "source": [
        "y_v4 = split_category(y_v4, NUM_CATEGORIES)\n",
        "print(y_v4.shape)"
      ],
      "execution_count": 87,
      "outputs": [
        {
          "output_type": "stream",
          "text": [
            "(225, 4)\n"
          ],
          "name": "stdout"
        }
      ]
    },
    {
      "cell_type": "code",
      "metadata": {
        "id": "j302ucFAYAC6"
      },
      "source": [
        "X_train4, X_test4, y_train4, y_test4 = train_test_split(X_v4, y_v4, random_state=0, train_size=0.8)"
      ],
      "execution_count": 88,
      "outputs": []
    },
    {
      "cell_type": "code",
      "metadata": {
        "id": "UNM3iqRBXDSN",
        "outputId": "10e86c62-6b06-42fb-b261-c68eea8bc2f8",
        "colab": {
          "base_uri": "https://localhost:8080/"
        }
      },
      "source": [
        "model_v4 = get_categorical_lstm_model(X_train4.shape[1], TIME_LENGTH, NUM_CATEGORIES, 1)"
      ],
      "execution_count": 89,
      "outputs": [
        {
          "output_type": "stream",
          "text": [
            "Model: \"sequential_10\"\n",
            "_________________________________________________________________\n",
            "Layer (type)                 Output Shape              Param #   \n",
            "=================================================================\n",
            "lstm_6 (LSTM)                (1, 232, 128)             131584    \n",
            "_________________________________________________________________\n",
            "lstm_7 (LSTM)                (1, 64)                   49408     \n",
            "_________________________________________________________________\n",
            "dense_17 (Dense)             (1, 100)                  6500      \n",
            "_________________________________________________________________\n",
            "dense_18 (Dense)             (1, 4)                    404       \n",
            "=================================================================\n",
            "Total params: 187,896\n",
            "Trainable params: 187,896\n",
            "Non-trainable params: 0\n",
            "_________________________________________________________________\n",
            "None\n"
          ],
          "name": "stdout"
        }
      ]
    },
    {
      "cell_type": "code",
      "metadata": {
        "id": "uZOgNffLYR82",
        "outputId": "15f0d37d-f41e-4cf8-a828-0ac426a3a7a2",
        "colab": {
          "base_uri": "https://localhost:8080/"
        }
      },
      "source": [
        "lstm_history = model_v4.fit(X_train4, y_train4, batch_size=1, epochs=50)"
      ],
      "execution_count": 90,
      "outputs": [
        {
          "output_type": "stream",
          "text": [
            "Epoch 1/50\n",
            "180/180 [==============================] - 17s 77ms/step - loss: 1.2795 - accuracy: 0.4203\n",
            "Epoch 2/50\n",
            "180/180 [==============================] - 14s 77ms/step - loss: 1.2411 - accuracy: 0.4375\n",
            "Epoch 3/50\n",
            "180/180 [==============================] - 14s 77ms/step - loss: 1.1318 - accuracy: 0.3487\n",
            "Epoch 4/50\n",
            "180/180 [==============================] - 14s 76ms/step - loss: 1.0736 - accuracy: 0.5121\n",
            "Epoch 5/50\n",
            "180/180 [==============================] - 14s 77ms/step - loss: 1.1446 - accuracy: 0.4661\n",
            "Epoch 6/50\n",
            "180/180 [==============================] - 14s 76ms/step - loss: 1.1587 - accuracy: 0.4609\n",
            "Epoch 7/50\n",
            "180/180 [==============================] - 14s 77ms/step - loss: 1.1813 - accuracy: 0.4334\n",
            "Epoch 8/50\n",
            "180/180 [==============================] - 14s 76ms/step - loss: 1.1805 - accuracy: 0.4287\n",
            "Epoch 9/50\n",
            "180/180 [==============================] - 14s 75ms/step - loss: 1.0570 - accuracy: 0.4257\n",
            "Epoch 10/50\n",
            "180/180 [==============================] - 14s 75ms/step - loss: 0.9714 - accuracy: 0.4526\n",
            "Epoch 11/50\n",
            "180/180 [==============================] - 14s 76ms/step - loss: 1.0130 - accuracy: 0.4765\n",
            "Epoch 12/50\n",
            "180/180 [==============================] - 14s 76ms/step - loss: 1.0888 - accuracy: 0.4005\n",
            "Epoch 13/50\n",
            "180/180 [==============================] - 14s 76ms/step - loss: 0.8441 - accuracy: 0.5644\n",
            "Epoch 14/50\n",
            "180/180 [==============================] - 14s 75ms/step - loss: 0.8553 - accuracy: 0.5494\n",
            "Epoch 15/50\n",
            "180/180 [==============================] - 13s 75ms/step - loss: 0.8154 - accuracy: 0.4816\n",
            "Epoch 16/50\n",
            "180/180 [==============================] - 13s 75ms/step - loss: 0.8785 - accuracy: 0.4852\n",
            "Epoch 17/50\n",
            "180/180 [==============================] - 14s 76ms/step - loss: 1.1670 - accuracy: 0.3737\n",
            "Epoch 18/50\n",
            "180/180 [==============================] - 13s 74ms/step - loss: 0.9570 - accuracy: 0.3977\n",
            "Epoch 19/50\n",
            "180/180 [==============================] - 14s 76ms/step - loss: 0.8331 - accuracy: 0.5802\n",
            "Epoch 20/50\n",
            "180/180 [==============================] - 14s 76ms/step - loss: 0.8021 - accuracy: 0.4557\n",
            "Epoch 21/50\n",
            "180/180 [==============================] - 14s 76ms/step - loss: 0.9011 - accuracy: 0.4923\n",
            "Epoch 22/50\n",
            "180/180 [==============================] - 14s 75ms/step - loss: 0.7793 - accuracy: 0.5627\n",
            "Epoch 23/50\n",
            "180/180 [==============================] - 14s 77ms/step - loss: 0.9177 - accuracy: 0.4810\n",
            "Epoch 24/50\n",
            "180/180 [==============================] - 14s 76ms/step - loss: 0.7928 - accuracy: 0.5113\n",
            "Epoch 25/50\n",
            "180/180 [==============================] - 14s 78ms/step - loss: 0.8066 - accuracy: 0.5081\n",
            "Epoch 26/50\n",
            "180/180 [==============================] - 14s 75ms/step - loss: 0.7763 - accuracy: 0.4160\n",
            "Epoch 27/50\n",
            "180/180 [==============================] - 13s 75ms/step - loss: 0.7923 - accuracy: 0.5553\n",
            "Epoch 28/50\n",
            "180/180 [==============================] - 14s 75ms/step - loss: 0.7799 - accuracy: 0.4643\n",
            "Epoch 29/50\n",
            "180/180 [==============================] - 14s 75ms/step - loss: 0.7571 - accuracy: 0.6021\n",
            "Epoch 30/50\n",
            "180/180 [==============================] - 14s 76ms/step - loss: 0.7672 - accuracy: 0.6051\n",
            "Epoch 31/50\n",
            "180/180 [==============================] - 14s 76ms/step - loss: 0.7359 - accuracy: 0.6125\n",
            "Epoch 32/50\n",
            "180/180 [==============================] - 14s 77ms/step - loss: 0.7004 - accuracy: 0.6190\n",
            "Epoch 33/50\n",
            "180/180 [==============================] - 14s 76ms/step - loss: 0.7008 - accuracy: 0.6335\n",
            "Epoch 34/50\n",
            "180/180 [==============================] - 14s 77ms/step - loss: 0.7043 - accuracy: 0.6795\n",
            "Epoch 35/50\n",
            "180/180 [==============================] - 14s 76ms/step - loss: 0.6546 - accuracy: 0.6937\n",
            "Epoch 36/50\n",
            "180/180 [==============================] - 14s 76ms/step - loss: 0.5685 - accuracy: 0.7474\n",
            "Epoch 37/50\n",
            "180/180 [==============================] - 14s 75ms/step - loss: 0.7189 - accuracy: 0.6036\n",
            "Epoch 38/50\n",
            "180/180 [==============================] - 14s 75ms/step - loss: 0.5524 - accuracy: 0.7348\n",
            "Epoch 39/50\n",
            "180/180 [==============================] - 14s 77ms/step - loss: 0.5078 - accuracy: 0.7800\n",
            "Epoch 40/50\n",
            "180/180 [==============================] - 13s 75ms/step - loss: 0.4646 - accuracy: 0.8304\n",
            "Epoch 41/50\n",
            "180/180 [==============================] - 13s 74ms/step - loss: 0.4862 - accuracy: 0.8160\n",
            "Epoch 42/50\n",
            "180/180 [==============================] - 14s 76ms/step - loss: 0.5282 - accuracy: 0.8342\n",
            "Epoch 43/50\n",
            "180/180 [==============================] - 14s 76ms/step - loss: 0.4147 - accuracy: 0.8505\n",
            "Epoch 44/50\n",
            "180/180 [==============================] - 14s 76ms/step - loss: 0.4362 - accuracy: 0.8445\n",
            "Epoch 45/50\n",
            "180/180 [==============================] - 13s 74ms/step - loss: 0.3685 - accuracy: 0.8851\n",
            "Epoch 46/50\n",
            "180/180 [==============================] - 14s 76ms/step - loss: 0.4400 - accuracy: 0.8334\n",
            "Epoch 47/50\n",
            "180/180 [==============================] - 14s 76ms/step - loss: 0.3782 - accuracy: 0.8616\n",
            "Epoch 48/50\n",
            "180/180 [==============================] - 14s 76ms/step - loss: 0.3494 - accuracy: 0.8818\n",
            "Epoch 49/50\n",
            "180/180 [==============================] - 14s 76ms/step - loss: 0.3498 - accuracy: 0.8494\n",
            "Epoch 50/50\n",
            "180/180 [==============================] - 14s 76ms/step - loss: 0.2345 - accuracy: 0.9311\n"
          ],
          "name": "stdout"
        }
      ]
    },
    {
      "cell_type": "code",
      "metadata": {
        "id": "Y_IcF3_jYZOB",
        "outputId": "7c7ba6c0-18e5-4d55-8d58-235d3d6c17f8",
        "colab": {
          "base_uri": "https://localhost:8080/",
          "height": 298
        }
      },
      "source": [
        "import matplotlib.pyplot as plt, seaborn as sns\n",
        "\n",
        "%matplotlib inline\n",
        "\n",
        "fig = plt.figure()\n",
        "fig.patch.set_facecolor('white')\n",
        "\n",
        "history_time = [i for i in range(len(history.history['loss']))]\n",
        "\n",
        "sns.lineplot(x=history_time, y=history.history['loss'])\n",
        "plt.title('CNN Model Loss')"
      ],
      "execution_count": 97,
      "outputs": [
        {
          "output_type": "execute_result",
          "data": {
            "text/plain": [
              "Text(0.5, 1.0, 'CNN Model Loss')"
            ]
          },
          "metadata": {
            "tags": []
          },
          "execution_count": 97
        },
        {
          "output_type": "display_data",
          "data": {
            "image/png": "[encoded data removed]",
            "text/plain": [
              "<Figure size 432x288 with 1 Axes>"
            ]
          },
          "metadata": {
            "tags": []
          }
        }
      ]
    },
    {
      "cell_type": "code",
      "metadata": {
        "id": "pK6zjawdYm_J",
        "outputId": "ed366d3e-487c-4372-af3f-2a34e0342674",
        "colab": {
          "base_uri": "https://localhost:8080/",
          "height": 298
        }
      },
      "source": [
        "fig = plt.figure()\n",
        "fig.patch.set_facecolor('white')\n",
        "\n",
        "history_time = [i for i in range(len(lstm_history.history['loss']))]\n",
        "\n",
        "sns.lineplot(x=history_time, y=lstm_history.history['loss'])\n",
        "plt.title('LSTM Model Loss')\n"
      ],
      "execution_count": 98,
      "outputs": [
        {
          "output_type": "execute_result",
          "data": {
            "text/plain": [
              "Text(0.5, 1.0, 'LSTM Model Loss')"
            ]
          },
          "metadata": {
            "tags": []
          },
          "execution_count": 98
        },
        {
          "output_type": "display_data",
          "data": {
            "image/png": "[encoded data removed]",
            "text/plain": [
              "<Figure size 432x288 with 1 Axes>"
            ]
          },
          "metadata": {
            "tags": []
          }
        }
      ]
    },
    {
      "cell_type": "code",
      "metadata": {
        "id": "6akI65oTPp4P",
        "colab": {
          "base_uri": "https://localhost:8080/"
        },
        "outputId": "8be8300e-839b-4a56-97c3-b2fbd1f5ca8c"
      },
      "source": [
        "# Evaluate CNN Model\n",
        "model_v3.evaluate(X_test3, y_test3, batch_size=1)"
      ],
      "execution_count": 93,
      "outputs": [
        {
          "output_type": "stream",
          "text": [
            "45/45 [==============================] - 0s 6ms/step - loss: 0.8493 - accuracy: 0.8000\n"
          ],
          "name": "stdout"
        },
        {
          "output_type": "execute_result",
          "data": {
            "text/plain": [
              "[0.8492946028709412, 0.800000011920929]"
            ]
          },
          "metadata": {
            "tags": []
          },
          "execution_count": 93
        }
      ]
    },
    {
      "cell_type": "code",
      "metadata": {
        "id": "-WNkeUM4bg71",
        "outputId": "f6875dcd-ce32-455c-d5fb-3391d681f50d",
        "colab": {
          "base_uri": "https://localhost:8080/"
        }
      },
      "source": [
        "# Evaluate LSTM Model\n",
        "model_v4.evaluate(X_test4, y_test4, batch_size=1)"
      ],
      "execution_count": 94,
      "outputs": [
        {
          "output_type": "stream",
          "text": [
            "45/45 [==============================] - 2s 24ms/step - loss: 1.2523 - accuracy: 0.6667\n"
          ],
          "name": "stdout"
        },
        {
          "output_type": "execute_result",
          "data": {
            "text/plain": [
              "[1.2523421049118042, 0.6666666865348816]"
            ]
          },
          "metadata": {
            "tags": []
          },
          "execution_count": 94
        }
      ]
    },
    {
      "cell_type": "code",
      "metadata": {
        "id": "sVRBaLnEbf3l"
      },
      "source": [
        ""
      ],
      "execution_count": null,
      "outputs": []
    },
    {
      "cell_type": "code",
      "metadata": {
        "id": "wd-rpGakTNbQ"
      },
      "source": [
        ""
      ],
      "execution_count": null,
      "outputs": []
    }
  ]
}