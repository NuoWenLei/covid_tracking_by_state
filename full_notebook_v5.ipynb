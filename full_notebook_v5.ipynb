{
  "nbformat": 4,
  "nbformat_minor": 0,
  "metadata": {
    "language_info": {
      "codemirror_mode": {
        "name": "ipython",
        "version": 3
      },
      "file_extension": ".py",
      "mimetype": "text/x-python",
      "name": "python",
      "nbconvert_exporter": "python",
      "pygments_lexer": "ipython3",
      "version": "3.7.9-final"
    },
    "orig_nbformat": 2,
    "kernelspec": {
      "name": "python3",
      "display_name": "Python 3.7.9 64-bit",
      "metadata": {
        "interpreter": {
          "hash": "aee8b7b246df8f9039afb4144a1f6fd8d2ca17a180786b69acc140d282b71a49"
        }
      }
    },
    "colab": {
      "name": "full_notebook.ipynb",
      "provenance": []
    },
    "accelerator": "GPU"
  },
  "cells": [
    {
      "cell_type": "code",
      "metadata": {
        "id": "IZ-G1Epkbt5w",
        "colab": {
          "base_uri": "https://localhost:8080/",
          "height": 103
        },
        "outputId": "bd10b570-5258-4171-af66-b8ed086d08b1"
      },
      "source": [
        "import json, requests\n",
        "url_format = 'https://raw.githubusercontent.com/NuoWenLei/covid_tracking_by_state/main/state_data/alabama.csv'\n",
        "headers = {\"User-Agent\": \"Mozilla/5.0 (Windows NT 10.0; Win64; x64) AppleWebKit/537.36 (KHTML, like Gecko) Chrome/70.0.3538.77 Safari/537.36\"}\n",
        "r = requests.get('https://raw.githubusercontent.com/NuoWenLei/covid_tracking_by_state/main/state_name_list.json', headers=headers)\n",
        "r.text"
      ],
      "execution_count": 1,
      "outputs": [
        {
          "output_type": "execute_result",
          "data": {
            "application/vnd.google.colaboratory.intrinsic+json": {
              "type": "string"
            },
            "text/plain": [
              "'[\"alabama\", \"alaska\", \"american-samoa\", \"arizona\", \"arkansas\", \"california\", \"colorado\", \"connecticut\", \"delaware\", \"district-of-columbia\", \"florida\", \"georgia\", \"guam\", \"hawaii\", \"idaho\", \"illinois\", \"indiana\", \"iowa\", \"kansas\", \"kentucky\", \"louisiana\", \"maine\", \"maryland\", \"massachusetts\", \"michigan\", \"minnesota\", \"mississippi\", \"missouri\", \"montana\", \"nebraska\", \"nevada\", \"new-hampshire\", \"new-jersey\", \"new-mexico\", \"new-york\", \"north-carolina\", \"north-dakota\", \"northern-mariana-islands\", \"ohio\", \"oklahoma\", \"oregon\", \"pennsylvania\", \"puerto-rico\", \"rhode-island\", \"south-carolina\", \"south-dakota\", \"tennessee\", \"texas\", \"us-virgin-islands\", \"utah\", \"vermont\", \"virginia\", \"washington\", \"west-virginia\", \"wisconsin\", \"wyoming\"]'"
            ]
          },
          "metadata": {
            "tags": []
          },
          "execution_count": 1
        }
      ]
    },
    {
      "cell_type": "code",
      "metadata": {
        "id": "Z335Q2Vvbt51"
      },
      "source": [
        "state_names = json.loads(r.text)"
      ],
      "execution_count": 2,
      "outputs": []
    },
    {
      "cell_type": "markdown",
      "metadata": {
        "id": "EANSDGSQbt52"
      },
      "source": [
        "# Data Cleaning"
      ]
    },
    {
      "cell_type": "code",
      "metadata": {
        "id": "QTu-8rEwbt52",
        "colab": {
          "base_uri": "https://localhost:8080/"
        },
        "outputId": "1a7111eb-6c4c-492e-fb37-a5afa904a4c5"
      },
      "source": [
        "from io import StringIO\n",
        "import pandas as pd, numpy as np\n",
        "state_pandas_dict_raw = {}\n",
        "\n",
        "for state in state_names:\n",
        "    print(state)\n",
        "    r = requests.get('https://raw.githubusercontent.com/NuoWenLei/covid_tracking_by_state/main/state_data/{}.csv'.format(state), headers=headers)\n",
        "    state_pandas_dict_raw[state] = pd.read_csv(StringIO(r.text))\n"
      ],
      "execution_count": 3,
      "outputs": [
        {
          "output_type": "stream",
          "text": [
            "alabama\n",
            "alaska\n",
            "american-samoa\n",
            "arizona\n",
            "arkansas\n",
            "california\n",
            "colorado\n",
            "connecticut\n",
            "delaware\n",
            "district-of-columbia\n",
            "florida\n",
            "georgia\n",
            "guam\n",
            "hawaii\n",
            "idaho\n",
            "illinois\n",
            "indiana\n",
            "iowa\n",
            "kansas\n",
            "kentucky\n",
            "louisiana\n",
            "maine\n",
            "maryland\n",
            "massachusetts\n",
            "michigan\n",
            "minnesota\n",
            "mississippi\n",
            "missouri\n",
            "montana\n",
            "nebraska\n",
            "nevada\n",
            "new-hampshire\n",
            "new-jersey\n",
            "new-mexico\n",
            "new-york\n",
            "north-carolina\n",
            "north-dakota\n",
            "northern-mariana-islands\n",
            "ohio\n",
            "oklahoma\n",
            "oregon\n",
            "pennsylvania\n",
            "puerto-rico\n",
            "rhode-island\n",
            "south-carolina\n",
            "south-dakota\n",
            "tennessee\n",
            "texas\n",
            "us-virgin-islands\n",
            "utah\n",
            "vermont\n",
            "virginia\n",
            "washington\n",
            "west-virginia\n",
            "wisconsin\n",
            "wyoming\n"
          ],
          "name": "stdout"
        }
      ]
    },
    {
      "cell_type": "code",
      "metadata": {
        "id": "zaRcWiy0bt52",
        "colab": {
          "base_uri": "https://localhost:8080/",
          "height": 609
        },
        "outputId": "9e534944-08c9-46c0-eadf-6eb0ff200160"
      },
      "source": [
        "state_pandas_dict_raw[state_names[0]]"
      ],
      "execution_count": 4,
      "outputs": [
        {
          "output_type": "execute_result",
          "data": {
            "text/html": [
              "<div>\n",
              "<style scoped>\n",
              "    .dataframe tbody tr th:only-of-type {\n",
              "        vertical-align: middle;\n",
              "    }\n",
              "\n",
              "    .dataframe tbody tr th {\n",
              "        vertical-align: top;\n",
              "    }\n",
              "\n",
              "    .dataframe thead th {\n",
              "        text-align: right;\n",
              "    }\n",
              "</style>\n",
              "<table border=\"1\" class=\"dataframe\">\n",
              "  <thead>\n",
              "    <tr style=\"text-align: right;\">\n",
              "      <th></th>\n",
              "      <th>date</th>\n",
              "      <th>state</th>\n",
              "      <th>death</th>\n",
              "      <th>deathConfirmed</th>\n",
              "      <th>deathIncrease</th>\n",
              "      <th>deathProbable</th>\n",
              "      <th>hospitalized</th>\n",
              "      <th>hospitalizedCumulative</th>\n",
              "      <th>hospitalizedCurrently</th>\n",
              "      <th>hospitalizedIncrease</th>\n",
              "      <th>inIcuCumulative</th>\n",
              "      <th>inIcuCurrently</th>\n",
              "      <th>negative</th>\n",
              "      <th>negativeIncrease</th>\n",
              "      <th>negativeTestsAntibody</th>\n",
              "      <th>negativeTestsPeopleAntibody</th>\n",
              "      <th>negativeTestsViral</th>\n",
              "      <th>onVentilatorCumulative</th>\n",
              "      <th>onVentilatorCurrently</th>\n",
              "      <th>positive</th>\n",
              "      <th>positiveCasesViral</th>\n",
              "      <th>positiveIncrease</th>\n",
              "      <th>positiveScore</th>\n",
              "      <th>positiveTestsAntibody</th>\n",
              "      <th>positiveTestsAntigen</th>\n",
              "      <th>positiveTestsPeopleAntibody</th>\n",
              "      <th>positiveTestsPeopleAntigen</th>\n",
              "      <th>positiveTestsViral</th>\n",
              "      <th>recovered</th>\n",
              "      <th>totalTestEncountersViral</th>\n",
              "      <th>totalTestEncountersViralIncrease</th>\n",
              "      <th>totalTestResults</th>\n",
              "      <th>totalTestResultsIncrease</th>\n",
              "      <th>totalTestsAntibody</th>\n",
              "      <th>totalTestsAntigen</th>\n",
              "      <th>totalTestsPeopleAntibody</th>\n",
              "      <th>totalTestsPeopleAntigen</th>\n",
              "      <th>totalTestsPeopleViral</th>\n",
              "      <th>totalTestsPeopleViralIncrease</th>\n",
              "      <th>totalTestsViral</th>\n",
              "      <th>totalTestsViralIncrease</th>\n",
              "    </tr>\n",
              "  </thead>\n",
              "  <tbody>\n",
              "    <tr>\n",
              "      <th>0</th>\n",
              "      <td>2021-03-04</td>\n",
              "      <td>AL</td>\n",
              "      <td>10094.0</td>\n",
              "      <td>7920.0</td>\n",
              "      <td>65</td>\n",
              "      <td>2174.0</td>\n",
              "      <td>45807.0</td>\n",
              "      <td>45807.0</td>\n",
              "      <td>544.0</td>\n",
              "      <td>84</td>\n",
              "      <td>2666.0</td>\n",
              "      <td>NaN</td>\n",
              "      <td>1920535.0</td>\n",
              "      <td>4990</td>\n",
              "      <td>NaN</td>\n",
              "      <td>NaN</td>\n",
              "      <td>NaN</td>\n",
              "      <td>1513.0</td>\n",
              "      <td>NaN</td>\n",
              "      <td>498076</td>\n",
              "      <td>390672</td>\n",
              "      <td>922</td>\n",
              "      <td>0</td>\n",
              "      <td>NaN</td>\n",
              "      <td>NaN</td>\n",
              "      <td>NaN</td>\n",
              "      <td>NaN</td>\n",
              "      <td>NaN</td>\n",
              "      <td>295690.0</td>\n",
              "      <td>NaN</td>\n",
              "      <td>0</td>\n",
              "      <td>2311207</td>\n",
              "      <td>5890</td>\n",
              "      <td>NaN</td>\n",
              "      <td>NaN</td>\n",
              "      <td>118631.0</td>\n",
              "      <td>NaN</td>\n",
              "      <td>2311207</td>\n",
              "      <td>5890</td>\n",
              "      <td>NaN</td>\n",
              "      <td>0</td>\n",
              "    </tr>\n",
              "    <tr>\n",
              "      <th>1</th>\n",
              "      <td>2021-03-03</td>\n",
              "      <td>AL</td>\n",
              "      <td>10029.0</td>\n",
              "      <td>7872.0</td>\n",
              "      <td>38</td>\n",
              "      <td>2157.0</td>\n",
              "      <td>45723.0</td>\n",
              "      <td>45723.0</td>\n",
              "      <td>559.0</td>\n",
              "      <td>24</td>\n",
              "      <td>2662.0</td>\n",
              "      <td>NaN</td>\n",
              "      <td>1915545.0</td>\n",
              "      <td>7243</td>\n",
              "      <td>NaN</td>\n",
              "      <td>NaN</td>\n",
              "      <td>NaN</td>\n",
              "      <td>1510.0</td>\n",
              "      <td>NaN</td>\n",
              "      <td>497154</td>\n",
              "      <td>389772</td>\n",
              "      <td>2733</td>\n",
              "      <td>0</td>\n",
              "      <td>NaN</td>\n",
              "      <td>NaN</td>\n",
              "      <td>NaN</td>\n",
              "      <td>NaN</td>\n",
              "      <td>NaN</td>\n",
              "      <td>295690.0</td>\n",
              "      <td>NaN</td>\n",
              "      <td>0</td>\n",
              "      <td>2305317</td>\n",
              "      <td>9595</td>\n",
              "      <td>NaN</td>\n",
              "      <td>NaN</td>\n",
              "      <td>118154.0</td>\n",
              "      <td>NaN</td>\n",
              "      <td>2305317</td>\n",
              "      <td>9595</td>\n",
              "      <td>NaN</td>\n",
              "      <td>0</td>\n",
              "    </tr>\n",
              "    <tr>\n",
              "      <th>2</th>\n",
              "      <td>2021-03-02</td>\n",
              "      <td>AL</td>\n",
              "      <td>9991.0</td>\n",
              "      <td>7840.0</td>\n",
              "      <td>60</td>\n",
              "      <td>2151.0</td>\n",
              "      <td>45699.0</td>\n",
              "      <td>45699.0</td>\n",
              "      <td>631.0</td>\n",
              "      <td>51</td>\n",
              "      <td>2659.0</td>\n",
              "      <td>NaN</td>\n",
              "      <td>1908302.0</td>\n",
              "      <td>3161</td>\n",
              "      <td>NaN</td>\n",
              "      <td>NaN</td>\n",
              "      <td>NaN</td>\n",
              "      <td>1509.0</td>\n",
              "      <td>NaN</td>\n",
              "      <td>494421</td>\n",
              "      <td>387420</td>\n",
              "      <td>652</td>\n",
              "      <td>0</td>\n",
              "      <td>NaN</td>\n",
              "      <td>NaN</td>\n",
              "      <td>NaN</td>\n",
              "      <td>NaN</td>\n",
              "      <td>NaN</td>\n",
              "      <td>285130.0</td>\n",
              "      <td>NaN</td>\n",
              "      <td>0</td>\n",
              "      <td>2295722</td>\n",
              "      <td>3648</td>\n",
              "      <td>NaN</td>\n",
              "      <td>NaN</td>\n",
              "      <td>117904.0</td>\n",
              "      <td>NaN</td>\n",
              "      <td>2295722</td>\n",
              "      <td>3648</td>\n",
              "      <td>NaN</td>\n",
              "      <td>0</td>\n",
              "    </tr>\n",
              "    <tr>\n",
              "      <th>3</th>\n",
              "      <td>2021-03-01</td>\n",
              "      <td>AL</td>\n",
              "      <td>9931.0</td>\n",
              "      <td>7789.0</td>\n",
              "      <td>2</td>\n",
              "      <td>2142.0</td>\n",
              "      <td>45648.0</td>\n",
              "      <td>45648.0</td>\n",
              "      <td>651.0</td>\n",
              "      <td>220</td>\n",
              "      <td>2651.0</td>\n",
              "      <td>NaN</td>\n",
              "      <td>1905141.0</td>\n",
              "      <td>1450</td>\n",
              "      <td>NaN</td>\n",
              "      <td>NaN</td>\n",
              "      <td>NaN</td>\n",
              "      <td>1508.0</td>\n",
              "      <td>NaN</td>\n",
              "      <td>493769</td>\n",
              "      <td>386933</td>\n",
              "      <td>517</td>\n",
              "      <td>0</td>\n",
              "      <td>NaN</td>\n",
              "      <td>NaN</td>\n",
              "      <td>NaN</td>\n",
              "      <td>NaN</td>\n",
              "      <td>NaN</td>\n",
              "      <td>285130.0</td>\n",
              "      <td>NaN</td>\n",
              "      <td>0</td>\n",
              "      <td>2292074</td>\n",
              "      <td>1858</td>\n",
              "      <td>NaN</td>\n",
              "      <td>NaN</td>\n",
              "      <td>117746.0</td>\n",
              "      <td>NaN</td>\n",
              "      <td>2292074</td>\n",
              "      <td>1858</td>\n",
              "      <td>NaN</td>\n",
              "      <td>0</td>\n",
              "    </tr>\n",
              "    <tr>\n",
              "      <th>4</th>\n",
              "      <td>2021-02-28</td>\n",
              "      <td>AL</td>\n",
              "      <td>9929.0</td>\n",
              "      <td>7787.0</td>\n",
              "      <td>-1</td>\n",
              "      <td>2142.0</td>\n",
              "      <td>45428.0</td>\n",
              "      <td>45428.0</td>\n",
              "      <td>657.0</td>\n",
              "      <td>0</td>\n",
              "      <td>2650.0</td>\n",
              "      <td>NaN</td>\n",
              "      <td>1903691.0</td>\n",
              "      <td>2776</td>\n",
              "      <td>NaN</td>\n",
              "      <td>NaN</td>\n",
              "      <td>NaN</td>\n",
              "      <td>1508.0</td>\n",
              "      <td>NaN</td>\n",
              "      <td>493252</td>\n",
              "      <td>386525</td>\n",
              "      <td>569</td>\n",
              "      <td>0</td>\n",
              "      <td>NaN</td>\n",
              "      <td>NaN</td>\n",
              "      <td>NaN</td>\n",
              "      <td>NaN</td>\n",
              "      <td>NaN</td>\n",
              "      <td>285130.0</td>\n",
              "      <td>NaN</td>\n",
              "      <td>0</td>\n",
              "      <td>2290216</td>\n",
              "      <td>3265</td>\n",
              "      <td>NaN</td>\n",
              "      <td>NaN</td>\n",
              "      <td>117548.0</td>\n",
              "      <td>NaN</td>\n",
              "      <td>2290216</td>\n",
              "      <td>3265</td>\n",
              "      <td>NaN</td>\n",
              "      <td>0</td>\n",
              "    </tr>\n",
              "    <tr>\n",
              "      <th>...</th>\n",
              "      <td>...</td>\n",
              "      <td>...</td>\n",
              "      <td>...</td>\n",
              "      <td>...</td>\n",
              "      <td>...</td>\n",
              "      <td>...</td>\n",
              "      <td>...</td>\n",
              "      <td>...</td>\n",
              "      <td>...</td>\n",
              "      <td>...</td>\n",
              "      <td>...</td>\n",
              "      <td>...</td>\n",
              "      <td>...</td>\n",
              "      <td>...</td>\n",
              "      <td>...</td>\n",
              "      <td>...</td>\n",
              "      <td>...</td>\n",
              "      <td>...</td>\n",
              "      <td>...</td>\n",
              "      <td>...</td>\n",
              "      <td>...</td>\n",
              "      <td>...</td>\n",
              "      <td>...</td>\n",
              "      <td>...</td>\n",
              "      <td>...</td>\n",
              "      <td>...</td>\n",
              "      <td>...</td>\n",
              "      <td>...</td>\n",
              "      <td>...</td>\n",
              "      <td>...</td>\n",
              "      <td>...</td>\n",
              "      <td>...</td>\n",
              "      <td>...</td>\n",
              "      <td>...</td>\n",
              "      <td>...</td>\n",
              "      <td>...</td>\n",
              "      <td>...</td>\n",
              "      <td>...</td>\n",
              "      <td>...</td>\n",
              "      <td>...</td>\n",
              "      <td>...</td>\n",
              "    </tr>\n",
              "    <tr>\n",
              "      <th>358</th>\n",
              "      <td>2020-03-11</td>\n",
              "      <td>AL</td>\n",
              "      <td>NaN</td>\n",
              "      <td>NaN</td>\n",
              "      <td>0</td>\n",
              "      <td>NaN</td>\n",
              "      <td>NaN</td>\n",
              "      <td>NaN</td>\n",
              "      <td>NaN</td>\n",
              "      <td>0</td>\n",
              "      <td>NaN</td>\n",
              "      <td>NaN</td>\n",
              "      <td>10.0</td>\n",
              "      <td>10</td>\n",
              "      <td>NaN</td>\n",
              "      <td>NaN</td>\n",
              "      <td>NaN</td>\n",
              "      <td>NaN</td>\n",
              "      <td>NaN</td>\n",
              "      <td>0</td>\n",
              "      <td>0</td>\n",
              "      <td>0</td>\n",
              "      <td>0</td>\n",
              "      <td>NaN</td>\n",
              "      <td>NaN</td>\n",
              "      <td>NaN</td>\n",
              "      <td>NaN</td>\n",
              "      <td>NaN</td>\n",
              "      <td>NaN</td>\n",
              "      <td>NaN</td>\n",
              "      <td>0</td>\n",
              "      <td>10</td>\n",
              "      <td>10</td>\n",
              "      <td>NaN</td>\n",
              "      <td>NaN</td>\n",
              "      <td>NaN</td>\n",
              "      <td>NaN</td>\n",
              "      <td>10</td>\n",
              "      <td>10</td>\n",
              "      <td>NaN</td>\n",
              "      <td>0</td>\n",
              "    </tr>\n",
              "    <tr>\n",
              "      <th>359</th>\n",
              "      <td>2020-03-10</td>\n",
              "      <td>AL</td>\n",
              "      <td>NaN</td>\n",
              "      <td>NaN</td>\n",
              "      <td>0</td>\n",
              "      <td>NaN</td>\n",
              "      <td>NaN</td>\n",
              "      <td>NaN</td>\n",
              "      <td>NaN</td>\n",
              "      <td>0</td>\n",
              "      <td>NaN</td>\n",
              "      <td>NaN</td>\n",
              "      <td>0.0</td>\n",
              "      <td>0</td>\n",
              "      <td>NaN</td>\n",
              "      <td>NaN</td>\n",
              "      <td>NaN</td>\n",
              "      <td>NaN</td>\n",
              "      <td>NaN</td>\n",
              "      <td>0</td>\n",
              "      <td>0</td>\n",
              "      <td>0</td>\n",
              "      <td>0</td>\n",
              "      <td>NaN</td>\n",
              "      <td>NaN</td>\n",
              "      <td>NaN</td>\n",
              "      <td>NaN</td>\n",
              "      <td>NaN</td>\n",
              "      <td>NaN</td>\n",
              "      <td>NaN</td>\n",
              "      <td>0</td>\n",
              "      <td>0</td>\n",
              "      <td>0</td>\n",
              "      <td>NaN</td>\n",
              "      <td>NaN</td>\n",
              "      <td>NaN</td>\n",
              "      <td>NaN</td>\n",
              "      <td>0</td>\n",
              "      <td>0</td>\n",
              "      <td>NaN</td>\n",
              "      <td>0</td>\n",
              "    </tr>\n",
              "    <tr>\n",
              "      <th>360</th>\n",
              "      <td>2020-03-09</td>\n",
              "      <td>AL</td>\n",
              "      <td>NaN</td>\n",
              "      <td>NaN</td>\n",
              "      <td>0</td>\n",
              "      <td>NaN</td>\n",
              "      <td>NaN</td>\n",
              "      <td>NaN</td>\n",
              "      <td>NaN</td>\n",
              "      <td>0</td>\n",
              "      <td>NaN</td>\n",
              "      <td>NaN</td>\n",
              "      <td>NaN</td>\n",
              "      <td>0</td>\n",
              "      <td>NaN</td>\n",
              "      <td>NaN</td>\n",
              "      <td>NaN</td>\n",
              "      <td>NaN</td>\n",
              "      <td>NaN</td>\n",
              "      <td>0</td>\n",
              "      <td>0</td>\n",
              "      <td>0</td>\n",
              "      <td>0</td>\n",
              "      <td>NaN</td>\n",
              "      <td>NaN</td>\n",
              "      <td>NaN</td>\n",
              "      <td>NaN</td>\n",
              "      <td>NaN</td>\n",
              "      <td>NaN</td>\n",
              "      <td>NaN</td>\n",
              "      <td>0</td>\n",
              "      <td>0</td>\n",
              "      <td>0</td>\n",
              "      <td>NaN</td>\n",
              "      <td>NaN</td>\n",
              "      <td>NaN</td>\n",
              "      <td>NaN</td>\n",
              "      <td>0</td>\n",
              "      <td>0</td>\n",
              "      <td>NaN</td>\n",
              "      <td>0</td>\n",
              "    </tr>\n",
              "    <tr>\n",
              "      <th>361</th>\n",
              "      <td>2020-03-08</td>\n",
              "      <td>AL</td>\n",
              "      <td>NaN</td>\n",
              "      <td>NaN</td>\n",
              "      <td>0</td>\n",
              "      <td>NaN</td>\n",
              "      <td>NaN</td>\n",
              "      <td>NaN</td>\n",
              "      <td>NaN</td>\n",
              "      <td>0</td>\n",
              "      <td>NaN</td>\n",
              "      <td>NaN</td>\n",
              "      <td>NaN</td>\n",
              "      <td>0</td>\n",
              "      <td>NaN</td>\n",
              "      <td>NaN</td>\n",
              "      <td>NaN</td>\n",
              "      <td>NaN</td>\n",
              "      <td>NaN</td>\n",
              "      <td>0</td>\n",
              "      <td>0</td>\n",
              "      <td>0</td>\n",
              "      <td>0</td>\n",
              "      <td>NaN</td>\n",
              "      <td>NaN</td>\n",
              "      <td>NaN</td>\n",
              "      <td>NaN</td>\n",
              "      <td>NaN</td>\n",
              "      <td>NaN</td>\n",
              "      <td>NaN</td>\n",
              "      <td>0</td>\n",
              "      <td>0</td>\n",
              "      <td>0</td>\n",
              "      <td>NaN</td>\n",
              "      <td>NaN</td>\n",
              "      <td>NaN</td>\n",
              "      <td>NaN</td>\n",
              "      <td>0</td>\n",
              "      <td>0</td>\n",
              "      <td>NaN</td>\n",
              "      <td>0</td>\n",
              "    </tr>\n",
              "    <tr>\n",
              "      <th>362</th>\n",
              "      <td>2020-03-07</td>\n",
              "      <td>AL</td>\n",
              "      <td>NaN</td>\n",
              "      <td>NaN</td>\n",
              "      <td>0</td>\n",
              "      <td>NaN</td>\n",
              "      <td>NaN</td>\n",
              "      <td>NaN</td>\n",
              "      <td>NaN</td>\n",
              "      <td>0</td>\n",
              "      <td>NaN</td>\n",
              "      <td>NaN</td>\n",
              "      <td>NaN</td>\n",
              "      <td>0</td>\n",
              "      <td>NaN</td>\n",
              "      <td>NaN</td>\n",
              "      <td>NaN</td>\n",
              "      <td>NaN</td>\n",
              "      <td>NaN</td>\n",
              "      <td>0</td>\n",
              "      <td>0</td>\n",
              "      <td>0</td>\n",
              "      <td>0</td>\n",
              "      <td>NaN</td>\n",
              "      <td>NaN</td>\n",
              "      <td>NaN</td>\n",
              "      <td>NaN</td>\n",
              "      <td>NaN</td>\n",
              "      <td>NaN</td>\n",
              "      <td>NaN</td>\n",
              "      <td>0</td>\n",
              "      <td>0</td>\n",
              "      <td>0</td>\n",
              "      <td>NaN</td>\n",
              "      <td>NaN</td>\n",
              "      <td>NaN</td>\n",
              "      <td>NaN</td>\n",
              "      <td>0</td>\n",
              "      <td>0</td>\n",
              "      <td>NaN</td>\n",
              "      <td>0</td>\n",
              "    </tr>\n",
              "  </tbody>\n",
              "</table>\n",
              "<p>363 rows × 41 columns</p>\n",
              "</div>"
            ],
            "text/plain": [
              "           date state  ...  totalTestsViral  totalTestsViralIncrease\n",
              "0    2021-03-04    AL  ...              NaN                        0\n",
              "1    2021-03-03    AL  ...              NaN                        0\n",
              "2    2021-03-02    AL  ...              NaN                        0\n",
              "3    2021-03-01    AL  ...              NaN                        0\n",
              "4    2021-02-28    AL  ...              NaN                        0\n",
              "..          ...   ...  ...              ...                      ...\n",
              "358  2020-03-11    AL  ...              NaN                        0\n",
              "359  2020-03-10    AL  ...              NaN                        0\n",
              "360  2020-03-09    AL  ...              NaN                        0\n",
              "361  2020-03-08    AL  ...              NaN                        0\n",
              "362  2020-03-07    AL  ...              NaN                        0\n",
              "\n",
              "[363 rows x 41 columns]"
            ]
          },
          "metadata": {
            "tags": []
          },
          "execution_count": 4
        }
      ]
    },
    {
      "cell_type": "code",
      "metadata": {
        "tags": [],
        "id": "6Yg4zw3kbt53",
        "colab": {
          "base_uri": "https://localhost:8080/"
        },
        "outputId": "d47a76dd-c6a9-4a94-f3cf-8a8e4f59d5d5"
      },
      "source": [
        "# find bad columns that is all nan\n",
        "import matplotlib.pyplot as plt, seaborn as sns\n",
        "state_pandas_dict = {}\n",
        "nan_columns = []\n",
        "all_columns = state_pandas_dict_raw[state].columns.values\n",
        "must_columns = [i for i in all_columns if 'Increase' in i] + ['deathConfirmed', 'death']\n",
        "good_states = []\n",
        "print(must_columns)\n",
        "for i, state in enumerate(state_names):\n",
        "    state_pandas_dict[state] = state_pandas_dict_raw[state].drop(['state', 'date'], axis=1).astype('float64').fillna(0.0)\n",
        "    print(state_pandas_dict[state].shape)\n",
        "    for col in must_columns:\n",
        "        if state_pandas_dict_raw[state][state_pandas_dict_raw[state][col].notna()].shape[0] < 200:\n",
        "            print('State {} skipped due to insufficient data'.format(state))\n",
        "            break\n",
        "    else:\n",
        "        good_states.append(state)\n",
        "        for col in state_pandas_dict[state].columns.values:\n",
        "            if state_pandas_dict[state][col].sum() == 0:\n",
        "                if col not in nan_columns:\n",
        "                    nan_columns.append(col)\n",
        "print(len(nan_columns))"
      ],
      "execution_count": 5,
      "outputs": [
        {
          "output_type": "stream",
          "text": [
            "['deathIncrease', 'hospitalizedIncrease', 'negativeIncrease', 'positiveIncrease', 'totalTestEncountersViralIncrease', 'totalTestResultsIncrease', 'totalTestsPeopleViralIncrease', 'totalTestsViralIncrease', 'deathConfirmed', 'death']\n",
            "(363, 39)\n",
            "(364, 39)\n",
            "(354, 39)\n",
            "State american-samoa skipped due to insufficient data\n",
            "(366, 39)\n",
            "(364, 39)\n",
            "State arkansas skipped due to insufficient data\n",
            "(366, 39)\n",
            "State california skipped due to insufficient data\n",
            "(366, 39)\n",
            "(370, 39)\n",
            "(364, 39)\n",
            "(365, 39)\n",
            "State district-of-columbia skipped due to insufficient data\n",
            "(401, 39)\n",
            "State florida skipped due to insufficient data\n",
            "(366, 39)\n",
            "State georgia skipped due to insufficient data\n",
            "(354, 39)\n",
            "State guam skipped due to insufficient data\n",
            "(366, 39)\n",
            "(363, 39)\n",
            "(366, 39)\n",
            "(372, 39)\n",
            "(364, 39)\n",
            "State iowa skipped due to insufficient data\n",
            "(364, 39)\n",
            "State kansas skipped due to insufficient data\n",
            "(364, 39)\n",
            "(363, 39)\n",
            "(363, 39)\n",
            "(365, 39)\n",
            "(408, 39)\n",
            "(369, 39)\n",
            "(364, 39)\n",
            "(363, 39)\n",
            "(363, 39)\n",
            "State missouri skipped due to insufficient data\n",
            "(363, 39)\n",
            "State montana skipped due to insufficient data\n",
            "(384, 39)\n",
            "State nebraska skipped due to insufficient data\n",
            "(365, 39)\n",
            "State nevada skipped due to insufficient data\n",
            "(366, 39)\n",
            "State new-hampshire skipped due to insufficient data\n",
            "(389, 39)\n",
            "(365, 39)\n",
            "State new-mexico skipped due to insufficient data\n",
            "(368, 39)\n",
            "State new-york skipped due to insufficient data\n",
            "(366, 39)\n",
            "(363, 39)\n",
            "State north-dakota skipped due to insufficient data\n",
            "(354, 39)\n",
            "State northern-mariana-islands skipped due to insufficient data\n",
            "(365, 39)\n",
            "(363, 39)\n",
            "State oklahoma skipped due to insufficient data\n",
            "(366, 39)\n",
            "State oregon skipped due to insufficient data\n",
            "(367, 39)\n",
            "State pennsylvania skipped due to insufficient data\n",
            "(354, 39)\n",
            "(369, 39)\n",
            "State rhode-island skipped due to insufficient data\n",
            "(366, 39)\n",
            "(363, 39)\n",
            "State south-dakota skipped due to insufficient data\n",
            "(365, 39)\n",
            "(367, 39)\n",
            "State texas skipped due to insufficient data\n",
            "(354, 39)\n",
            "State us-virgin-islands skipped due to insufficient data\n",
            "(363, 39)\n",
            "State utah skipped due to insufficient data\n",
            "(367, 39)\n",
            "(403, 39)\n",
            "(417, 39)\n",
            "(364, 39)\n",
            "(367, 39)\n",
            "(369, 39)\n",
            "State wyoming skipped due to insufficient data\n",
            "31\n"
          ],
          "name": "stdout"
        }
      ]
    },
    {
      "cell_type": "code",
      "metadata": {
        "id": "aNvjBzydbt53"
      },
      "source": [
        "# Drop bad columns\n",
        "for i, state in enumerate(good_states):\n",
        "    state_pandas_dict[state] = state_pandas_dict[state].drop(nan_columns, axis=1)"
      ],
      "execution_count": 6,
      "outputs": []
    },
    {
      "cell_type": "code",
      "metadata": {
        "id": "zEDUkLh_bt53"
      },
      "source": [
        "# Rename state columns with their state name included\n",
        "good_cols = state_pandas_dict[good_states[0]].columns.values\n",
        "for state in good_states:\n",
        "    new_cols = ['{} - {}'.format(state, i) for i in good_cols]\n",
        "    state_pandas_dict[state].columns = new_cols"
      ],
      "execution_count": 7,
      "outputs": []
    },
    {
      "cell_type": "code",
      "metadata": {
        "id": "4hD4RYZsbt54",
        "colab": {
          "base_uri": "https://localhost:8080/",
          "height": 221
        },
        "outputId": "c1360b31-c7b0-4ca8-f100-641d1c579f23"
      },
      "source": [
        "state_pandas_dict[good_states[0]].head()"
      ],
      "execution_count": 8,
      "outputs": [
        {
          "output_type": "execute_result",
          "data": {
            "text/html": [
              "<div>\n",
              "<style scoped>\n",
              "    .dataframe tbody tr th:only-of-type {\n",
              "        vertical-align: middle;\n",
              "    }\n",
              "\n",
              "    .dataframe tbody tr th {\n",
              "        vertical-align: top;\n",
              "    }\n",
              "\n",
              "    .dataframe thead th {\n",
              "        text-align: right;\n",
              "    }\n",
              "</style>\n",
              "<table border=\"1\" class=\"dataframe\">\n",
              "  <thead>\n",
              "    <tr style=\"text-align: right;\">\n",
              "      <th></th>\n",
              "      <th>alabama - death</th>\n",
              "      <th>alabama - deathConfirmed</th>\n",
              "      <th>alabama - deathIncrease</th>\n",
              "      <th>alabama - hospitalizedCurrently</th>\n",
              "      <th>alabama - positive</th>\n",
              "      <th>alabama - positiveIncrease</th>\n",
              "      <th>alabama - totalTestResults</th>\n",
              "      <th>alabama - totalTestResultsIncrease</th>\n",
              "    </tr>\n",
              "  </thead>\n",
              "  <tbody>\n",
              "    <tr>\n",
              "      <th>0</th>\n",
              "      <td>10094.0</td>\n",
              "      <td>7920.0</td>\n",
              "      <td>65.0</td>\n",
              "      <td>544.0</td>\n",
              "      <td>498076.0</td>\n",
              "      <td>922.0</td>\n",
              "      <td>2311207.0</td>\n",
              "      <td>5890.0</td>\n",
              "    </tr>\n",
              "    <tr>\n",
              "      <th>1</th>\n",
              "      <td>10029.0</td>\n",
              "      <td>7872.0</td>\n",
              "      <td>38.0</td>\n",
              "      <td>559.0</td>\n",
              "      <td>497154.0</td>\n",
              "      <td>2733.0</td>\n",
              "      <td>2305317.0</td>\n",
              "      <td>9595.0</td>\n",
              "    </tr>\n",
              "    <tr>\n",
              "      <th>2</th>\n",
              "      <td>9991.0</td>\n",
              "      <td>7840.0</td>\n",
              "      <td>60.0</td>\n",
              "      <td>631.0</td>\n",
              "      <td>494421.0</td>\n",
              "      <td>652.0</td>\n",
              "      <td>2295722.0</td>\n",
              "      <td>3648.0</td>\n",
              "    </tr>\n",
              "    <tr>\n",
              "      <th>3</th>\n",
              "      <td>9931.0</td>\n",
              "      <td>7789.0</td>\n",
              "      <td>2.0</td>\n",
              "      <td>651.0</td>\n",
              "      <td>493769.0</td>\n",
              "      <td>517.0</td>\n",
              "      <td>2292074.0</td>\n",
              "      <td>1858.0</td>\n",
              "    </tr>\n",
              "    <tr>\n",
              "      <th>4</th>\n",
              "      <td>9929.0</td>\n",
              "      <td>7787.0</td>\n",
              "      <td>-1.0</td>\n",
              "      <td>657.0</td>\n",
              "      <td>493252.0</td>\n",
              "      <td>569.0</td>\n",
              "      <td>2290216.0</td>\n",
              "      <td>3265.0</td>\n",
              "    </tr>\n",
              "  </tbody>\n",
              "</table>\n",
              "</div>"
            ],
            "text/plain": [
              "   alabama - death  ...  alabama - totalTestResultsIncrease\n",
              "0          10094.0  ...                              5890.0\n",
              "1          10029.0  ...                              9595.0\n",
              "2           9991.0  ...                              3648.0\n",
              "3           9931.0  ...                              1858.0\n",
              "4           9929.0  ...                              3265.0\n",
              "\n",
              "[5 rows x 8 columns]"
            ]
          },
          "metadata": {
            "tags": []
          },
          "execution_count": 8
        }
      ]
    },
    {
      "cell_type": "code",
      "metadata": {
        "id": "RlJTEd9qbt54",
        "colab": {
          "base_uri": "https://localhost:8080/"
        },
        "outputId": "9be5b2e3-429a-49d3-ed5b-2c14191379ca"
      },
      "source": [
        "state_pandas_dict[good_states[0]].shape"
      ],
      "execution_count": 9,
      "outputs": [
        {
          "output_type": "execute_result",
          "data": {
            "text/plain": [
              "(363, 8)"
            ]
          },
          "metadata": {
            "tags": []
          },
          "execution_count": 9
        }
      ]
    },
    {
      "cell_type": "code",
      "metadata": {
        "id": "bOYrke37bt54",
        "colab": {
          "base_uri": "https://localhost:8080/"
        },
        "outputId": "551f795c-1f5f-4620-9a25-d24a7709ffb5"
      },
      "source": [
        "arr_lengths = []\n",
        "for state in good_states:\n",
        "    print('{}: {}'.format(state, state_pandas_dict[state].shape[0]))\n",
        "    arr_lengths.append(state_pandas_dict[state].shape[0])\n",
        "min_length = np.array(arr_lengths).min()\n",
        "min_length"
      ],
      "execution_count": 10,
      "outputs": [
        {
          "output_type": "stream",
          "text": [
            "alabama: 363\n",
            "alaska: 364\n",
            "arizona: 366\n",
            "colorado: 366\n",
            "connecticut: 370\n",
            "delaware: 364\n",
            "hawaii: 366\n",
            "idaho: 363\n",
            "illinois: 366\n",
            "indiana: 372\n",
            "kentucky: 364\n",
            "louisiana: 363\n",
            "maine: 363\n",
            "maryland: 365\n",
            "massachusetts: 408\n",
            "michigan: 369\n",
            "minnesota: 364\n",
            "mississippi: 363\n",
            "new-jersey: 389\n",
            "north-carolina: 366\n",
            "ohio: 365\n",
            "puerto-rico: 354\n",
            "south-carolina: 366\n",
            "tennessee: 365\n",
            "vermont: 367\n",
            "virginia: 403\n",
            "washington: 417\n",
            "west-virginia: 364\n",
            "wisconsin: 367\n"
          ],
          "name": "stdout"
        },
        {
          "output_type": "execute_result",
          "data": {
            "text/plain": [
              "354"
            ]
          },
          "metadata": {
            "tags": []
          },
          "execution_count": 10
        }
      ]
    },
    {
      "cell_type": "code",
      "metadata": {
        "id": "4TUt2wYPbt55",
        "colab": {
          "base_uri": "https://localhost:8080/"
        },
        "outputId": "39cb0ecd-d4cf-4c45-e428-1c1ddbd394aa"
      },
      "source": [
        "for state in good_states:\n",
        "    state_pandas_dict[state] = state_pandas_dict[state].head(min_length)\n",
        "print(state_pandas_dict[good_states[0]].shape)"
      ],
      "execution_count": 11,
      "outputs": [
        {
          "output_type": "stream",
          "text": [
            "(354, 8)\n"
          ],
          "name": "stdout"
        }
      ]
    },
    {
      "cell_type": "markdown",
      "metadata": {
        "id": "AWYPVZGcbt55"
      },
      "source": [
        "# Visualize Death Data per State"
      ]
    },
    {
      "cell_type": "code",
      "metadata": {
        "id": "3le2twldbt55",
        "colab": {
          "base_uri": "https://localhost:8080/",
          "height": 506
        },
        "outputId": "c3340b63-52e6-440c-9948-f6b36a82c2b7"
      },
      "source": [
        "death_data = {'date':state_pandas_dict_raw[good_states[0]].head(min_length)['date'].values}\n",
        "plt.figure()\n",
        "for state in good_states:\n",
        "    death_data[state] = state_pandas_dict_raw[state].sort_values('date', ascending=True).head(min_length)['death'].fillna(0).values\n",
        "death_df = pd.DataFrame(death_data)\n",
        "fig, ax = plt.subplots()\n",
        "sns.lineplot(x='date', y='value', hue='variable', data=pd.melt(death_df, ['date']))\n",
        "plt.legend(title='legend', bbox_to_anchor=(1.05, 1), loc='upper left')\n",
        "every_nth = 30\n",
        "for n, label in enumerate(ax.xaxis.get_ticklabels()):\n",
        "    if n % every_nth != 0:\n",
        "        label.set_visible(False)\n",
        "plt.xticks(rotation=-30)\n",
        "plt.ylabel('deaths')\n",
        "plt.show()"
      ],
      "execution_count": 12,
      "outputs": [
        {
          "output_type": "display_data",
          "data": {
            "text/plain": [
              "<Figure size 432x288 with 0 Axes>"
            ]
          },
          "metadata": {
            "tags": []
          }
        },
        {
          "output_type": "display_data",
          "data": {
            "image/png": "[encoded data removed]",
            "text/plain": [
              "<Figure size 432x288 with 1 Axes>"
            ]
          },
          "metadata": {
            "tags": [],
            "needs_background": "light"
          }
        }
      ]
    },
    {
      "cell_type": "markdown",
      "metadata": {
        "id": "XdlBTl2Cbt55"
      },
      "source": [
        "# Find Correlation Array"
      ]
    },
    {
      "cell_type": "markdown",
      "metadata": {
        "id": "BWlIX-3qbt55"
      },
      "source": [
        "## Try With first of state_names"
      ]
    },
    {
      "cell_type": "code",
      "metadata": {
        "id": "TFqr0HZ2bt56"
      },
      "source": [
        "df_dict_by_col = dict((col, state_pandas_dict[state_names[0]][col].values) for col in state_pandas_dict[state_names[0]].columns.values)"
      ],
      "execution_count": 13,
      "outputs": []
    },
    {
      "cell_type": "code",
      "metadata": {
        "id": "7XND5P8Fbt56",
        "colab": {
          "base_uri": "https://localhost:8080/"
        },
        "outputId": "5b3da8c1-979e-4f3a-e43a-2ffd57d6320c"
      },
      "source": [
        "df_keys = df_dict_by_col.keys()\n",
        "\n",
        "corr_data = []\n",
        "for key0 in df_keys:\n",
        "    key_row = []\n",
        "    for key1 in df_keys:\n",
        "        key_row.append(np.corrcoef(df_dict_by_col[key0], df_dict_by_col[key1])[1,0])\n",
        "    corr_data.append(key_row)\n",
        "corr_np = np.float64(corr_data)\n",
        "corr_np"
      ],
      "execution_count": 14,
      "outputs": [
        {
          "output_type": "execute_result",
          "data": {
            "text/plain": [
              "array([[1.        , 0.99628253, 0.51948179, 0.52389465, 0.97544758,\n",
              "        0.44213999, 0.93403598, 0.1507257 ],\n",
              "       [0.99628253, 1.        , 0.5129809 , 0.56338023, 0.98333664,\n",
              "        0.48379468, 0.95902426, 0.18056535],\n",
              "       [0.51948179, 0.5129809 , 1.        , 0.42919816, 0.5351837 ,\n",
              "        0.45838197, 0.48158829, 0.17382066],\n",
              "       [0.52389465, 0.56338023, 0.42919816, 1.        , 0.66935429,\n",
              "        0.83935024, 0.69777342, 0.37174191],\n",
              "       [0.97544758, 0.98333664, 0.5351837 , 0.66935429, 1.        ,\n",
              "        0.57734761, 0.97508886, 0.19486688],\n",
              "       [0.44213999, 0.48379468, 0.45838197, 0.83935024, 0.57734761,\n",
              "        1.        , 0.6287938 , 0.45762283],\n",
              "       [0.93403598, 0.95902426, 0.48158829, 0.69777342, 0.97508886,\n",
              "        0.6287938 , 1.        , 0.26102342],\n",
              "       [0.1507257 , 0.18056535, 0.17382066, 0.37174191, 0.19486688,\n",
              "        0.45762283, 0.26102342, 1.        ]])"
            ]
          },
          "metadata": {
            "tags": []
          },
          "execution_count": 14
        }
      ]
    },
    {
      "cell_type": "code",
      "metadata": {
        "id": "gyWdjG9Obt56",
        "colab": {
          "base_uri": "https://localhost:8080/",
          "height": 297
        },
        "outputId": "d554a690-9856-45b5-ad12-4ec489a191de"
      },
      "source": [
        "corr_df = pd.DataFrame(corr_np)\n",
        "corr_df"
      ],
      "execution_count": 15,
      "outputs": [
        {
          "output_type": "execute_result",
          "data": {
            "text/html": [
              "<div>\n",
              "<style scoped>\n",
              "    .dataframe tbody tr th:only-of-type {\n",
              "        vertical-align: middle;\n",
              "    }\n",
              "\n",
              "    .dataframe tbody tr th {\n",
              "        vertical-align: top;\n",
              "    }\n",
              "\n",
              "    .dataframe thead th {\n",
              "        text-align: right;\n",
              "    }\n",
              "</style>\n",
              "<table border=\"1\" class=\"dataframe\">\n",
              "  <thead>\n",
              "    <tr style=\"text-align: right;\">\n",
              "      <th></th>\n",
              "      <th>0</th>\n",
              "      <th>1</th>\n",
              "      <th>2</th>\n",
              "      <th>3</th>\n",
              "      <th>4</th>\n",
              "      <th>5</th>\n",
              "      <th>6</th>\n",
              "      <th>7</th>\n",
              "    </tr>\n",
              "  </thead>\n",
              "  <tbody>\n",
              "    <tr>\n",
              "      <th>0</th>\n",
              "      <td>1.000000</td>\n",
              "      <td>0.996283</td>\n",
              "      <td>0.519482</td>\n",
              "      <td>0.523895</td>\n",
              "      <td>0.975448</td>\n",
              "      <td>0.442140</td>\n",
              "      <td>0.934036</td>\n",
              "      <td>0.150726</td>\n",
              "    </tr>\n",
              "    <tr>\n",
              "      <th>1</th>\n",
              "      <td>0.996283</td>\n",
              "      <td>1.000000</td>\n",
              "      <td>0.512981</td>\n",
              "      <td>0.563380</td>\n",
              "      <td>0.983337</td>\n",
              "      <td>0.483795</td>\n",
              "      <td>0.959024</td>\n",
              "      <td>0.180565</td>\n",
              "    </tr>\n",
              "    <tr>\n",
              "      <th>2</th>\n",
              "      <td>0.519482</td>\n",
              "      <td>0.512981</td>\n",
              "      <td>1.000000</td>\n",
              "      <td>0.429198</td>\n",
              "      <td>0.535184</td>\n",
              "      <td>0.458382</td>\n",
              "      <td>0.481588</td>\n",
              "      <td>0.173821</td>\n",
              "    </tr>\n",
              "    <tr>\n",
              "      <th>3</th>\n",
              "      <td>0.523895</td>\n",
              "      <td>0.563380</td>\n",
              "      <td>0.429198</td>\n",
              "      <td>1.000000</td>\n",
              "      <td>0.669354</td>\n",
              "      <td>0.839350</td>\n",
              "      <td>0.697773</td>\n",
              "      <td>0.371742</td>\n",
              "    </tr>\n",
              "    <tr>\n",
              "      <th>4</th>\n",
              "      <td>0.975448</td>\n",
              "      <td>0.983337</td>\n",
              "      <td>0.535184</td>\n",
              "      <td>0.669354</td>\n",
              "      <td>1.000000</td>\n",
              "      <td>0.577348</td>\n",
              "      <td>0.975089</td>\n",
              "      <td>0.194867</td>\n",
              "    </tr>\n",
              "    <tr>\n",
              "      <th>5</th>\n",
              "      <td>0.442140</td>\n",
              "      <td>0.483795</td>\n",
              "      <td>0.458382</td>\n",
              "      <td>0.839350</td>\n",
              "      <td>0.577348</td>\n",
              "      <td>1.000000</td>\n",
              "      <td>0.628794</td>\n",
              "      <td>0.457623</td>\n",
              "    </tr>\n",
              "    <tr>\n",
              "      <th>6</th>\n",
              "      <td>0.934036</td>\n",
              "      <td>0.959024</td>\n",
              "      <td>0.481588</td>\n",
              "      <td>0.697773</td>\n",
              "      <td>0.975089</td>\n",
              "      <td>0.628794</td>\n",
              "      <td>1.000000</td>\n",
              "      <td>0.261023</td>\n",
              "    </tr>\n",
              "    <tr>\n",
              "      <th>7</th>\n",
              "      <td>0.150726</td>\n",
              "      <td>0.180565</td>\n",
              "      <td>0.173821</td>\n",
              "      <td>0.371742</td>\n",
              "      <td>0.194867</td>\n",
              "      <td>0.457623</td>\n",
              "      <td>0.261023</td>\n",
              "      <td>1.000000</td>\n",
              "    </tr>\n",
              "  </tbody>\n",
              "</table>\n",
              "</div>"
            ],
            "text/plain": [
              "          0         1         2  ...         5         6         7\n",
              "0  1.000000  0.996283  0.519482  ...  0.442140  0.934036  0.150726\n",
              "1  0.996283  1.000000  0.512981  ...  0.483795  0.959024  0.180565\n",
              "2  0.519482  0.512981  1.000000  ...  0.458382  0.481588  0.173821\n",
              "3  0.523895  0.563380  0.429198  ...  0.839350  0.697773  0.371742\n",
              "4  0.975448  0.983337  0.535184  ...  0.577348  0.975089  0.194867\n",
              "5  0.442140  0.483795  0.458382  ...  1.000000  0.628794  0.457623\n",
              "6  0.934036  0.959024  0.481588  ...  0.628794  1.000000  0.261023\n",
              "7  0.150726  0.180565  0.173821  ...  0.457623  0.261023  1.000000\n",
              "\n",
              "[8 rows x 8 columns]"
            ]
          },
          "metadata": {
            "tags": []
          },
          "execution_count": 15
        }
      ]
    },
    {
      "cell_type": "code",
      "metadata": {
        "id": "VBspz4LTbt56",
        "colab": {
          "base_uri": "https://localhost:8080/"
        },
        "outputId": "86ba715d-468f-43bc-cd77-def6b3fd9a95"
      },
      "source": [
        "state_pandas_dict[state_names[0]].columns.shape"
      ],
      "execution_count": 16,
      "outputs": [
        {
          "output_type": "execute_result",
          "data": {
            "text/plain": [
              "(8,)"
            ]
          },
          "metadata": {
            "tags": []
          },
          "execution_count": 16
        }
      ]
    },
    {
      "cell_type": "code",
      "metadata": {
        "id": "VaG5WWD5bt56"
      },
      "source": [
        "def get_corr_list(pointers, corr_np):\n",
        "    ordered_ls_left = [pointers[0]]\n",
        "    ordered_ls_right = [pointers[1]]\n",
        "    corr_ls_sum = 0\n",
        "\n",
        "\n",
        "    visited = set(pointers.copy())\n",
        "    all_cols = corr_np.shape[0]\n",
        "\n",
        "    # Find highest unvisited correlated element\n",
        "    def get_max(p, visits): \n",
        "        # print(p)\n",
        "        s = sorted(list(enumerate(corr_np[p])),key=lambda x: x[1], reverse=True)\n",
        "        for item in s:\n",
        "            if item[0] == i or item[0] in visits:\n",
        "                continue\n",
        "            return item\n",
        "        \n",
        "\n",
        "    while len(visited) < all_cols:\n",
        "        # print(pointers)\n",
        "        val = get_max(pointers[0], visited)\n",
        "        if val is None:\n",
        "            break\n",
        "        pointers[0], corr_val = val\n",
        "        visited.add(pointers[0])\n",
        "        ordered_ls_left.append(pointers[0])\n",
        "        corr_ls_sum += corr_val\n",
        "        \n",
        "        val = get_max(pointers[1], visited)\n",
        "        if val is None:\n",
        "            break\n",
        "        pointers[1], corr_val = val\n",
        "        visited.add(pointers[1])\n",
        "        ordered_ls_right.append(pointers[1])\n",
        "        corr_ls_sum += corr_val\n",
        "\n",
        "    ordered_ls = ordered_ls_left + list(reversed(ordered_ls_right))\n",
        "    print(len(ordered_ls))\n",
        "    print(corr_ls_sum)\n",
        "    return ordered_ls, corr_ls_sum"
      ],
      "execution_count": 17,
      "outputs": []
    },
    {
      "cell_type": "code",
      "metadata": {
        "id": "pnOsJ4jPbt57"
      },
      "source": [
        "def get_corr_list_v2(corr_np):\n",
        "    pointer = 0\n",
        "    ordered_ls = [0]\n",
        "    visited = set([0])\n",
        "    all_cols = corr_np.shape[0]\n",
        "    corr_val_dict = {}\n",
        "    def get_max(p, visits): \n",
        "        # print(p)\n",
        "        s = sorted(list(enumerate(corr_np[p])),key=lambda x: x[1], reverse=True)\n",
        "        for item in s:\n",
        "            if item[0] == p or item[0] in visits:\n",
        "                continue\n",
        "            return item\n",
        "\n",
        "\n",
        "    while len(visited) < all_cols:\n",
        "        val = get_max(pointer, visited)\n",
        "        if val is None:\n",
        "            break\n",
        "        new_pointer, corr_val = val\n",
        "        visited.add(new_pointer)\n",
        "        ordered_ls.append(new_pointer)\n",
        "        corr_val_dict['{}-{}'.format(pointer, new_pointer)] = corr_val\n",
        "        pointer = new_pointer\n",
        "    #Complete circle by routing last pointer to first pointer, which is 0\n",
        "    corr_val_dict['{}-{}'.format(pointer, 0)] = corr_np[pointer, 0]\n",
        "\n",
        "\n",
        "    return corr_val_dict, ordered_ls\n",
        "\n",
        "\n"
      ],
      "execution_count": 18,
      "outputs": []
    },
    {
      "cell_type": "code",
      "metadata": {
        "id": "0Y2H31JFbt57"
      },
      "source": [
        "def get_corr_np(df):\n",
        "    df_dict_by_col = dict((col, df[col].values) for col in df.columns.values)\n",
        "    df_keys = df_dict_by_col.keys()\n",
        "    corr_data = []\n",
        "    for key0 in df_keys:\n",
        "        key_row = []\n",
        "        for key1 in df_keys:\n",
        "            key_row.append(np.corrcoef(df_dict_by_col[key0], df_dict_by_col[key1])[1,0])\n",
        "        corr_data.append(key_row)\n",
        "    corr_np = np.float64(corr_data)\n",
        "    return corr_np"
      ],
      "execution_count": 19,
      "outputs": []
    },
    {
      "cell_type": "code",
      "metadata": {
        "id": "Px0cMXvabt58"
      },
      "source": [
        "def corr_list_by_df(df):\n",
        "    df_dict_by_col = dict((col, df[col].values) for col in df.columns.values)\n",
        "    df_keys = df_dict_by_col.keys()\n",
        "    corr_data = []\n",
        "    for key0 in df_keys:\n",
        "        key_row = []\n",
        "        for key1 in df_keys:\n",
        "            key_row.append(np.corrcoef(df_dict_by_col[key0], df_dict_by_col[key1])[1,0])\n",
        "        corr_data.append(key_row)\n",
        "    corr_np = np.float64(corr_data)\n",
        "    all_ordered_ls = []\n",
        "    corr_sum_list = []\n",
        "    for i in range(corr_np.shape[0]):\n",
        "        for j in range(i+1, corr_np.shape[1]):\n",
        "            ls, corr_sum = get_corr_list([i, j], corr_np)\n",
        "            all_ordered_ls.append(ls)\n",
        "            corr_sum_list.append(corr_sum)\n",
        "    corr_sum_np = np.array(corr_sum_list)\n",
        "    best_ordered_ls = all_ordered_ls[np.argmax(corr_sum_np)]\n",
        "    print(np.max(corr_sum_np))\n",
        "    print(best_ordered_ls)\n",
        "    return best_ordered_ls, corr_np"
      ],
      "execution_count": 20,
      "outputs": []
    },
    {
      "cell_type": "code",
      "metadata": {
        "id": "VuI8RVc7bt58",
        "colab": {
          "base_uri": "https://localhost:8080/"
        },
        "outputId": "0037c462-b222-4f2d-e8ee-fd50f2506b0e"
      },
      "source": [
        "# Create full df by combining data for all \n",
        "full_df = state_pandas_dict[good_states[0]].copy()\n",
        "for state in good_states[1:]:\n",
        "    for col in state_pandas_dict[state].columns.values:\n",
        "        full_df[col] = state_pandas_dict[state][col].values\n",
        "full_df.shape"
      ],
      "execution_count": 21,
      "outputs": [
        {
          "output_type": "execute_result",
          "data": {
            "text/plain": [
              "(354, 232)"
            ]
          },
          "metadata": {
            "tags": []
          },
          "execution_count": 21
        }
      ]
    },
    {
      "cell_type": "code",
      "metadata": {
        "id": "IsRCFNpsbt58"
      },
      "source": [
        "full_order_dict, circle_order = get_corr_list_v2(get_corr_np(full_df))"
      ],
      "execution_count": 22,
      "outputs": []
    },
    {
      "cell_type": "code",
      "metadata": {
        "id": "SAJqlODnbt58",
        "colab": {
          "base_uri": "https://localhost:8080/"
        },
        "outputId": "0e72aa87-8b09-4322-c2b6-68d887d2a27a"
      },
      "source": [
        "circle_order"
      ],
      "execution_count": 23,
      "outputs": [
        {
          "output_type": "execute_result",
          "data": {
            "text/plain": [
              "[0,\n",
              " 1,\n",
              " 16,\n",
              " 17,\n",
              " 176,\n",
              " 177,\n",
              " 136,\n",
              " 94,\n",
              " 142,\n",
              " 190,\n",
              " 126,\n",
              " 230,\n",
              " 166,\n",
              " 70,\n",
              " 38,\n",
              " 102,\n",
              " 198,\n",
              " 118,\n",
              " 78,\n",
              " 222,\n",
              " 30,\n",
              " 56,\n",
              " 57,\n",
              " 172,\n",
              " 169,\n",
              " 168,\n",
              " 110,\n",
              " 158,\n",
              " 206,\n",
              " 150,\n",
              " 214,\n",
              " 46,\n",
              " 22,\n",
              " 182,\n",
              " 185,\n",
              " 156,\n",
              " 204,\n",
              " 80,\n",
              " 81,\n",
              " 152,\n",
              " 153,\n",
              " 140,\n",
              " 4,\n",
              " 188,\n",
              " 212,\n",
              " 225,\n",
              " 224,\n",
              " 76,\n",
              " 28,\n",
              " 124,\n",
              " 12,\n",
              " 132,\n",
              " 68,\n",
              " 60,\n",
              " 14,\n",
              " 134,\n",
              " 86,\n",
              " 54,\n",
              " 52,\n",
              " 48,\n",
              " 49,\n",
              " 184,\n",
              " 217,\n",
              " 216,\n",
              " 220,\n",
              " 164,\n",
              " 8,\n",
              " 84,\n",
              " 44,\n",
              " 36,\n",
              " 116,\n",
              " 148,\n",
              " 72,\n",
              " 73,\n",
              " 108,\n",
              " 128,\n",
              " 129,\n",
              " 64,\n",
              " 24,\n",
              " 25,\n",
              " 65,\n",
              " 105,\n",
              " 104,\n",
              " 40,\n",
              " 41,\n",
              " 112,\n",
              " 32,\n",
              " 145,\n",
              " 144,\n",
              " 113,\n",
              " 89,\n",
              " 88,\n",
              " 201,\n",
              " 200,\n",
              " 208,\n",
              " 92,\n",
              " 180,\n",
              " 20,\n",
              " 97,\n",
              " 96,\n",
              " 100,\n",
              " 196,\n",
              " 192,\n",
              " 120,\n",
              " 121,\n",
              " 161,\n",
              " 160,\n",
              " 6,\n",
              " 62,\n",
              " 137,\n",
              " 174,\n",
              " 33,\n",
              " 228,\n",
              " 155,\n",
              " 3,\n",
              " 187,\n",
              " 219,\n",
              " 83,\n",
              " 163,\n",
              " 75,\n",
              " 131,\n",
              " 29,\n",
              " 69,\n",
              " 227,\n",
              " 11,\n",
              " 59,\n",
              " 77,\n",
              " 221,\n",
              " 109,\n",
              " 211,\n",
              " 99,\n",
              " 205,\n",
              " 203,\n",
              " 43,\n",
              " 107,\n",
              " 106,\n",
              " 115,\n",
              " 147,\n",
              " 35,\n",
              " 114,\n",
              " 146,\n",
              " 34,\n",
              " 37,\n",
              " 125,\n",
              " 127,\n",
              " 171,\n",
              " 167,\n",
              " 71,\n",
              " 79,\n",
              " 31,\n",
              " 223,\n",
              " 159,\n",
              " 111,\n",
              " 207,\n",
              " 119,\n",
              " 103,\n",
              " 231,\n",
              " 61,\n",
              " 229,\n",
              " 13,\n",
              " 133,\n",
              " 135,\n",
              " 165,\n",
              " 85,\n",
              " 157,\n",
              " 181,\n",
              " 183,\n",
              " 197,\n",
              " 117,\n",
              " 149,\n",
              " 45,\n",
              " 101,\n",
              " 218,\n",
              " 5,\n",
              " 141,\n",
              " 139,\n",
              " 179,\n",
              " 19,\n",
              " 21,\n",
              " 23,\n",
              " 47,\n",
              " 189,\n",
              " 191,\n",
              " 9,\n",
              " 193,\n",
              " 209,\n",
              " 63,\n",
              " 7,\n",
              " 58,\n",
              " 226,\n",
              " 39,\n",
              " 186,\n",
              " 82,\n",
              " 154,\n",
              " 2,\n",
              " 18,\n",
              " 138,\n",
              " 98,\n",
              " 195,\n",
              " 91,\n",
              " 90,\n",
              " 93,\n",
              " 95,\n",
              " 130,\n",
              " 27,\n",
              " 123,\n",
              " 67,\n",
              " 66,\n",
              " 26,\n",
              " 122,\n",
              " 194,\n",
              " 170,\n",
              " 213,\n",
              " 173,\n",
              " 199,\n",
              " 55,\n",
              " 53,\n",
              " 51,\n",
              " 178,\n",
              " 202,\n",
              " 42,\n",
              " 210,\n",
              " 74,\n",
              " 215,\n",
              " 151,\n",
              " 143,\n",
              " 87,\n",
              " 15,\n",
              " 10,\n",
              " 162,\n",
              " 50,\n",
              " 175]"
            ]
          },
          "metadata": {
            "tags": []
          },
          "execution_count": 23
        }
      ]
    },
    {
      "cell_type": "code",
      "metadata": {
        "id": "-p7tqiGEbt58"
      },
      "source": [
        "def best_ord_from_circle(d, circle):\n",
        "    items = sorted(d.items(), key=lambda x: x[1], reverse=True)\n",
        "    start, end = items[-1][0].split('-')\n",
        "    start_point, end_point = circle.index(int(start)), circle.index(int(end))\n",
        "\n",
        "    if end_point < start_point:\n",
        "        return circle\n",
        "    return list(reversed(circle[:circle.index(start)+1])) + circle[circle.index(end):]\n",
        "\n"
      ],
      "execution_count": 24,
      "outputs": []
    },
    {
      "cell_type": "code",
      "metadata": {
        "id": "Iy0A8YF-bt59",
        "colab": {
          "base_uri": "https://localhost:8080/"
        },
        "outputId": "11fa05ba-c93a-4f76-f3bf-35b72d7d46af"
      },
      "source": [
        "full_order_v2 = best_ord_from_circle(full_order_dict, circle_order)\n",
        "len(full_order_v2)"
      ],
      "execution_count": 25,
      "outputs": [
        {
          "output_type": "execute_result",
          "data": {
            "text/plain": [
              "232"
            ]
          },
          "metadata": {
            "tags": []
          },
          "execution_count": 25
        }
      ]
    },
    {
      "cell_type": "code",
      "metadata": {
        "id": "Et5g8Moebt59"
      },
      "source": [
        "# Manually Entering Here because running the function takes too long\n",
        "full_order = [28, 124, 224, 225, 68, 30, 78, 222, 182, 185, 156, 184, 118, 84, 8, 76, 164, 220, 216, 217, 44, 36, 96, 97, 100, 196, 80, 81, 152, 153, 136, 94, 142, 190, 62, 6, 200, 201, 208, 137, 88, 89, 104, 105, 41, 40, 121, 120, 148, 160, 20, 12, 48, 49, 52, 119, 83, 163, 75, 219, 187, 3, 155, 99, 43, 107, 149, 197, 181, 183, 47, 111, 79, 77, 221, 109, 45, 165, 27, 123, 67, 66, 26, 130, 85, 223, 186, 218, 101, 157, 154, 18, 82, 2, 138, 98, 58, 173, 9, 193, 191, 189, 135, 226, 194, 74, 162, 151, 178, 202, 115, 114, 175, 210, 143, 50, 42, 215, 10, 15, 87, 7, 63, 51, 53, 55, 199, 39, 170, 125, 127, 95, 93, 90, 91, 122, 37, 34, 146, 147, 106, 35, 195, 117, 213, 207, 103, 209, 139, 141, 5, 61, 171, 231, 229, 133, 13, 59, 11, 131, 227, 69, 29, 31, 167, 71, 159, 23, 21, 19, 179, 33, 113, 112, 174, 145, 144, 32, 203, 211, 205, 192, 116, 161, 72, 73, 25, 65, 64, 24, 129, 128, 108, 92, 177, 176, 17, 16, 1, 0, 212, 204, 180, 22, 14, 134, 214, 206, 198, 102, 38, 169, 168, 54, 86, 230, 126, 166, 70, 110, 158, 150, 46, 140, 4, 188, 56, 57, 172, 60, 228, 132]"
      ],
      "execution_count": 26,
      "outputs": []
    },
    {
      "cell_type": "code",
      "metadata": {
        "tags": [],
        "id": "xMZCndmgbt59"
      },
      "source": [
        "#full_order, full_corr = corr_list_by_df(full_df)"
      ],
      "execution_count": 27,
      "outputs": []
    },
    {
      "cell_type": "code",
      "metadata": {
        "id": "KfnMAgxMbt5-"
      },
      "source": [
        ""
      ],
      "execution_count": 27,
      "outputs": []
    },
    {
      "cell_type": "code",
      "metadata": {
        "id": "F8mlFh7tbt5-",
        "colab": {
          "base_uri": "https://localhost:8080/"
        },
        "outputId": "4bf428e6-400c-4d17-8d04-607457033b38"
      },
      "source": [
        "test_order, test_corr = corr_list_by_df(state_pandas_dict['alabama'])"
      ],
      "execution_count": 28,
      "outputs": [
        {
          "output_type": "stream",
          "text": [
            "8\n",
            "4.119440919647699\n",
            "8\n",
            "4.160380490760433\n",
            "8\n",
            "4.24397033141963\n",
            "8\n",
            "4.050366399826602\n",
            "8\n",
            "4.312949954532416\n",
            "8\n",
            "3.998920208754184\n",
            "8\n",
            "4.680879255423979\n",
            "8\n",
            "4.135392208751277\n",
            "8\n",
            "4.236081277433167\n",
            "8\n",
            "4.010880817841161\n",
            "8\n",
            "4.305060900545953\n",
            "8\n",
            "3.959434626768743\n",
            "8\n",
            "4.672990201437514\n",
            "8\n",
            "4.243970331419631\n",
            "8\n",
            "4.000770338509906\n",
            "8\n",
            "4.312949954532416\n",
            "8\n",
            "3.846917672464898\n",
            "8\n",
            "4.509549363271225\n",
            "8\n",
            "4.080077193362879\n",
            "8\n",
            "3.873299462086321\n",
            "8\n",
            "3.937387954743997\n",
            "8\n",
            "4.125174009581941\n",
            "8\n",
            "4.297248037975223\n",
            "8\n",
            "4.013405535677349\n",
            "8\n",
            "4.63982637505258\n",
            "8\n",
            "4.016973505712936\n",
            "8\n",
            "4.217180694992925\n",
            "8\n",
            "4.680879255423979\n",
            "4.680879255423979\n",
            "[0, 1, 4, 6, 2, 3, 5, 7]\n"
          ],
          "name": "stdout"
        }
      ]
    },
    {
      "cell_type": "code",
      "metadata": {
        "id": "AKHukEFtbt5-"
      },
      "source": [
        "from sklearn.preprocessing import MinMaxScaler\n",
        "\n",
        "scaler = MinMaxScaler(feature_range=(0,1))\n",
        "full_np = scaler.fit_transform(full_df)"
      ],
      "execution_count": 29,
      "outputs": []
    },
    {
      "cell_type": "code",
      "metadata": {
        "id": "UAlXVMhZbt5-"
      },
      "source": [
        "test_full_df = pd.DataFrame(full_np)\n",
        "img_np = test_full_df[full_order_v2].values"
      ],
      "execution_count": 30,
      "outputs": []
    },
    {
      "cell_type": "code",
      "metadata": {
        "id": "qFBg8ng_bt5_"
      },
      "source": [
        "horizontal_img_np = np.swapaxes(img_np,0,1)"
      ],
      "execution_count": 31,
      "outputs": []
    },
    {
      "cell_type": "code",
      "metadata": {
        "id": "dcS9B2ITbt5_",
        "colab": {
          "base_uri": "https://localhost:8080/"
        },
        "outputId": "20c45ff3-2dc8-46db-d5b0-a1ecb9daa875"
      },
      "source": [
        "horizontal_img_np[:, :7]*255"
      ],
      "execution_count": 32,
      "outputs": [
        {
          "output_type": "execute_result",
          "data": {
            "text/plain": [
              "array([[255.        , 253.35793541, 252.39795918, ..., 250.83168219,\n",
              "        250.85694472, 249.31593026],\n",
              "       [255.        , 253.45454545, 252.42424242, ..., 250.71780303,\n",
              "        250.71780303, 249.01136364],\n",
              "       [255.        , 253.48748842, 253.03058387, ..., 251.77015755,\n",
              "        251.56533828, 250.46246525],\n",
              "       ...,\n",
              "       [ 14.7404271 ,  14.7404271 ,   0.        , ...,  20.37371134,\n",
              "         19.81038292,  20.1859352 ],\n",
              "       [  8.36065574,  16.72131148,   8.36065574, ...,   8.36065574,\n",
              "         16.72131148,  16.72131148],\n",
              "       [ 27.0541631 ,  26.84724789,  27.19498039, ...,  27.48811026,\n",
              "         27.28981653,  27.4536244 ]])"
            ]
          },
          "metadata": {
            "tags": []
          },
          "execution_count": 32
        }
      ]
    },
    {
      "cell_type": "code",
      "metadata": {
        "id": "xOrjVn1Sbt5_"
      },
      "source": [
        "from PIL import Image\n",
        "im = Image.fromarray(horizontal_img_np[:, :128]*255, 'L')\n",
        "im.show()"
      ],
      "execution_count": 33,
      "outputs": []
    },
    {
      "cell_type": "code",
      "metadata": {
        "id": "YM28LL0jbt5_",
        "colab": {
          "base_uri": "https://localhost:8080/"
        },
        "outputId": "c8b1f6ce-e7cc-4dca-c29b-c0773cd9ada8"
      },
      "source": [
        "horizontal_img_np.shape"
      ],
      "execution_count": 34,
      "outputs": [
        {
          "output_type": "execute_result",
          "data": {
            "text/plain": [
              "(232, 354)"
            ]
          },
          "metadata": {
            "tags": []
          },
          "execution_count": 34
        }
      ]
    },
    {
      "cell_type": "markdown",
      "metadata": {
        "id": "HxjU9Toqbt5_"
      },
      "source": [
        "# Make Predict Values and use time series data to split numpy array into hundreds of 232x128 images"
      ]
    },
    {
      "cell_type": "code",
      "metadata": {
        "id": "lbhSabW5bt5_",
        "colab": {
          "base_uri": "https://localhost:8080/"
        },
        "outputId": "3d2df436-a92b-4345-d02b-9194b0f75a8b"
      },
      "source": [
        "#full_df.head()\n",
        "y_val_columns = [i for i in full_df.columns.values if 'deathIncrease' in i]\n",
        "y_val_columns"
      ],
      "execution_count": 35,
      "outputs": [
        {
          "output_type": "execute_result",
          "data": {
            "text/plain": [
              "['alabama - deathIncrease',\n",
              " 'alaska - deathIncrease',\n",
              " 'arizona - deathIncrease',\n",
              " 'colorado - deathIncrease',\n",
              " 'connecticut - deathIncrease',\n",
              " 'delaware - deathIncrease',\n",
              " 'hawaii - deathIncrease',\n",
              " 'idaho - deathIncrease',\n",
              " 'illinois - deathIncrease',\n",
              " 'indiana - deathIncrease',\n",
              " 'kentucky - deathIncrease',\n",
              " 'louisiana - deathIncrease',\n",
              " 'maine - deathIncrease',\n",
              " 'maryland - deathIncrease',\n",
              " 'massachusetts - deathIncrease',\n",
              " 'michigan - deathIncrease',\n",
              " 'minnesota - deathIncrease',\n",
              " 'mississippi - deathIncrease',\n",
              " 'new-jersey - deathIncrease',\n",
              " 'north-carolina - deathIncrease',\n",
              " 'ohio - deathIncrease',\n",
              " 'puerto-rico - deathIncrease',\n",
              " 'south-carolina - deathIncrease',\n",
              " 'tennessee - deathIncrease',\n",
              " 'vermont - deathIncrease',\n",
              " 'virginia - deathIncrease',\n",
              " 'washington - deathIncrease',\n",
              " 'west-virginia - deathIncrease',\n",
              " 'wisconsin - deathIncrease']"
            ]
          },
          "metadata": {
            "tags": []
          },
          "execution_count": 35
        }
      ]
    },
    {
      "cell_type": "code",
      "metadata": {
        "id": "HoQcsx4xbt5_",
        "colab": {
          "base_uri": "https://localhost:8080/"
        },
        "outputId": "f9bfb6f7-8253-49bb-cc5d-817a93a5af4f"
      },
      "source": [
        "y_val = np.zeros(full_df.shape[0])\n",
        "for col in y_val_columns:\n",
        "    y_val += full_df[col].values\n",
        "y_val\n"
      ],
      "execution_count": 36,
      "outputs": [
        {
          "output_type": "execute_result",
          "data": {
            "text/plain": [
              "array([ 668., 1069.,  582.,  559.,  484.,  800.,  967., 1083., 1120.,\n",
              "       1042.,  456.,  602.,  807., 1003., 1221.,  980.,  533.,  371.,\n",
              "        427., 2008., 3692., 2012., 1670., 1207.,  591.,  543., 1119.,\n",
              "       1531., 3163., 1690., 1521.,  760.,  689., 1178., 1469., 1753.,\n",
              "       1753., 1819.,  621.,  725., 1609., 1603., 1764., 1762.,  848.,\n",
              "        578.,  789., 1563., 1428., 1688., 1811., 1929.,  729.,  869.,\n",
              "       1533., 1690., 2066., 1761., 1825.,  846.,  771., 1273.,  933.,\n",
              "       1421., 1929., 1767.,  851.,  662.,  931.,  593., 1287., 1673.,\n",
              "       1691.,  762.,  765., 1301., 1454., 1894., 1730., 1487.,  720.,\n",
              "        729., 1304., 1276., 1664., 1716., 1386.,  655.,  560., 1272.,\n",
              "       1280., 1571., 1562., 1452.,  605.,  420.,  664.,  868.,  661.,\n",
              "       1267., 1265.,  407.,  462.,  794.,  984., 1173., 1021.,  928.,\n",
              "        352.,  352.,  700.,  749.,  571.,  894.,  771.,  343.,  281.,\n",
              "        587.,  583.,  605.,  596.,  642.,  210.,  188.,  509.,  481.,\n",
              "        515.,  510.,  552.,  234.,  207.,  398.,  465.,  518.,  557.,\n",
              "        449.,  257.,  159.,  261.,  377.,  415.,  353.,  378.,  115.,\n",
              "        114.,  280.,  302.,  387.,  370.,  311.,  141.,  144.,  332.,\n",
              "        368.,  362.,  415.,  366.,  133.,  120.,  301.,  350.,  362.,\n",
              "        366.,  396.,  123.,  138.,  305.,  354.,  355.,  424.,  528.,\n",
              "        169.,  167.,  291.,  426.,  435.,  487.,  138.,  103.,  161.,\n",
              "        321.,  410.,  348.,  379.,  394.,  167.,  224.,  333.,  397.,\n",
              "        399.,  568.,  425.,  152.,  198.,  360.,  409.,  434.,  527.,\n",
              "        445.,  161.,  210.,  416.,  341.,  389.,  574.,  474.,  154.,\n",
              "        254.,  309.,  496.,  498.,  505.,  452.,  167.,  262.,  371.,\n",
              "        476.,  570.,  561.,  504.,  209.,  204.,  441.,  491.,  445.,\n",
              "        479.,  517.,  160.,  206.,  427.,  380.,  423.,  364.,  353.,\n",
              "        143.,  241.,  348.,  384.,  364.,  435.,  552.,  105.,  104.,\n",
              "        164.,  293.,  371.,  406.,  337.,  177.,  157.,  316.,  343.,\n",
              "        308.,  445.,  418.,  197.,  149.,  404.,  350.,  319.,  430.,\n",
              "        430.,  201.,  204.,  431.,  430.,  499.,  536.,  509.,  491.,\n",
              "        266.,  450.,  477.,  537.,  598.,  590.,  486.,  401.,  522.,\n",
              "        721.,  723.,  850.,  434.,  341.,  425.,  583.,  756.,  667.,\n",
              "        950.,  853.,  496.,  546.,  732.,  968., 1105., 1114.,  939.,\n",
              "        564.,  619.,  845., 1026., 1169., 1241., 1352.,  608.,  778.,\n",
              "        849., 1193., 1406., 1478., 1356.,  714.,  667.,  884., 1191.,\n",
              "       1247., 1259., 1339., 1057.,  775., 1003., 1120., 1281., 1419.,\n",
              "       1242.,  797.,  799., 1002.,  998., 1032.,  947.,  971.,  599.,\n",
              "        581.,  672.,  573.,  594.,  493.,  470.,  270.,  210.,  254.,\n",
              "        218.,  168.,  120.,  105.,   88.,   57.,   40.,   37.,   29.,\n",
              "         16.,   14.,   17.])"
            ]
          },
          "metadata": {
            "tags": []
          },
          "execution_count": 36
        }
      ]
    },
    {
      "cell_type": "code",
      "metadata": {
        "id": "XfUi6Swbbt6A",
        "colab": {
          "base_uri": "https://localhost:8080/"
        },
        "outputId": "ffdcb305-7612-4c7c-96a3-00851220844f"
      },
      "source": [
        "y_val.shape"
      ],
      "execution_count": 37,
      "outputs": [
        {
          "output_type": "execute_result",
          "data": {
            "text/plain": [
              "(354,)"
            ]
          },
          "metadata": {
            "tags": []
          },
          "execution_count": 37
        }
      ]
    },
    {
      "cell_type": "code",
      "metadata": {
        "id": "xPQiGpocbt6A",
        "colab": {
          "base_uri": "https://localhost:8080/"
        },
        "outputId": "922a8893-bbe8-4fea-a25c-ba73010c1384"
      },
      "source": [
        "TIME_LENGTH = 128\n",
        "TIME_TEST_LENGTH = 1\n",
        "def get_x_y(data, predict_vals, batch_size, test_length):\n",
        "    total_length = data.shape[1]\n",
        "    useable_starts = total_length - test_length - batch_size\n",
        "    images = []\n",
        "    y = []\n",
        "    for i in range(0, useable_starts):\n",
        "        images.append(data[:, i:i+batch_size])\n",
        "        y.append(predict_vals[i+batch_size:i+batch_size+test_length])\n",
        "    images_np = np.array(images)\n",
        "    return images_np.reshape((images_np.shape[0], images_np.shape[1], images_np.shape[2], 1)), np.array(y)\n",
        "\n",
        "imgs, y_values = get_x_y(horizontal_img_np, y_val, TIME_LENGTH, TIME_TEST_LENGTH)\n",
        "print(imgs.shape)\n",
        "print(y_values.shape)\n"
      ],
      "execution_count": 38,
      "outputs": [
        {
          "output_type": "stream",
          "text": [
            "(225, 232, 128, 1)\n",
            "(225, 1)\n"
          ],
          "name": "stdout"
        }
      ]
    },
    {
      "cell_type": "code",
      "metadata": {
        "id": "3dF4u30Rbt6A",
        "colab": {
          "base_uri": "https://localhost:8080/"
        },
        "outputId": "5a93a5b9-ae0d-48e4-9c1f-91ff09715bf3"
      },
      "source": [
        "from sklearn.model_selection import train_test_split\n",
        "from tensorflow.keras.layers import Input, Conv2D, Dense, LSTM, SimpleRNN, AveragePooling2D, Flatten, Dropout\n",
        "from tensorflow.keras.models import Model, Sequential\n",
        "\n",
        "X_train, X_test, y_train, y_test = train_test_split(imgs, y_values, train_size=0.8, random_state=0)\n",
        "print(X_train.shape, X_test.shape, y_train.shape, y_test.shape)\n"
      ],
      "execution_count": 39,
      "outputs": [
        {
          "output_type": "stream",
          "text": [
            "(180, 232, 128, 1) (45, 232, 128, 1) (180, 1) (45, 1)\n"
          ],
          "name": "stdout"
        }
      ]
    },
    {
      "cell_type": "code",
      "metadata": {
        "id": "k1YWp2xJbt6A",
        "colab": {
          "base_uri": "https://localhost:8080/"
        },
        "outputId": "5a525cc1-7b60-44ee-e82c-e3f10312e02e"
      },
      "source": [
        "def get_corr_img_cnn_model(feature_length, time_length, pred_length):\n",
        "    model = Sequential()\n",
        "    model.add(Conv2D(128, (3,3), input_shape=(feature_length, time_length, 1), padding='same', activation='relu'))\n",
        "    model.add(AveragePooling2D())\n",
        "    model.add(Dropout(0.3))\n",
        "    model.add(Conv2D(64, (3,3), padding='same', activation='relu'))\n",
        "    model.add(AveragePooling2D())\n",
        "    model.add(Dropout(0.3))\n",
        "    model.add(Flatten())\n",
        "    model.add(Dense(100, activation='relu'))\n",
        "    model.add(Dense(pred_length, activation='relu'))\n",
        "    model.compile(\n",
        "        loss='mse',\n",
        "        optimizer='adam',\n",
        "        metrics=['mse', 'mae']\n",
        "    )\n",
        "    print(model.summary())\n",
        "    return model\n",
        "\n",
        "model = get_corr_img_cnn_model(X_train.shape[1], TIME_LENGTH, TIME_TEST_LENGTH)"
      ],
      "execution_count": 40,
      "outputs": [
        {
          "output_type": "stream",
          "text": [
            "Model: \"sequential\"\n",
            "_________________________________________________________________\n",
            "Layer (type)                 Output Shape              Param #   \n",
            "=================================================================\n",
            "conv2d (Conv2D)              (None, 232, 128, 128)     1280      \n",
            "_________________________________________________________________\n",
            "average_pooling2d (AveragePo (None, 116, 64, 128)      0         \n",
            "_________________________________________________________________\n",
            "dropout (Dropout)            (None, 116, 64, 128)      0         \n",
            "_________________________________________________________________\n",
            "conv2d_1 (Conv2D)            (None, 116, 64, 64)       73792     \n",
            "_________________________________________________________________\n",
            "average_pooling2d_1 (Average (None, 58, 32, 64)        0         \n",
            "_________________________________________________________________\n",
            "dropout_1 (Dropout)          (None, 58, 32, 64)        0         \n",
            "_________________________________________________________________\n",
            "flatten (Flatten)            (None, 118784)            0         \n",
            "_________________________________________________________________\n",
            "dense (Dense)                (None, 100)               11878500  \n",
            "_________________________________________________________________\n",
            "dense_1 (Dense)              (None, 1)                 101       \n",
            "=================================================================\n",
            "Total params: 11,953,673\n",
            "Trainable params: 11,953,673\n",
            "Non-trainable params: 0\n",
            "_________________________________________________________________\n",
            "None\n"
          ],
          "name": "stdout"
        }
      ]
    },
    {
      "cell_type": "code",
      "metadata": {
        "id": "Kz6zEqywbt6A",
        "colab": {
          "base_uri": "https://localhost:8080/",
          "height": 324
        },
        "outputId": "130da901-a93c-4f87-c675-11993f246a7a"
      },
      "source": [
        "history = model.fit(X_train, y_train, epochs=3000)"
      ],
      "execution_count": 41,
      "outputs": [
        {
          "output_type": "stream",
          "text": [
            "Epoch 1/3000\n"
          ],
          "name": "stdout"
        },
        {
          "output_type": "error",
          "ename": "KeyboardInterrupt",
          "evalue": "ignored",
          "traceback": [
            "\u001b[0;31m---------------------------------------------------------------------------\u001b[0m",
            "\u001b[0;31mKeyboardInterrupt\u001b[0m                         Traceback (most recent call last)",
            "\u001b[0;32m<ipython-input-41-a4b48a8d02ca>\u001b[0m in \u001b[0;36m<module>\u001b[0;34m()\u001b[0m\n\u001b[0;32m----> 1\u001b[0;31m \u001b[0mhistory\u001b[0m \u001b[0;34m=\u001b[0m \u001b[0mmodel\u001b[0m\u001b[0;34m.\u001b[0m\u001b[0mfit\u001b[0m\u001b[0;34m(\u001b[0m\u001b[0mX_train\u001b[0m\u001b[0;34m,\u001b[0m \u001b[0my_train\u001b[0m\u001b[0;34m,\u001b[0m \u001b[0mepochs\u001b[0m\u001b[0;34m=\u001b[0m\u001b[0;36m3000\u001b[0m\u001b[0;34m)\u001b[0m\u001b[0;34m\u001b[0m\u001b[0;34m\u001b[0m\u001b[0m\n\u001b[0m",
            "\u001b[0;32m/usr/local/lib/python3.7/dist-packages/tensorflow/python/keras/engine/training.py\u001b[0m in \u001b[0;36mfit\u001b[0;34m(self, x, y, batch_size, epochs, verbose, callbacks, validation_split, validation_data, shuffle, class_weight, sample_weight, initial_epoch, steps_per_epoch, validation_steps, validation_batch_size, validation_freq, max_queue_size, workers, use_multiprocessing)\u001b[0m\n\u001b[1;32m   1098\u001b[0m                 _r=1):\n\u001b[1;32m   1099\u001b[0m               \u001b[0mcallbacks\u001b[0m\u001b[0;34m.\u001b[0m\u001b[0mon_train_batch_begin\u001b[0m\u001b[0;34m(\u001b[0m\u001b[0mstep\u001b[0m\u001b[0;34m)\u001b[0m\u001b[0;34m\u001b[0m\u001b[0;34m\u001b[0m\u001b[0m\n\u001b[0;32m-> 1100\u001b[0;31m               \u001b[0mtmp_logs\u001b[0m \u001b[0;34m=\u001b[0m \u001b[0mself\u001b[0m\u001b[0;34m.\u001b[0m\u001b[0mtrain_function\u001b[0m\u001b[0;34m(\u001b[0m\u001b[0miterator\u001b[0m\u001b[0;34m)\u001b[0m\u001b[0;34m\u001b[0m\u001b[0;34m\u001b[0m\u001b[0m\n\u001b[0m\u001b[1;32m   1101\u001b[0m               \u001b[0;32mif\u001b[0m \u001b[0mdata_handler\u001b[0m\u001b[0;34m.\u001b[0m\u001b[0mshould_sync\u001b[0m\u001b[0;34m:\u001b[0m\u001b[0;34m\u001b[0m\u001b[0;34m\u001b[0m\u001b[0m\n\u001b[1;32m   1102\u001b[0m                 \u001b[0mcontext\u001b[0m\u001b[0;34m.\u001b[0m\u001b[0masync_wait\u001b[0m\u001b[0;34m(\u001b[0m\u001b[0;34m)\u001b[0m\u001b[0;34m\u001b[0m\u001b[0;34m\u001b[0m\u001b[0m\n",
            "\u001b[0;32m/usr/local/lib/python3.7/dist-packages/tensorflow/python/eager/def_function.py\u001b[0m in \u001b[0;36m__call__\u001b[0;34m(self, *args, **kwds)\u001b[0m\n\u001b[1;32m    826\u001b[0m     \u001b[0mtracing_count\u001b[0m \u001b[0;34m=\u001b[0m \u001b[0mself\u001b[0m\u001b[0;34m.\u001b[0m\u001b[0mexperimental_get_tracing_count\u001b[0m\u001b[0;34m(\u001b[0m\u001b[0;34m)\u001b[0m\u001b[0;34m\u001b[0m\u001b[0;34m\u001b[0m\u001b[0m\n\u001b[1;32m    827\u001b[0m     \u001b[0;32mwith\u001b[0m \u001b[0mtrace\u001b[0m\u001b[0;34m.\u001b[0m\u001b[0mTrace\u001b[0m\u001b[0;34m(\u001b[0m\u001b[0mself\u001b[0m\u001b[0;34m.\u001b[0m\u001b[0m_name\u001b[0m\u001b[0;34m)\u001b[0m \u001b[0;32mas\u001b[0m \u001b[0mtm\u001b[0m\u001b[0;34m:\u001b[0m\u001b[0;34m\u001b[0m\u001b[0;34m\u001b[0m\u001b[0m\n\u001b[0;32m--> 828\u001b[0;31m       \u001b[0mresult\u001b[0m \u001b[0;34m=\u001b[0m \u001b[0mself\u001b[0m\u001b[0;34m.\u001b[0m\u001b[0m_call\u001b[0m\u001b[0;34m(\u001b[0m\u001b[0;34m*\u001b[0m\u001b[0margs\u001b[0m\u001b[0;34m,\u001b[0m \u001b[0;34m**\u001b[0m\u001b[0mkwds\u001b[0m\u001b[0;34m)\u001b[0m\u001b[0;34m\u001b[0m\u001b[0;34m\u001b[0m\u001b[0m\n\u001b[0m\u001b[1;32m    829\u001b[0m       \u001b[0mcompiler\u001b[0m \u001b[0;34m=\u001b[0m \u001b[0;34m\"xla\"\u001b[0m \u001b[0;32mif\u001b[0m \u001b[0mself\u001b[0m\u001b[0;34m.\u001b[0m\u001b[0m_experimental_compile\u001b[0m \u001b[0;32melse\u001b[0m \u001b[0;34m\"nonXla\"\u001b[0m\u001b[0;34m\u001b[0m\u001b[0;34m\u001b[0m\u001b[0m\n\u001b[1;32m    830\u001b[0m       \u001b[0mnew_tracing_count\u001b[0m \u001b[0;34m=\u001b[0m \u001b[0mself\u001b[0m\u001b[0;34m.\u001b[0m\u001b[0mexperimental_get_tracing_count\u001b[0m\u001b[0;34m(\u001b[0m\u001b[0;34m)\u001b[0m\u001b[0;34m\u001b[0m\u001b[0;34m\u001b[0m\u001b[0m\n",
            "\u001b[0;32m/usr/local/lib/python3.7/dist-packages/tensorflow/python/eager/def_function.py\u001b[0m in \u001b[0;36m_call\u001b[0;34m(self, *args, **kwds)\u001b[0m\n\u001b[1;32m    886\u001b[0m         \u001b[0;31m# Lifting succeeded, so variables are initialized and we can run the\u001b[0m\u001b[0;34m\u001b[0m\u001b[0;34m\u001b[0m\u001b[0;34m\u001b[0m\u001b[0m\n\u001b[1;32m    887\u001b[0m         \u001b[0;31m# stateless function.\u001b[0m\u001b[0;34m\u001b[0m\u001b[0;34m\u001b[0m\u001b[0;34m\u001b[0m\u001b[0m\n\u001b[0;32m--> 888\u001b[0;31m         \u001b[0;32mreturn\u001b[0m \u001b[0mself\u001b[0m\u001b[0;34m.\u001b[0m\u001b[0m_stateless_fn\u001b[0m\u001b[0;34m(\u001b[0m\u001b[0;34m*\u001b[0m\u001b[0margs\u001b[0m\u001b[0;34m,\u001b[0m \u001b[0;34m**\u001b[0m\u001b[0mkwds\u001b[0m\u001b[0;34m)\u001b[0m\u001b[0;34m\u001b[0m\u001b[0;34m\u001b[0m\u001b[0m\n\u001b[0m\u001b[1;32m    889\u001b[0m     \u001b[0;32melse\u001b[0m\u001b[0;34m:\u001b[0m\u001b[0;34m\u001b[0m\u001b[0;34m\u001b[0m\u001b[0m\n\u001b[1;32m    890\u001b[0m       \u001b[0m_\u001b[0m\u001b[0;34m,\u001b[0m \u001b[0m_\u001b[0m\u001b[0;34m,\u001b[0m \u001b[0m_\u001b[0m\u001b[0;34m,\u001b[0m \u001b[0mfiltered_flat_args\u001b[0m \u001b[0;34m=\u001b[0m\u001b[0;31m \u001b[0m\u001b[0;31m\\\u001b[0m\u001b[0;34m\u001b[0m\u001b[0;34m\u001b[0m\u001b[0m\n",
            "\u001b[0;32m/usr/local/lib/python3.7/dist-packages/tensorflow/python/eager/function.py\u001b[0m in \u001b[0;36m__call__\u001b[0;34m(self, *args, **kwargs)\u001b[0m\n\u001b[1;32m   2941\u001b[0m        filtered_flat_args) = self._maybe_define_function(args, kwargs)\n\u001b[1;32m   2942\u001b[0m     return graph_function._call_flat(\n\u001b[0;32m-> 2943\u001b[0;31m         filtered_flat_args, captured_inputs=graph_function.captured_inputs)  # pylint: disable=protected-access\n\u001b[0m\u001b[1;32m   2944\u001b[0m \u001b[0;34m\u001b[0m\u001b[0m\n\u001b[1;32m   2945\u001b[0m   \u001b[0;34m@\u001b[0m\u001b[0mproperty\u001b[0m\u001b[0;34m\u001b[0m\u001b[0;34m\u001b[0m\u001b[0m\n",
            "\u001b[0;32m/usr/local/lib/python3.7/dist-packages/tensorflow/python/eager/function.py\u001b[0m in \u001b[0;36m_call_flat\u001b[0;34m(self, args, captured_inputs, cancellation_manager)\u001b[0m\n\u001b[1;32m   1917\u001b[0m       \u001b[0;31m# No tape is watching; skip to running the function.\u001b[0m\u001b[0;34m\u001b[0m\u001b[0;34m\u001b[0m\u001b[0;34m\u001b[0m\u001b[0m\n\u001b[1;32m   1918\u001b[0m       return self._build_call_outputs(self._inference_function.call(\n\u001b[0;32m-> 1919\u001b[0;31m           ctx, args, cancellation_manager=cancellation_manager))\n\u001b[0m\u001b[1;32m   1920\u001b[0m     forward_backward = self._select_forward_and_backward_functions(\n\u001b[1;32m   1921\u001b[0m         \u001b[0margs\u001b[0m\u001b[0;34m,\u001b[0m\u001b[0;34m\u001b[0m\u001b[0;34m\u001b[0m\u001b[0m\n",
            "\u001b[0;32m/usr/local/lib/python3.7/dist-packages/tensorflow/python/eager/function.py\u001b[0m in \u001b[0;36mcall\u001b[0;34m(self, ctx, args, cancellation_manager)\u001b[0m\n\u001b[1;32m    558\u001b[0m               \u001b[0minputs\u001b[0m\u001b[0;34m=\u001b[0m\u001b[0margs\u001b[0m\u001b[0;34m,\u001b[0m\u001b[0;34m\u001b[0m\u001b[0;34m\u001b[0m\u001b[0m\n\u001b[1;32m    559\u001b[0m               \u001b[0mattrs\u001b[0m\u001b[0;34m=\u001b[0m\u001b[0mattrs\u001b[0m\u001b[0;34m,\u001b[0m\u001b[0;34m\u001b[0m\u001b[0;34m\u001b[0m\u001b[0m\n\u001b[0;32m--> 560\u001b[0;31m               ctx=ctx)\n\u001b[0m\u001b[1;32m    561\u001b[0m         \u001b[0;32melse\u001b[0m\u001b[0;34m:\u001b[0m\u001b[0;34m\u001b[0m\u001b[0;34m\u001b[0m\u001b[0m\n\u001b[1;32m    562\u001b[0m           outputs = execute.execute_with_cancellation(\n",
            "\u001b[0;32m/usr/local/lib/python3.7/dist-packages/tensorflow/python/eager/execute.py\u001b[0m in \u001b[0;36mquick_execute\u001b[0;34m(op_name, num_outputs, inputs, attrs, ctx, name)\u001b[0m\n\u001b[1;32m     58\u001b[0m     \u001b[0mctx\u001b[0m\u001b[0;34m.\u001b[0m\u001b[0mensure_initialized\u001b[0m\u001b[0;34m(\u001b[0m\u001b[0;34m)\u001b[0m\u001b[0;34m\u001b[0m\u001b[0;34m\u001b[0m\u001b[0m\n\u001b[1;32m     59\u001b[0m     tensors = pywrap_tfe.TFE_Py_Execute(ctx._handle, device_name, op_name,\n\u001b[0;32m---> 60\u001b[0;31m                                         inputs, attrs, num_outputs)\n\u001b[0m\u001b[1;32m     61\u001b[0m   \u001b[0;32mexcept\u001b[0m \u001b[0mcore\u001b[0m\u001b[0;34m.\u001b[0m\u001b[0m_NotOkStatusException\u001b[0m \u001b[0;32mas\u001b[0m \u001b[0me\u001b[0m\u001b[0;34m:\u001b[0m\u001b[0;34m\u001b[0m\u001b[0;34m\u001b[0m\u001b[0m\n\u001b[1;32m     62\u001b[0m     \u001b[0;32mif\u001b[0m \u001b[0mname\u001b[0m \u001b[0;32mis\u001b[0m \u001b[0;32mnot\u001b[0m \u001b[0;32mNone\u001b[0m\u001b[0;34m:\u001b[0m\u001b[0;34m\u001b[0m\u001b[0;34m\u001b[0m\u001b[0m\n",
            "\u001b[0;31mKeyboardInterrupt\u001b[0m: "
          ]
        }
      ]
    },
    {
      "cell_type": "code",
      "metadata": {
        "id": "K0s0iAqkfS8J"
      },
      "source": [
        "import smtplib, ssl\n",
        "\n",
        "port = 465  # For SSL\n",
        "smtp_server = \"smtp.gmail.com\"\n",
        "sender_email = \"nuowen0612@gmail.com\"  # Enter your address\n",
        "receiver_email = \"nuowen.lei@concordacademy.org\"  # Enter receiver address\n",
        "password = 'zbhnzczsfxnailzj'\n",
        "message = \"\"\"\\\n",
        "Subject: IT FINISHED RUNNING\n",
        "\n",
        "GO UPSTAIRS\"\"\"\n",
        "\n",
        "context = ssl.create_default_context()\n",
        "with smtplib.SMTP_SSL(smtp_server, port, context=context) as server:\n",
        "    server.login(sender_email, password)\n",
        "    server.sendmail(sender_email, receiver_email, message)"
      ],
      "execution_count": null,
      "outputs": []
    },
    {
      "cell_type": "code",
      "metadata": {
        "id": "hiy-M_7VftgV"
      },
      "source": [
        "def get_normal_lstm_model(feature_length, time_length, pred_length, batch_size):\n",
        "    model = Sequential()\n",
        "    model.add(LSTM(128, return_sequences=True, stateful=True, batch_size=batch_size, input_shape=(feature_length, time_length)))\n",
        "    model.add(LSTM(64, return_sequences=False, stateful=True))\n",
        "    model.add(Dense(100, activation='relu'))\n",
        "    model.add(Dense(pred_length, activation='relu'))\n",
        "    model.compile(\n",
        "        loss='mse',\n",
        "        optimizer='adam',\n",
        "        metrics=['mse', 'mae']\n",
        "    )\n",
        "    print(model.summary())\n",
        "    return model"
      ],
      "execution_count": 42,
      "outputs": []
    },
    {
      "cell_type": "code",
      "metadata": {
        "id": "_6uEhsZgxqvw"
      },
      "source": [
        "X_v2, y_v2 = get_x_y(horizontal_img_np, y_val, 128, TIME_TEST_LENGTH)"
      ],
      "execution_count": 43,
      "outputs": []
    },
    {
      "cell_type": "code",
      "metadata": {
        "id": "YLTFB_9qy0XF",
        "colab": {
          "base_uri": "https://localhost:8080/"
        },
        "outputId": "02e4f568-cd66-40d2-faa9-17bb773f6730"
      },
      "source": [
        "X_v2 = X_v2.reshape(X_v2.shape[0], X_v2.shape[1], X_v2.shape[2])\n",
        "y_v2 = y_v2.reshape(y_v2.shape[0])\n",
        "print(X_v2.shape, y_v2.shape)"
      ],
      "execution_count": 44,
      "outputs": [
        {
          "output_type": "stream",
          "text": [
            "(225, 232, 128) (225,)\n"
          ],
          "name": "stdout"
        }
      ]
    },
    {
      "cell_type": "code",
      "metadata": {
        "id": "AZ8LxvNWzasi"
      },
      "source": [
        "BATCH_SIZE = 15"
      ],
      "execution_count": 45,
      "outputs": []
    },
    {
      "cell_type": "code",
      "metadata": {
        "id": "zLKrCvStwurS",
        "colab": {
          "base_uri": "https://localhost:8080/"
        },
        "outputId": "f7472b6d-d8f1-4d0f-8d56-e352e3e7ea3a"
      },
      "source": [
        "model_v2 = get_normal_lstm_model(X_v2.shape[1], TIME_LENGTH, TIME_TEST_LENGTH, BATCH_SIZE)"
      ],
      "execution_count": 46,
      "outputs": [
        {
          "output_type": "stream",
          "text": [
            "Model: \"sequential_1\"\n",
            "_________________________________________________________________\n",
            "Layer (type)                 Output Shape              Param #   \n",
            "=================================================================\n",
            "lstm (LSTM)                  (15, 232, 128)            131584    \n",
            "_________________________________________________________________\n",
            "lstm_1 (LSTM)                (15, 64)                  49408     \n",
            "_________________________________________________________________\n",
            "dense_2 (Dense)              (15, 100)                 6500      \n",
            "_________________________________________________________________\n",
            "dense_3 (Dense)              (15, 1)                   101       \n",
            "=================================================================\n",
            "Total params: 187,593\n",
            "Trainable params: 187,593\n",
            "Non-trainable params: 0\n",
            "_________________________________________________________________\n",
            "None\n"
          ],
          "name": "stdout"
        }
      ]
    },
    {
      "cell_type": "code",
      "metadata": {
        "id": "kJlnAH5QxnzP",
        "colab": {
          "base_uri": "https://localhost:8080/"
        },
        "outputId": "c083d691-b771-4090-9634-a93592b87ca4"
      },
      "source": [
        "full_df.shape"
      ],
      "execution_count": 47,
      "outputs": [
        {
          "output_type": "execute_result",
          "data": {
            "text/plain": [
              "(354, 232)"
            ]
          },
          "metadata": {
            "tags": []
          },
          "execution_count": 47
        }
      ]
    },
    {
      "cell_type": "code",
      "metadata": {
        "id": "CQ7Ope9SyVdQ"
      },
      "source": [
        "X_train2, X_test2, y_train2, y_test2 = train_test_split(X_v2, y_v2, random_state=0, train_size=0.8)"
      ],
      "execution_count": 48,
      "outputs": []
    },
    {
      "cell_type": "code",
      "metadata": {
        "id": "F1HBbKMtzs6U",
        "colab": {
          "base_uri": "https://localhost:8080/"
        },
        "outputId": "c8e7025e-8367-466c-dd76-a2aafda1c201"
      },
      "source": [
        "print(X_train2.shape, X_test2.shape, y_train2.shape, y_test2.shape)"
      ],
      "execution_count": 49,
      "outputs": [
        {
          "output_type": "stream",
          "text": [
            "(180, 232, 128) (45, 232, 128) (180,) (45,)\n"
          ],
          "name": "stdout"
        }
      ]
    },
    {
      "cell_type": "code",
      "metadata": {
        "id": "4zeldO--zwYO",
        "colab": {
          "base_uri": "https://localhost:8080/"
        },
        "outputId": "c8a69744-9e4b-4994-e60c-d3b03ec00c56"
      },
      "source": [
        "history = model_v2.fit(X_train2, y_train2, batch_size=BATCH_SIZE, epochs=10)"
      ],
      "execution_count": 50,
      "outputs": [
        {
          "output_type": "stream",
          "text": [
            "Epoch 1/10\n",
            "12/12 [==============================] - 2s 27ms/step - loss: 337995.3293 - mse: 337995.3293 - mae: 479.7411\n",
            "Epoch 2/10\n",
            "12/12 [==============================] - 0s 18ms/step - loss: 359726.9712 - mse: 359726.9712 - mae: 485.6384\n",
            "Epoch 3/10\n",
            "12/12 [==============================] - 0s 18ms/step - loss: 347619.9207 - mse: 347619.9207 - mae: 476.9088\n",
            "Epoch 4/10\n",
            "12/12 [==============================] - 0s 17ms/step - loss: 311636.1490 - mse: 311636.1490 - mae: 457.7212\n",
            "Epoch 5/10\n",
            "12/12 [==============================] - 0s 17ms/step - loss: 281680.3474 - mse: 281680.3474 - mae: 425.7311\n",
            "Epoch 6/10\n",
            "12/12 [==============================] - 0s 17ms/step - loss: 258862.5733 - mse: 258862.5733 - mae: 414.9092\n",
            "Epoch 7/10\n",
            "12/12 [==============================] - 0s 17ms/step - loss: 291837.9255 - mse: 291837.9255 - mae: 438.0514\n",
            "Epoch 8/10\n",
            "12/12 [==============================] - 0s 18ms/step - loss: 237598.7885 - mse: 237598.7885 - mae: 391.4600\n",
            "Epoch 9/10\n",
            "12/12 [==============================] - 0s 17ms/step - loss: 252689.5637 - mse: 252689.5637 - mae: 394.2752\n",
            "Epoch 10/10\n",
            "12/12 [==============================] - 0s 18ms/step - loss: 212435.8822 - mse: 212435.8822 - mae: 366.8943\n"
          ],
          "name": "stdout"
        }
      ]
    },
    {
      "cell_type": "code",
      "metadata": {
        "id": "GvFwYRlBz74j"
      },
      "source": [
        ""
      ],
      "execution_count": null,
      "outputs": []
    },
    {
      "cell_type": "markdown",
      "metadata": {
        "id": "CLANxwhD0tyP"
      },
      "source": [
        "# Make into category prediction instead of regression"
      ]
    },
    {
      "cell_type": "code",
      "metadata": {
        "id": "r5Sp8Gxd0ynv"
      },
      "source": [
        "def split_category(y, num_categories):\n",
        "  m = np.max(y)\n",
        "  cutoff = m/num_categories\n",
        "  categorical_y = []\n",
        "  for val in y:\n",
        "    onehot = np.zeros(num_categories)\n",
        "    for i in range(num_categories):\n",
        "      if (i*cutoff) <= val <= ((i+1)*cutoff):\n",
        "        onehot[i] = 1\n",
        "        categorical_y.append(onehot)\n",
        "        break\n",
        "  return np.array(categorical_y)\n"
      ],
      "execution_count": 51,
      "outputs": []
    },
    {
      "cell_type": "code",
      "metadata": {
        "id": "wt0QozycLd3I"
      },
      "source": [
        "from tensorflow.keras.layers import MaxPooling2D, UpSampling2D\n",
        "\n",
        "def get_categorical_cnn_model(feature_length, time_length, pred_categories):\n",
        "    model = Sequential()\n",
        "    model.add(Conv2D(128, (3,3), input_shape=(feature_length, time_length, 1), padding='same', activation='relu'))\n",
        "    model.add(MaxPooling2D())\n",
        "    model.add(Dropout(0.3))\n",
        "    model.add(Conv2D(128, (3,3), padding='same', activation='relu'))\n",
        "    model.add(MaxPooling2D())\n",
        "    model.add(Dropout(0.3))\n",
        "    model.add(Conv2D(128, (3,3), padding='same', activation='relu'))\n",
        "    model.add(MaxPooling2D())\n",
        "    model.add(Dropout(0.3))\n",
        "    model.add(Conv2D(128, (3,3), padding='same', activation='relu'))\n",
        "    model.add(MaxPooling2D())\n",
        "    model.add(Flatten())\n",
        "    model.add(Dense(100, activation='relu'))\n",
        "    model.add(Dense(pred_categories, activation='softmax'))\n",
        "    model.compile(\n",
        "        loss='categorical_crossentropy',\n",
        "        optimizer='adam',\n",
        "        metrics=['accuracy']\n",
        "    )\n",
        "    print(model.summary())\n",
        "    return model\n",
        "  "
      ],
      "execution_count": 84,
      "outputs": []
    },
    {
      "cell_type": "code",
      "metadata": {
        "id": "_OpJ8Dz0MEN_",
        "colab": {
          "base_uri": "https://localhost:8080/"
        },
        "outputId": "e4624965-34fa-4bdf-a78c-148639123912"
      },
      "source": [
        "NUM_CATEGORIES = 4\n",
        "\n",
        "X_v3, y_v3_raw = get_x_y(horizontal_img_np, y_val, TIME_LENGTH, TIME_TEST_LENGTH)\n",
        "y_v3 = split_category(y_v3_raw, NUM_CATEGORIES)\n",
        "X_train3, X_test3, y_train3, y_test3 = train_test_split(X_v3, y_v3, random_state=0, train_size=0.8)\n",
        "print(X_train3.shape, X_test3.shape, y_train3.shape, y_test3.shape)"
      ],
      "execution_count": 85,
      "outputs": [
        {
          "output_type": "stream",
          "text": [
            "(180, 232, 128, 1) (45, 232, 128, 1) (180, 4) (45, 4)\n"
          ],
          "name": "stdout"
        }
      ]
    },
    {
      "cell_type": "code",
      "metadata": {
        "id": "yXLzkGsmM7Oh",
        "colab": {
          "base_uri": "https://localhost:8080/"
        },
        "outputId": "9931476b-9fe1-47ca-f63a-39d37181a903"
      },
      "source": [
        "model_v3 = get_categorical_cnn_model(X_train3.shape[1], TIME_LENGTH, NUM_CATEGORIES)"
      ],
      "execution_count": 92,
      "outputs": [
        {
          "output_type": "stream",
          "text": [
            "Model: \"sequential_11\"\n",
            "_________________________________________________________________\n",
            "Layer (type)                 Output Shape              Param #   \n",
            "=================================================================\n",
            "conv2d_54 (Conv2D)           (None, 232, 128, 128)     1280      \n",
            "_________________________________________________________________\n",
            "max_pooling2d_37 (MaxPooling (None, 116, 64, 128)      0         \n",
            "_________________________________________________________________\n",
            "dropout_41 (Dropout)         (None, 116, 64, 128)      0         \n",
            "_________________________________________________________________\n",
            "conv2d_55 (Conv2D)           (None, 116, 64, 128)      147584    \n",
            "_________________________________________________________________\n",
            "max_pooling2d_38 (MaxPooling (None, 58, 32, 128)       0         \n",
            "_________________________________________________________________\n",
            "dropout_42 (Dropout)         (None, 58, 32, 128)       0         \n",
            "_________________________________________________________________\n",
            "conv2d_56 (Conv2D)           (None, 58, 32, 128)       147584    \n",
            "_________________________________________________________________\n",
            "max_pooling2d_39 (MaxPooling (None, 29, 16, 128)       0         \n",
            "_________________________________________________________________\n",
            "dropout_43 (Dropout)         (None, 29, 16, 128)       0         \n",
            "_________________________________________________________________\n",
            "conv2d_57 (Conv2D)           (None, 29, 16, 128)       147584    \n",
            "_________________________________________________________________\n",
            "max_pooling2d_40 (MaxPooling (None, 14, 8, 128)        0         \n",
            "_________________________________________________________________\n",
            "flatten_9 (Flatten)          (None, 14336)             0         \n",
            "_________________________________________________________________\n",
            "dense_20 (Dense)             (None, 100)               1433700   \n",
            "_________________________________________________________________\n",
            "dense_21 (Dense)             (None, 4)                 404       \n",
            "=================================================================\n",
            "Total params: 1,878,136\n",
            "Trainable params: 1,878,136\n",
            "Non-trainable params: 0\n",
            "_________________________________________________________________\n",
            "None\n"
          ],
          "name": "stdout"
        }
      ]
    },
    {
      "cell_type": "code",
      "metadata": {
        "id": "ou16DKrlN70L",
        "colab": {
          "base_uri": "https://localhost:8080/"
        },
        "outputId": "8f7008f1-6a80-4c10-e81e-87330041cde6"
      },
      "source": [
        "history = model_v3.fit(X_train3, y_train3, batch_size=1, epochs=150)"
      ],
      "execution_count": 93,
      "outputs": [
        {
          "output_type": "stream",
          "text": [
            "Epoch 1/150\n",
            "180/180 [==============================] - 1s 5ms/step - loss: 1.5651 - accuracy: 0.3842\n",
            "Epoch 2/150\n",
            "180/180 [==============================] - 1s 5ms/step - loss: 1.1340 - accuracy: 0.3802\n",
            "Epoch 3/150\n",
            "180/180 [==============================] - 1s 5ms/step - loss: 1.0515 - accuracy: 0.4605\n",
            "Epoch 4/150\n",
            "180/180 [==============================] - 1s 5ms/step - loss: 0.9232 - accuracy: 0.5682\n",
            "Epoch 5/150\n",
            "180/180 [==============================] - 1s 5ms/step - loss: 0.8603 - accuracy: 0.5211\n",
            "Epoch 6/150\n",
            "180/180 [==============================] - 1s 5ms/step - loss: 0.8118 - accuracy: 0.5722\n",
            "Epoch 7/150\n",
            "180/180 [==============================] - 1s 5ms/step - loss: 0.7424 - accuracy: 0.5659\n",
            "Epoch 8/150\n",
            "180/180 [==============================] - 1s 5ms/step - loss: 0.7444 - accuracy: 0.6241\n",
            "Epoch 9/150\n",
            "180/180 [==============================] - 1s 5ms/step - loss: 0.7093 - accuracy: 0.6140\n",
            "Epoch 10/150\n",
            "180/180 [==============================] - 1s 5ms/step - loss: 0.7002 - accuracy: 0.6833\n",
            "Epoch 11/150\n",
            "180/180 [==============================] - 1s 5ms/step - loss: 0.6956 - accuracy: 0.5925\n",
            "Epoch 12/150\n",
            "180/180 [==============================] - 1s 5ms/step - loss: 0.8166 - accuracy: 0.5897\n",
            "Epoch 13/150\n",
            "180/180 [==============================] - 1s 5ms/step - loss: 0.7476 - accuracy: 0.5553\n",
            "Epoch 14/150\n",
            "180/180 [==============================] - 1s 5ms/step - loss: 0.7571 - accuracy: 0.5536\n",
            "Epoch 15/150\n",
            "180/180 [==============================] - 1s 5ms/step - loss: 0.6348 - accuracy: 0.6839\n",
            "Epoch 16/150\n",
            "180/180 [==============================] - 1s 5ms/step - loss: 0.6681 - accuracy: 0.6102\n",
            "Epoch 17/150\n",
            "180/180 [==============================] - 1s 5ms/step - loss: 0.6795 - accuracy: 0.6611\n",
            "Epoch 18/150\n",
            "180/180 [==============================] - 1s 5ms/step - loss: 0.7490 - accuracy: 0.5885\n",
            "Epoch 19/150\n",
            "180/180 [==============================] - 1s 5ms/step - loss: 0.6535 - accuracy: 0.6450\n",
            "Epoch 20/150\n",
            "180/180 [==============================] - 1s 5ms/step - loss: 0.7303 - accuracy: 0.5765\n",
            "Epoch 21/150\n",
            "180/180 [==============================] - 1s 5ms/step - loss: 0.6602 - accuracy: 0.7226\n",
            "Epoch 22/150\n",
            "180/180 [==============================] - 1s 5ms/step - loss: 0.6755 - accuracy: 0.7202\n",
            "Epoch 23/150\n",
            "180/180 [==============================] - 1s 5ms/step - loss: 0.6384 - accuracy: 0.7108\n",
            "Epoch 24/150\n",
            "180/180 [==============================] - 1s 5ms/step - loss: 0.6330 - accuracy: 0.6790\n",
            "Epoch 25/150\n",
            "180/180 [==============================] - 1s 5ms/step - loss: 0.6675 - accuracy: 0.6297\n",
            "Epoch 26/150\n",
            "180/180 [==============================] - 1s 5ms/step - loss: 0.7319 - accuracy: 0.6768\n",
            "Epoch 27/150\n",
            "180/180 [==============================] - 1s 5ms/step - loss: 0.6432 - accuracy: 0.6906\n",
            "Epoch 28/150\n",
            "180/180 [==============================] - 1s 5ms/step - loss: 0.6016 - accuracy: 0.6925\n",
            "Epoch 29/150\n",
            "180/180 [==============================] - 1s 5ms/step - loss: 0.5887 - accuracy: 0.6871\n",
            "Epoch 30/150\n",
            "180/180 [==============================] - 1s 5ms/step - loss: 0.6844 - accuracy: 0.6983\n",
            "Epoch 31/150\n",
            "180/180 [==============================] - 1s 5ms/step - loss: 0.5375 - accuracy: 0.7759\n",
            "Epoch 32/150\n",
            "180/180 [==============================] - 1s 5ms/step - loss: 0.5496 - accuracy: 0.7537\n",
            "Epoch 33/150\n",
            "180/180 [==============================] - 1s 5ms/step - loss: 0.5129 - accuracy: 0.8217\n",
            "Epoch 34/150\n",
            "180/180 [==============================] - 1s 5ms/step - loss: 0.5446 - accuracy: 0.7495\n",
            "Epoch 35/150\n",
            "180/180 [==============================] - 1s 5ms/step - loss: 0.6709 - accuracy: 0.6393\n",
            "Epoch 36/150\n",
            "180/180 [==============================] - 1s 5ms/step - loss: 0.5644 - accuracy: 0.7420\n",
            "Epoch 37/150\n",
            "180/180 [==============================] - 1s 5ms/step - loss: 0.5084 - accuracy: 0.7451\n",
            "Epoch 38/150\n",
            "180/180 [==============================] - 1s 5ms/step - loss: 0.5112 - accuracy: 0.7899\n",
            "Epoch 39/150\n",
            "180/180 [==============================] - 1s 5ms/step - loss: 0.4542 - accuracy: 0.8331\n",
            "Epoch 40/150\n",
            "180/180 [==============================] - 1s 5ms/step - loss: 0.4472 - accuracy: 0.7890\n",
            "Epoch 41/150\n",
            "180/180 [==============================] - 1s 5ms/step - loss: 0.5881 - accuracy: 0.7037\n",
            "Epoch 42/150\n",
            "180/180 [==============================] - 1s 5ms/step - loss: 0.4297 - accuracy: 0.7871\n",
            "Epoch 43/150\n",
            "180/180 [==============================] - 1s 5ms/step - loss: 0.4237 - accuracy: 0.8567\n",
            "Epoch 44/150\n",
            "180/180 [==============================] - 1s 5ms/step - loss: 0.4122 - accuracy: 0.8374\n",
            "Epoch 45/150\n",
            "180/180 [==============================] - 1s 5ms/step - loss: 0.4050 - accuracy: 0.7769\n",
            "Epoch 46/150\n",
            "180/180 [==============================] - 1s 5ms/step - loss: 0.3743 - accuracy: 0.8040\n",
            "Epoch 47/150\n",
            "180/180 [==============================] - 1s 5ms/step - loss: 0.3677 - accuracy: 0.8621\n",
            "Epoch 48/150\n",
            "180/180 [==============================] - 1s 5ms/step - loss: 0.3084 - accuracy: 0.8381\n",
            "Epoch 49/150\n",
            "180/180 [==============================] - 1s 5ms/step - loss: 0.3280 - accuracy: 0.8234\n",
            "Epoch 50/150\n",
            "180/180 [==============================] - 1s 5ms/step - loss: 0.2774 - accuracy: 0.9188\n",
            "Epoch 51/150\n",
            "180/180 [==============================] - 1s 5ms/step - loss: 0.2392 - accuracy: 0.8778\n",
            "Epoch 52/150\n",
            "180/180 [==============================] - 1s 5ms/step - loss: 0.2285 - accuracy: 0.8919\n",
            "Epoch 53/150\n",
            "180/180 [==============================] - 1s 5ms/step - loss: 0.3264 - accuracy: 0.8302\n",
            "Epoch 54/150\n",
            "180/180 [==============================] - 1s 5ms/step - loss: 0.1654 - accuracy: 0.9172\n",
            "Epoch 55/150\n",
            "180/180 [==============================] - 1s 5ms/step - loss: 0.2708 - accuracy: 0.9107\n",
            "Epoch 56/150\n",
            "180/180 [==============================] - 1s 5ms/step - loss: 0.1716 - accuracy: 0.9583\n",
            "Epoch 57/150\n",
            "180/180 [==============================] - 1s 5ms/step - loss: 0.1714 - accuracy: 0.9479\n",
            "Epoch 58/150\n",
            "180/180 [==============================] - 1s 5ms/step - loss: 0.3450 - accuracy: 0.8678\n",
            "Epoch 59/150\n",
            "180/180 [==============================] - 1s 5ms/step - loss: 0.1160 - accuracy: 0.9564\n",
            "Epoch 60/150\n",
            "180/180 [==============================] - 1s 5ms/step - loss: 0.1980 - accuracy: 0.9192\n",
            "Epoch 61/150\n",
            "180/180 [==============================] - 1s 5ms/step - loss: 0.0728 - accuracy: 0.9859\n",
            "Epoch 62/150\n",
            "180/180 [==============================] - 1s 5ms/step - loss: 0.0909 - accuracy: 0.9573\n",
            "Epoch 63/150\n",
            "180/180 [==============================] - 1s 5ms/step - loss: 0.0701 - accuracy: 0.9790\n",
            "Epoch 64/150\n",
            "180/180 [==============================] - 1s 5ms/step - loss: 0.0700 - accuracy: 0.9638\n",
            "Epoch 65/150\n",
            "180/180 [==============================] - 1s 5ms/step - loss: 0.1003 - accuracy: 0.9589\n",
            "Epoch 66/150\n",
            "180/180 [==============================] - 1s 5ms/step - loss: 0.0916 - accuracy: 0.9779\n",
            "Epoch 67/150\n",
            "180/180 [==============================] - 1s 5ms/step - loss: 0.1005 - accuracy: 0.9737\n",
            "Epoch 68/150\n",
            "180/180 [==============================] - 1s 5ms/step - loss: 0.1348 - accuracy: 0.9225\n",
            "Epoch 69/150\n",
            "180/180 [==============================] - 1s 5ms/step - loss: 0.1544 - accuracy: 0.9491\n",
            "Epoch 70/150\n",
            "180/180 [==============================] - 1s 5ms/step - loss: 0.0527 - accuracy: 0.9855\n",
            "Epoch 71/150\n",
            "180/180 [==============================] - 1s 5ms/step - loss: 0.0764 - accuracy: 0.9653\n",
            "Epoch 72/150\n",
            "180/180 [==============================] - 1s 5ms/step - loss: 0.0896 - accuracy: 0.9498\n",
            "Epoch 73/150\n",
            "180/180 [==============================] - 1s 5ms/step - loss: 0.1219 - accuracy: 0.9655\n",
            "Epoch 74/150\n",
            "180/180 [==============================] - 1s 5ms/step - loss: 0.0920 - accuracy: 0.9802\n",
            "Epoch 75/150\n",
            "180/180 [==============================] - 1s 5ms/step - loss: 0.0565 - accuracy: 0.9785\n",
            "Epoch 76/150\n",
            "180/180 [==============================] - 1s 5ms/step - loss: 0.0479 - accuracy: 0.9918\n",
            "Epoch 77/150\n",
            "180/180 [==============================] - 1s 5ms/step - loss: 0.1154 - accuracy: 0.9338\n",
            "Epoch 78/150\n",
            "180/180 [==============================] - 1s 5ms/step - loss: 0.1785 - accuracy: 0.9484\n",
            "Epoch 79/150\n",
            "180/180 [==============================] - 1s 5ms/step - loss: 0.1161 - accuracy: 0.9561\n",
            "Epoch 80/150\n",
            "180/180 [==============================] - 1s 5ms/step - loss: 0.0661 - accuracy: 0.9861\n",
            "Epoch 81/150\n",
            "180/180 [==============================] - 1s 5ms/step - loss: 0.0522 - accuracy: 0.9805\n",
            "Epoch 82/150\n",
            "180/180 [==============================] - 1s 5ms/step - loss: 0.0553 - accuracy: 0.9822\n",
            "Epoch 83/150\n",
            "180/180 [==============================] - 1s 5ms/step - loss: 0.0608 - accuracy: 0.9686\n",
            "Epoch 84/150\n",
            "180/180 [==============================] - 1s 5ms/step - loss: 0.1133 - accuracy: 0.9489\n",
            "Epoch 85/150\n",
            "180/180 [==============================] - 1s 5ms/step - loss: 0.0503 - accuracy: 0.9825\n",
            "Epoch 86/150\n",
            "180/180 [==============================] - 1s 5ms/step - loss: 0.0396 - accuracy: 0.9718\n",
            "Epoch 87/150\n",
            "180/180 [==============================] - 1s 5ms/step - loss: 0.0350 - accuracy: 0.9809\n",
            "Epoch 88/150\n",
            "180/180 [==============================] - 1s 5ms/step - loss: 0.0057 - accuracy: 1.0000\n",
            "Epoch 89/150\n",
            "180/180 [==============================] - 1s 5ms/step - loss: 0.0254 - accuracy: 0.9807\n",
            "Epoch 90/150\n",
            "180/180 [==============================] - 1s 5ms/step - loss: 0.1269 - accuracy: 0.9594\n",
            "Epoch 91/150\n",
            "180/180 [==============================] - 1s 5ms/step - loss: 0.0239 - accuracy: 0.9880\n",
            "Epoch 92/150\n",
            "180/180 [==============================] - 1s 5ms/step - loss: 0.0311 - accuracy: 0.9908\n",
            "Epoch 93/150\n",
            "180/180 [==============================] - 1s 5ms/step - loss: 0.2069 - accuracy: 0.9078\n",
            "Epoch 94/150\n",
            "180/180 [==============================] - 1s 5ms/step - loss: 0.0352 - accuracy: 0.9861\n",
            "Epoch 95/150\n",
            "180/180 [==============================] - 1s 5ms/step - loss: 0.0114 - accuracy: 0.9983\n",
            "Epoch 96/150\n",
            "180/180 [==============================] - 1s 5ms/step - loss: 0.1191 - accuracy: 0.9517\n",
            "Epoch 97/150\n",
            "180/180 [==============================] - 1s 5ms/step - loss: 0.2148 - accuracy: 0.9674\n",
            "Epoch 98/150\n",
            "180/180 [==============================] - 1s 5ms/step - loss: 0.0102 - accuracy: 0.9983\n",
            "Epoch 99/150\n",
            "180/180 [==============================] - 1s 5ms/step - loss: 0.5217 - accuracy: 0.9598\n",
            "Epoch 100/150\n",
            "180/180 [==============================] - 1s 5ms/step - loss: 0.0121 - accuracy: 1.0000\n",
            "Epoch 101/150\n",
            "180/180 [==============================] - 1s 5ms/step - loss: 0.0985 - accuracy: 0.9846\n",
            "Epoch 102/150\n",
            "180/180 [==============================] - 1s 5ms/step - loss: 0.0125 - accuracy: 0.9980\n",
            "Epoch 103/150\n",
            "180/180 [==============================] - 1s 5ms/step - loss: 0.0128 - accuracy: 1.0000\n",
            "Epoch 104/150\n",
            "180/180 [==============================] - 1s 5ms/step - loss: 0.0146 - accuracy: 0.9974\n",
            "Epoch 105/150\n",
            "180/180 [==============================] - 1s 5ms/step - loss: 0.0187 - accuracy: 0.9938\n",
            "Epoch 106/150\n",
            "180/180 [==============================] - 1s 5ms/step - loss: 0.1047 - accuracy: 0.9759\n",
            "Epoch 107/150\n",
            "180/180 [==============================] - 1s 5ms/step - loss: 0.1153 - accuracy: 0.9615\n",
            "Epoch 108/150\n",
            "180/180 [==============================] - 1s 5ms/step - loss: 0.0246 - accuracy: 0.9815\n",
            "Epoch 109/150\n",
            "180/180 [==============================] - 1s 5ms/step - loss: 0.0364 - accuracy: 0.9944\n",
            "Epoch 110/150\n",
            "180/180 [==============================] - 1s 5ms/step - loss: 0.1705 - accuracy: 0.9338\n",
            "Epoch 111/150\n",
            "180/180 [==============================] - 1s 5ms/step - loss: 0.0204 - accuracy: 0.9775\n",
            "Epoch 112/150\n",
            "180/180 [==============================] - 1s 5ms/step - loss: 0.0180 - accuracy: 0.9862\n",
            "Epoch 113/150\n",
            "180/180 [==============================] - 1s 5ms/step - loss: 0.0434 - accuracy: 0.9950\n",
            "Epoch 114/150\n",
            "180/180 [==============================] - 1s 5ms/step - loss: 0.0392 - accuracy: 0.9920\n",
            "Epoch 115/150\n",
            "180/180 [==============================] - 1s 5ms/step - loss: 0.0870 - accuracy: 0.9712\n",
            "Epoch 116/150\n",
            "180/180 [==============================] - 1s 5ms/step - loss: 0.0061 - accuracy: 1.0000\n",
            "Epoch 117/150\n",
            "180/180 [==============================] - 1s 5ms/step - loss: 0.0046 - accuracy: 1.0000\n",
            "Epoch 118/150\n",
            "180/180 [==============================] - 1s 5ms/step - loss: 0.0025 - accuracy: 1.0000\n",
            "Epoch 119/150\n",
            "180/180 [==============================] - 1s 5ms/step - loss: 0.0014 - accuracy: 1.0000\n",
            "Epoch 120/150\n",
            "180/180 [==============================] - 1s 5ms/step - loss: 0.0087 - accuracy: 0.9983\n",
            "Epoch 121/150\n",
            "180/180 [==============================] - 1s 5ms/step - loss: 0.0287 - accuracy: 0.9882\n",
            "Epoch 122/150\n",
            "180/180 [==============================] - 1s 5ms/step - loss: 0.0143 - accuracy: 0.9894\n",
            "Epoch 123/150\n",
            "180/180 [==============================] - 1s 5ms/step - loss: 0.0702 - accuracy: 0.9828\n",
            "Epoch 124/150\n",
            "180/180 [==============================] - 1s 5ms/step - loss: 0.1197 - accuracy: 0.9688\n",
            "Epoch 125/150\n",
            "180/180 [==============================] - 1s 5ms/step - loss: 0.0795 - accuracy: 0.9775\n",
            "Epoch 126/150\n",
            "180/180 [==============================] - 1s 5ms/step - loss: 0.0081 - accuracy: 0.9991\n",
            "Epoch 127/150\n",
            "180/180 [==============================] - 1s 5ms/step - loss: 0.0490 - accuracy: 0.9864\n",
            "Epoch 128/150\n",
            "180/180 [==============================] - 1s 5ms/step - loss: 0.0159 - accuracy: 0.9959\n",
            "Epoch 129/150\n",
            "180/180 [==============================] - 1s 5ms/step - loss: 0.0097 - accuracy: 1.0000\n",
            "Epoch 130/150\n",
            "180/180 [==============================] - 1s 5ms/step - loss: 0.0025 - accuracy: 1.0000\n",
            "Epoch 131/150\n",
            "180/180 [==============================] - 1s 5ms/step - loss: 0.0406 - accuracy: 0.9742\n",
            "Epoch 132/150\n",
            "180/180 [==============================] - 1s 5ms/step - loss: 0.0029 - accuracy: 0.9980\n",
            "Epoch 133/150\n",
            "180/180 [==============================] - 1s 5ms/step - loss: 7.1968e-04 - accuracy: 1.0000\n",
            "Epoch 134/150\n",
            "180/180 [==============================] - 1s 5ms/step - loss: 0.0016 - accuracy: 1.0000\n",
            "Epoch 135/150\n",
            "180/180 [==============================] - 1s 5ms/step - loss: 0.0095 - accuracy: 0.9949\n",
            "Epoch 136/150\n",
            "180/180 [==============================] - 1s 5ms/step - loss: 0.0853 - accuracy: 0.9875\n",
            "Epoch 137/150\n",
            "180/180 [==============================] - 1s 5ms/step - loss: 0.0791 - accuracy: 0.9889\n",
            "Epoch 138/150\n",
            "180/180 [==============================] - 1s 5ms/step - loss: 0.0203 - accuracy: 0.9992\n",
            "Epoch 139/150\n",
            "180/180 [==============================] - 1s 5ms/step - loss: 0.1006 - accuracy: 0.9513\n",
            "Epoch 140/150\n",
            "180/180 [==============================] - 1s 5ms/step - loss: 0.0054 - accuracy: 1.0000\n",
            "Epoch 141/150\n",
            "180/180 [==============================] - 1s 5ms/step - loss: 0.0433 - accuracy: 0.9867\n",
            "Epoch 142/150\n",
            "180/180 [==============================] - 1s 5ms/step - loss: 0.0732 - accuracy: 0.9591\n",
            "Epoch 143/150\n",
            "180/180 [==============================] - 1s 5ms/step - loss: 0.0156 - accuracy: 0.9946\n",
            "Epoch 144/150\n",
            "180/180 [==============================] - 1s 5ms/step - loss: 0.1026 - accuracy: 0.9710\n",
            "Epoch 145/150\n",
            "180/180 [==============================] - 1s 5ms/step - loss: 0.2776 - accuracy: 0.9535\n",
            "Epoch 146/150\n",
            "180/180 [==============================] - 1s 5ms/step - loss: 0.0072 - accuracy: 1.0000\n",
            "Epoch 147/150\n",
            "180/180 [==============================] - 1s 5ms/step - loss: 0.0672 - accuracy: 0.9642\n",
            "Epoch 148/150\n",
            "180/180 [==============================] - 1s 5ms/step - loss: 0.0030 - accuracy: 0.9985\n",
            "Epoch 149/150\n",
            "180/180 [==============================] - 1s 5ms/step - loss: 0.0066 - accuracy: 0.9990\n",
            "Epoch 150/150\n",
            "180/180 [==============================] - 1s 5ms/step - loss: 0.0038 - accuracy: 1.0000\n"
          ],
          "name": "stdout"
        }
      ]
    },
    {
      "cell_type": "code",
      "metadata": {
        "id": "6akI65oTPp4P",
        "colab": {
          "base_uri": "https://localhost:8080/"
        },
        "outputId": "2f9115b7-367b-476f-c08d-502d070cf6f7"
      },
      "source": [
        "model_v3.evaluate(X_test3, y_test3, batch_size=1)"
      ],
      "execution_count": 94,
      "outputs": [
        {
          "output_type": "stream",
          "text": [
            "45/45 [==============================] - 0s 2ms/step - loss: 3.0402 - accuracy: 0.7556\n"
          ],
          "name": "stdout"
        },
        {
          "output_type": "execute_result",
          "data": {
            "text/plain": [
              "[3.040200710296631, 0.7555555701255798]"
            ]
          },
          "metadata": {
            "tags": []
          },
          "execution_count": 94
        }
      ]
    },
    {
      "cell_type": "code",
      "metadata": {
        "id": "shRH_fVMTJU1",
        "colab": {
          "base_uri": "https://localhost:8080/"
        },
        "outputId": "262055a7-5896-46ad-e970-3cc924f135c4"
      },
      "source": [
        "print(history.history.keys())"
      ],
      "execution_count": 95,
      "outputs": [
        {
          "output_type": "stream",
          "text": [
            "dict_keys(['loss', 'accuracy'])\n"
          ],
          "name": "stdout"
        }
      ]
    },
    {
      "cell_type": "code",
      "metadata": {
        "id": "lB6ZIPreRirq",
        "colab": {
          "base_uri": "https://localhost:8080/",
          "height": 282
        },
        "outputId": "2b8bb2be-3673-437d-ccff-5f509eafb99e"
      },
      "source": [
        "import matplotlib.pyplot as plt, seaborn as sns\n",
        "\n",
        "%matplotlib inline\n",
        "\n",
        "history_time = [i for i in range(len(history.history['loss']))]\n",
        "\n",
        "sns.lineplot(x=history_time, y=history.history['loss'])"
      ],
      "execution_count": 96,
      "outputs": [
        {
          "output_type": "execute_result",
          "data": {
            "text/plain": [
              "<matplotlib.axes._subplots.AxesSubplot at 0x7fcb34766f10>"
            ]
          },
          "metadata": {
            "tags": []
          },
          "execution_count": 96
        },
        {
          "output_type": "display_data",
          "data": {
            "image/png": "[encoded data removed]",
            "text/plain": [
              "<Figure size 432x288 with 1 Axes>"
            ]
          },
          "metadata": {
            "tags": [],
            "needs_background": "light"
          }
        }
      ]
    },
    {
      "cell_type": "code",
      "metadata": {
        "id": "wd-rpGakTNbQ"
      },
      "source": [
        ""
      ],
      "execution_count": null,
      "outputs": []
    }
  ]
}